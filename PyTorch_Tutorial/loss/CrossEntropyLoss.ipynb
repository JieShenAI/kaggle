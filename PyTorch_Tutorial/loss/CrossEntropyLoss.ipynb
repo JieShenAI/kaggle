{
  "nbformat": 4,
  "nbformat_minor": 0,
  "metadata": {
    "colab": {
      "name": "CrossEntropyLoss.ipynb",
      "provenance": [],
      "collapsed_sections": [],
      "toc_visible": true,
      "authorship_tag": "ABX9TyPHMjx5D6RwvStSzGDzffH6",
      "include_colab_link": true
    },
    "kernelspec": {
      "name": "python3",
      "display_name": "Python 3"
    },
    "language_info": {
      "name": "python"
    }
  },
  "cells": [
    {
      "cell_type": "markdown",
      "metadata": {
        "id": "view-in-github",
        "colab_type": "text"
      },
      "source": [
        "<a href=\"https://colab.research.google.com/github/JieShenAI/kaggle/blob/main/PyTorch_Tutorial/loss/CrossEntropyLoss.ipynb\" target=\"_parent\"><img src=\"https://colab.research.google.com/assets/colab-badge.svg\" alt=\"Open In Colab\"/></a>"
      ]
    },
    {
      "cell_type": "markdown",
      "source": [
        "参考资料：https://zhuanlan.zhihu.com/p/98785902"
      ],
      "metadata": {
        "id": "o4ji-NW2RnJl"
      }
    },
    {
      "cell_type": "code",
      "source": [
        "import torch\n",
        "import torch.nn as nn"
      ],
      "metadata": {
        "id": "GDWZy2RxQRWR"
      },
      "execution_count": 1,
      "outputs": []
    },
    {
      "cell_type": "code",
      "source": [
        "x_input=torch.randn(3,3)#随机生成输入 \n",
        "print('x_input:\\n',x_input) \n",
        "y_target=torch.tensor([1,2,0])#设置输出具体值 print('y_target\\n',y_target)"
      ],
      "metadata": {
        "colab": {
          "base_uri": "https://localhost:8080/"
        },
        "id": "V5hVA7IrQcfR",
        "outputId": "99341da6-337d-417d-fd2d-e21ad5f8e5f6"
      },
      "execution_count": 2,
      "outputs": [
        {
          "output_type": "stream",
          "name": "stdout",
          "text": [
            "x_input:\n",
            " tensor([[ 0.4550,  0.4055,  0.1093],\n",
            "        [-0.2306,  1.2533, -0.4036],\n",
            "        [-1.4791,  0.1211, -0.0784]])\n"
          ]
        }
      ]
    },
    {
      "cell_type": "code",
      "source": [
        "#计算输入softmax，此时可以看到每一行加到一起结果都是1\n",
        "softmax_func=nn.Softmax(dim=1)\n",
        "soft_output=softmax_func(x_input)\n",
        "print('soft_output:\\n',soft_output)"
      ],
      "metadata": {
        "colab": {
          "base_uri": "https://localhost:8080/"
        },
        "id": "6nn0A_s1Qpdg",
        "outputId": "9335ed92-b87a-42d0-e6f1-6de622213dd6"
      },
      "execution_count": 3,
      "outputs": [
        {
          "output_type": "stream",
          "name": "stdout",
          "text": [
            "soft_output:\n",
            " tensor([[0.3760, 0.3579, 0.2661],\n",
            "        [0.1600, 0.7055, 0.1346],\n",
            "        [0.0999, 0.4948, 0.4053]])\n"
          ]
        }
      ]
    },
    {
      "cell_type": "code",
      "source": [
        "#在softmax的基础上取log\n",
        "log_output=torch.log(soft_output)\n",
        "print('log_output:\\n',log_output)"
      ],
      "metadata": {
        "colab": {
          "base_uri": "https://localhost:8080/"
        },
        "id": "FFqDU7wkQ6ZD",
        "outputId": "a36ccac2-a072-4703-aab3-3433feb5e6d0"
      },
      "execution_count": 4,
      "outputs": [
        {
          "output_type": "stream",
          "name": "stdout",
          "text": [
            "log_output:\n",
            " tensor([[-0.9781, -1.0276, -1.3238],\n",
            "        [-1.8328, -0.3489, -2.0058],\n",
            "        [-2.3038, -0.7036, -0.9031]])\n"
          ]
        }
      ]
    },
    {
      "cell_type": "code",
      "source": [
        "#对比softmax与log的结合与nn.LogSoftmaxloss(负对数似然损失)的输出结果，发现两者是一致的。\n",
        "logsoftmax_func=nn.LogSoftmax(dim=1)\n",
        "logsoftmax_output=logsoftmax_func(x_input)\n",
        "print('logsoftmax_output:\\n',logsoftmax_output)"
      ],
      "metadata": {
        "colab": {
          "base_uri": "https://localhost:8080/"
        },
        "id": "tDETZicIRL07",
        "outputId": "0fe09b1d-12f4-4f26-c159-73802457e873"
      },
      "execution_count": 5,
      "outputs": [
        {
          "output_type": "stream",
          "name": "stdout",
          "text": [
            "logsoftmax_output:\n",
            " tensor([[-0.9781, -1.0276, -1.3238],\n",
            "        [-1.8328, -0.3489, -2.0058],\n",
            "        [-2.3038, -0.7036, -0.9031]])\n"
          ]
        }
      ]
    },
    {
      "cell_type": "code",
      "source": [
        "#pytorch中关于NLLLoss的默认参数配置为：reducetion=True、size_average=True\n",
        "nllloss_func=nn.NLLLoss()\n",
        "nlloss_output=nllloss_func(logsoftmax_output,y_target)\n",
        "print('nlloss_output:\\n',nlloss_output)"
      ],
      "metadata": {
        "colab": {
          "base_uri": "https://localhost:8080/"
        },
        "id": "IlQnmqsjRhZL",
        "outputId": "4253beb9-bc0d-4234-9644-0dc36f81f630"
      },
      "execution_count": 6,
      "outputs": [
        {
          "output_type": "stream",
          "name": "stdout",
          "text": [
            "nlloss_output:\n",
            " tensor(1.7791)\n"
          ]
        }
      ]
    },
    {
      "cell_type": "code",
      "source": [
        "(1.0276+2.0058+2.3038)/3"
      ],
      "metadata": {
        "colab": {
          "base_uri": "https://localhost:8080/"
        },
        "id": "MDCGDxteRz8r",
        "outputId": "27f7a140-f760-4c5e-994d-bb30df155844"
      },
      "execution_count": 8,
      "outputs": [
        {
          "output_type": "execute_result",
          "data": {
            "text/plain": [
              "1.7790666666666664"
            ]
          },
          "metadata": {},
          "execution_count": 8
        }
      ]
    },
    {
      "cell_type": "code",
      "source": [
        "#直接使用pytorch中的loss_func=nn.CrossEntropyLoss()看与经过NLLLoss的计算是不是一样\n",
        "crossentropyloss=nn.CrossEntropyLoss()\n",
        "crossentropyloss_output=crossentropyloss(x_input,y_target)\n",
        "print('crossentropyloss_output:\\n',crossentropyloss_output)"
      ],
      "metadata": {
        "colab": {
          "base_uri": "https://localhost:8080/"
        },
        "id": "AwfZpmuiR6I9",
        "outputId": "f13e0422-eacd-4fb2-ef3b-87e1ae4adc36"
      },
      "execution_count": 9,
      "outputs": [
        {
          "output_type": "stream",
          "name": "stdout",
          "text": [
            "crossentropyloss_output:\n",
            " tensor(1.7791)\n"
          ]
        }
      ]
    }
  ]
}