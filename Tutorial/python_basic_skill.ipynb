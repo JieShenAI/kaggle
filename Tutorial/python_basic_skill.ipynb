{
  "nbformat": 4,
  "nbformat_minor": 0,
  "metadata": {
    "colab": {
      "name": "python_basic_skill.ipynb",
      "provenance": [],
      "toc_visible": true,
      "authorship_tag": "ABX9TyONL5RYWugWK3qRahvOG5tG",
      "include_colab_link": true
    },
    "kernelspec": {
      "name": "python3",
      "display_name": "Python 3"
    },
    "language_info": {
      "name": "python"
    }
  },
  "cells": [
    {
      "cell_type": "markdown",
      "metadata": {
        "id": "view-in-github",
        "colab_type": "text"
      },
      "source": [
        "<a href=\"https://colab.research.google.com/github/JieShenAI/kaggle/blob/main/Tutorial/python_basic_skill.ipynb\" target=\"_parent\"><img src=\"https://colab.research.google.com/assets/colab-badge.svg\" alt=\"Open In Colab\"/></a>"
      ]
    },
    {
      "cell_type": "markdown",
      "source": [
        "# 运算符"
      ],
      "metadata": {
        "id": "l4Iua9SjRMXi"
      }
    },
    {
      "cell_type": "markdown",
      "source": [
        "&：按位与操作，只有 1 &1 为1，其他情况为0。可用于进位运算。\n",
        "\n",
        "|：按位或操作，只有 0|0为0，其他情况为1。\n",
        "\n",
        "~：逐位取反。\n",
        "\n",
        "^：异或，相同为0，相异为1。可用于加操作（不包括进位项）。\n",
        "\n",
        "<<：左移操作，2的幂相关\n",
        "\n",
        "\\>>：右移操作，2的幂相关"
      ],
      "metadata": {
        "id": "xmH6CcHRTyMN"
      }
    },
    {
      "cell_type": "markdown",
      "source": [
        "|=\n",
        "即：`s1 = s1 | s2 `"
      ],
      "metadata": {
        "id": "px0UwVMQRVWw"
      }
    },
    {
      "cell_type": "code",
      "source": [
        "a = 10 # 1010\n",
        "b = 3  # 0011\n",
        "a |= b # 1011 -> 11\n",
        "a"
      ],
      "metadata": {
        "colab": {
          "base_uri": "https://localhost:8080/"
        },
        "id": "ugugQZr9RLXN",
        "outputId": "b3b02f85-4998-47f7-dc2e-c588e26e9aab"
      },
      "execution_count": 14,
      "outputs": [
        {
          "output_type": "execute_result",
          "data": {
            "text/plain": [
              "11"
            ]
          },
          "metadata": {},
          "execution_count": 14
        }
      ]
    },
    {
      "cell_type": "markdown",
      "source": [
        "^"
      ],
      "metadata": {
        "id": "lhcFSOL1SGGs"
      }
    },
    {
      "cell_type": "code",
      "source": [
        "10^3 # 1001"
      ],
      "metadata": {
        "colab": {
          "base_uri": "https://localhost:8080/"
        },
        "id": "-pNwjtLASHhN",
        "outputId": "94196b80-bdbb-4358-bb9b-63d3dd6363d4"
      },
      "execution_count": 16,
      "outputs": [
        {
          "output_type": "execute_result",
          "data": {
            "text/plain": [
              "9"
            ]
          },
          "metadata": {},
          "execution_count": 16
        }
      ]
    },
    {
      "cell_type": "code",
      "source": [
        "class Solution:\n",
        "    def wordCount(self, startWords, targetWords) -> int:\n",
        "        s = set()\n",
        "        for word in startWords:\n",
        "            mask = 0\n",
        "            for ch in word:\n",
        "                mask |= 1 << (ord(ch) - ord('a'))\n",
        "            print(word,mask)\n",
        "            s.add(mask)\n",
        "        ans = 0\n",
        "        for word in targetWords:\n",
        "            mask = 0\n",
        "            for ch in word:\n",
        "                mask |= 1 << (ord(ch) - ord('a'))\n",
        "            for ch in word:\n",
        "                if mask ^ (1 << (ord(ch) - ord('a'))) in s:  # 去掉这个字符\n",
        "                    ans += 1\n",
        "                    break\n",
        "        return ans\n",
        "\n",
        "# 链接：https://leetcode-cn.com/problems/count-words-obtained-after-adding-a-letter/solution/ni-xiang-si-wei-wei-yun-suan-ha-xi-biao-l4153/"
      ],
      "metadata": {
        "id": "h3DcTO5MVOnP"
      },
      "execution_count": 26,
      "outputs": []
    },
    {
      "cell_type": "code",
      "source": [
        "startWords = [\"ant\",\"act\",\"tack\"]\n",
        "targetWords = [\"tack\",\"act\",\"acti\"]\n",
        "Solution().wordCount(startWords,targetWords)"
      ],
      "metadata": {
        "colab": {
          "base_uri": "https://localhost:8080/"
        },
        "id": "0CIKGB1kVb7v",
        "outputId": "49e1c51c-736d-4860-fb55-8c1061750204"
      },
      "execution_count": 27,
      "outputs": [
        {
          "output_type": "stream",
          "name": "stdout",
          "text": [
            "ant 532481\n",
            "act 524293\n",
            "tack 525317\n"
          ]
        },
        {
          "output_type": "execute_result",
          "data": {
            "text/plain": [
              "2"
            ]
          },
          "metadata": {},
          "execution_count": 27
        }
      ]
    }
  ]
}