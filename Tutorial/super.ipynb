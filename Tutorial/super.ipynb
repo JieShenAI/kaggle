{
  "nbformat": 4,
  "nbformat_minor": 0,
  "metadata": {
    "colab": {
      "name": "super",
      "provenance": [],
      "toc_visible": true,
      "collapsed_sections": [],
      "authorship_tag": "ABX9TyOkuntnSCmg4EPB4Zqm5f+j",
      "include_colab_link": true
    },
    "kernelspec": {
      "name": "python3",
      "display_name": "Python 3"
    },
    "language_info": {
      "name": "python"
    }
  },
  "cells": [
    {
      "cell_type": "markdown",
      "metadata": {
        "id": "view-in-github",
        "colab_type": "text"
      },
      "source": [
        "<a href=\"https://colab.research.google.com/github/JieShenAI/kaggle/blob/main/Tutorial/super.ipynb\" target=\"_parent\"><img src=\"https://colab.research.google.com/assets/colab-badge.svg\" alt=\"Open In Colab\"/></a>"
      ]
    },
    {
      "cell_type": "markdown",
      "source": [
        "python继承\n",
        "\n",
        "参考链接：https://realpython.com/python-super/#an-overview-of-pythons-super-function"
      ],
      "metadata": {
        "id": "dEc4ogd4YPs8"
      }
    },
    {
      "cell_type": "markdown",
      "source": [
        "# 单继承"
      ],
      "metadata": {
        "id": "MVxss35uy-nB"
      }
    },
    {
      "cell_type": "markdown",
      "source": [
        "* `super(sub_class, self).func()` 等价于 `super().func()`\n",
        "* 若想使用子类的`func()`方法,`self.func()`; 使用父类的`func()`，super().func()\n",
        "* 若父类的构造函数不需要传参，也可以不写super\n",
        "\n"
      ],
      "metadata": {
        "id": "IoGIdeQpzFPp"
      }
    },
    {
      "cell_type": "markdown",
      "source": [
        "没有继承关系的两个类"
      ],
      "metadata": {
        "id": "79K88_mvYs7c"
      }
    },
    {
      "cell_type": "code",
      "source": [
        "class Rectangle:\n",
        "    def __init__(self, length, width):\n",
        "        self.length = length\n",
        "        self.width = width\n",
        "\n",
        "    def area(self):\n",
        "        return self.length * self.width\n",
        "\n",
        "    def perimeter(self):\n",
        "        return 2 * self.length + 2 * self.width\n",
        "\n",
        "class Square:\n",
        "    def __init__(self, length):\n",
        "        self.length = length\n",
        "\n",
        "    def area(self):\n",
        "        return self.length * self.length\n",
        "\n",
        "    def perimeter(self):\n",
        "        return 4 * self.length\n"
      ],
      "metadata": {
        "id": "LDX0-W1yYXBN"
      },
      "execution_count": null,
      "outputs": []
    },
    {
      "cell_type": "markdown",
      "source": [
        "Square继承Rectangle"
      ],
      "metadata": {
        "id": "FYtpiqGMYwn5"
      }
    },
    {
      "cell_type": "code",
      "source": [
        "class Rectangle:\n",
        "    def __init__(self, length, width):\n",
        "        self.length = length\n",
        "        self.width = width\n",
        "\n",
        "    def area(self):\n",
        "        return self.length * self.width\n",
        "\n",
        "    def perimeter(self):\n",
        "        return 2 * self.length + 2 * self.width\n",
        "\n",
        "# Here we declare that the Square class inherits from the Rectangle class\n",
        "class Square(Rectangle):\n",
        "    def __init__(self, length):\n",
        "        super().__init__(length, length)\n"
      ],
      "metadata": {
        "id": "4Pvj0DhtYm6z"
      },
      "execution_count": null,
      "outputs": []
    },
    {
      "cell_type": "markdown",
      "source": [
        "In the following code code,super() returns a delegate object to a parent class, so you call the method you want directly on it: super().area(). "
      ],
      "metadata": {
        "id": "Ao5qssgaY2tW"
      }
    },
    {
      "cell_type": "code",
      "source": [
        "class Cube(Square):\n",
        "    def surface_area(self):\n",
        "        face_area = super().area()\n",
        "        return face_area * 6\n",
        "\n",
        "    def volume(self):\n",
        "        face_area = super().area()\n",
        "        return face_area * self.length"
      ],
      "metadata": {
        "id": "1eMafyBUZBNa"
      },
      "execution_count": null,
      "outputs": []
    },
    {
      "cell_type": "markdown",
      "source": [
        "cube继承Square，Cube没有写__init__()，会自动调用父类Square的__init__()"
      ],
      "metadata": {
        "id": "5RwS5CxxZXiq"
      }
    },
    {
      "cell_type": "markdown",
      "source": [
        "Also notice that the Cube class definition does not have an .__init__(). Because Cube inherits from Square and .__init__() doesn’t really do anything differently for Cube than it already does for Square, you can skip defining it, and the .__init__() of the superclass (Square) will be called automatically. "
      ],
      "metadata": {
        "id": "NydnX0xZZ7CT"
      }
    },
    {
      "cell_type": "code",
      "source": [
        "cube = Cube(2)\n",
        "print(cube.volume())"
      ],
      "metadata": {
        "colab": {
          "base_uri": "https://localhost:8080/"
        },
        "id": "cjuuCehJZJAP",
        "outputId": "c04e8c9b-0e80-4194-a4e1-e7338c2b45be"
      },
      "execution_count": null,
      "outputs": [
        {
          "output_type": "stream",
          "name": "stdout",
          "text": [
            "8\n"
          ]
        }
      ]
    },
    {
      "cell_type": "markdown",
      "source": [
        "In Python 3, the super(Square, self) call is equivalent to the parameterless super() call. \n",
        "\n",
        "The first parameter refers to the subclass Square, while the second parameter refers to a Square object which, in this case, is self. \n",
        "\n",
        "The belowing code is same to above."
      ],
      "metadata": {
        "id": "g1QXG3mcgSfJ"
      }
    },
    {
      "cell_type": "code",
      "source": [
        "class Cube(Square):\n",
        "    def surface_area(self):\n",
        "        face_area = super(Square, self).area()\n",
        "        return face_area * 6\n",
        "\n",
        "    def volume(self):\n",
        "        face_area = super(Square, self).area()\n",
        "        return face_area * self.length\n"
      ],
      "metadata": {
        "id": "2n5wzOdVgTyh"
      },
      "execution_count": null,
      "outputs": []
    },
    {
      "cell_type": "markdown",
      "source": [
        "# super() in Multiple Inheritance"
      ],
      "metadata": {
        "id": "r2_Xrbr6g3u_"
      }
    },
    {
      "cell_type": "markdown",
      "source": [
        "多继承的父类之间是兄弟关系。\n",
        "\n",
        "若一个类继承多个类，该类具有所以父类的属性和方法。"
      ],
      "metadata": {
        "id": "b1EprcA7x4IX"
      }
    },
    {
      "cell_type": "markdown",
      "source": [
        "![](https://files.realpython.com/media/multiple_inheritance.22fc2c1ac608.png)"
      ],
      "metadata": {
        "id": "2TE1yzcfk3Uu"
      }
    },
    {
      "cell_type": "markdown",
      "source": [
        "## realPython的示例"
      ],
      "metadata": {
        "id": "4chqpeSRpu_P"
      }
    },
    {
      "cell_type": "markdown",
      "source": [
        "说实话，math公式多了，没理解这些公式"
      ],
      "metadata": {
        "id": "407zC0aopz5_"
      }
    },
    {
      "cell_type": "code",
      "source": [
        "class Triangle:\n",
        "    def __init__(self, base, height):\n",
        "        self.base = base\n",
        "        self.height = height\n",
        "\n",
        "    def area(self):\n",
        "        return 0.5 * self.base * self.height"
      ],
      "metadata": {
        "id": "sb4ywRRpnX80"
      },
      "execution_count": 18,
      "outputs": []
    },
    {
      "cell_type": "code",
      "source": [
        "class RightPyramid(Triangle, Square):\n",
        "    def __init__(self, base, slant_height):\n",
        "        self.base = base\n",
        "        self.slant_height = slant_height\n",
        "\n",
        "    def area(self):\n",
        "        base_area = super().area()\n",
        "        perimeter = super().perimeter()\n",
        "        return 0.5 * perimeter * self.slant_height + base_area\n"
      ],
      "metadata": {
        "id": "zZaDX3HJkvJl"
      },
      "execution_count": 19,
      "outputs": []
    },
    {
      "cell_type": "code",
      "source": [
        "pyramid = RightPyramid(2, 4)\n",
        "pyramid.area()"
      ],
      "metadata": {
        "colab": {
          "base_uri": "https://localhost:8080/",
          "height": 309
        },
        "id": "quRnDniflImP",
        "outputId": "0b99f731-be46-4bc5-838f-f62d62fb985c"
      },
      "execution_count": 20,
      "outputs": [
        {
          "output_type": "error",
          "ename": "AttributeError",
          "evalue": "ignored",
          "traceback": [
            "\u001b[0;31m---------------------------------------------------------------------------\u001b[0m",
            "\u001b[0;31mAttributeError\u001b[0m                            Traceback (most recent call last)",
            "\u001b[0;32m<ipython-input-20-bc97e396aa36>\u001b[0m in \u001b[0;36m<module>\u001b[0;34m()\u001b[0m\n\u001b[1;32m      1\u001b[0m \u001b[0mpyramid\u001b[0m \u001b[0;34m=\u001b[0m \u001b[0mRightPyramid\u001b[0m\u001b[0;34m(\u001b[0m\u001b[0;36m2\u001b[0m\u001b[0;34m,\u001b[0m \u001b[0;36m4\u001b[0m\u001b[0;34m)\u001b[0m\u001b[0;34m\u001b[0m\u001b[0;34m\u001b[0m\u001b[0m\n\u001b[0;32m----> 2\u001b[0;31m \u001b[0mpyramid\u001b[0m\u001b[0;34m.\u001b[0m\u001b[0marea\u001b[0m\u001b[0;34m(\u001b[0m\u001b[0;34m)\u001b[0m\u001b[0;34m\u001b[0m\u001b[0;34m\u001b[0m\u001b[0m\n\u001b[0m",
            "\u001b[0;32m<ipython-input-19-68b5c0259c86>\u001b[0m in \u001b[0;36marea\u001b[0;34m(self)\u001b[0m\n\u001b[1;32m      5\u001b[0m \u001b[0;34m\u001b[0m\u001b[0m\n\u001b[1;32m      6\u001b[0m     \u001b[0;32mdef\u001b[0m \u001b[0marea\u001b[0m\u001b[0;34m(\u001b[0m\u001b[0mself\u001b[0m\u001b[0;34m)\u001b[0m\u001b[0;34m:\u001b[0m\u001b[0;34m\u001b[0m\u001b[0;34m\u001b[0m\u001b[0m\n\u001b[0;32m----> 7\u001b[0;31m         \u001b[0mbase_area\u001b[0m \u001b[0;34m=\u001b[0m \u001b[0msuper\u001b[0m\u001b[0;34m(\u001b[0m\u001b[0;34m)\u001b[0m\u001b[0;34m.\u001b[0m\u001b[0marea\u001b[0m\u001b[0;34m(\u001b[0m\u001b[0;34m)\u001b[0m\u001b[0;34m\u001b[0m\u001b[0;34m\u001b[0m\u001b[0m\n\u001b[0m\u001b[1;32m      8\u001b[0m         \u001b[0mperimeter\u001b[0m \u001b[0;34m=\u001b[0m \u001b[0msuper\u001b[0m\u001b[0;34m(\u001b[0m\u001b[0;34m)\u001b[0m\u001b[0;34m.\u001b[0m\u001b[0mperimeter\u001b[0m\u001b[0;34m(\u001b[0m\u001b[0;34m)\u001b[0m\u001b[0;34m\u001b[0m\u001b[0;34m\u001b[0m\u001b[0m\n\u001b[1;32m      9\u001b[0m         \u001b[0;32mreturn\u001b[0m \u001b[0;36m0.5\u001b[0m \u001b[0;34m*\u001b[0m \u001b[0mperimeter\u001b[0m \u001b[0;34m*\u001b[0m \u001b[0mself\u001b[0m\u001b[0;34m.\u001b[0m\u001b[0mslant_height\u001b[0m \u001b[0;34m+\u001b[0m \u001b[0mbase_area\u001b[0m\u001b[0;34m\u001b[0m\u001b[0;34m\u001b[0m\u001b[0m\n",
            "\u001b[0;32m<ipython-input-18-274124a461a7>\u001b[0m in \u001b[0;36marea\u001b[0;34m(self)\u001b[0m\n\u001b[1;32m      5\u001b[0m \u001b[0;34m\u001b[0m\u001b[0m\n\u001b[1;32m      6\u001b[0m     \u001b[0;32mdef\u001b[0m \u001b[0marea\u001b[0m\u001b[0;34m(\u001b[0m\u001b[0mself\u001b[0m\u001b[0;34m)\u001b[0m\u001b[0;34m:\u001b[0m\u001b[0;34m\u001b[0m\u001b[0;34m\u001b[0m\u001b[0m\n\u001b[0;32m----> 7\u001b[0;31m         \u001b[0;32mreturn\u001b[0m \u001b[0;36m0.5\u001b[0m \u001b[0;34m*\u001b[0m \u001b[0mself\u001b[0m\u001b[0;34m.\u001b[0m\u001b[0mbase\u001b[0m \u001b[0;34m*\u001b[0m \u001b[0mself\u001b[0m\u001b[0;34m.\u001b[0m\u001b[0mheight\u001b[0m\u001b[0;34m\u001b[0m\u001b[0;34m\u001b[0m\u001b[0m\n\u001b[0m",
            "\u001b[0;31mAttributeError\u001b[0m: 'RightPyramid' object has no attribute 'height'"
          ]
        }
      ]
    },
    {
      "cell_type": "markdown",
      "source": [
        "Every class has an .__mro__ attribute that allows us to inspect the order, so let’s do that:"
      ],
      "metadata": {
        "id": "0SOHqp3tmvNb"
      }
    },
    {
      "cell_type": "code",
      "source": [
        "RightPyramid.__mro__"
      ],
      "metadata": {
        "colab": {
          "base_uri": "https://localhost:8080/"
        },
        "id": "fH5aHv_pmv9G",
        "outputId": "e292237e-3f78-4f3b-e94b-0ca853135b88"
      },
      "execution_count": 17,
      "outputs": [
        {
          "output_type": "execute_result",
          "data": {
            "text/plain": [
              "(__main__.RightPyramid,\n",
              " __main__.Triangle,\n",
              " __main__.Square,\n",
              " __main__.Rectangle,\n",
              " object)"
            ]
          },
          "metadata": {},
          "execution_count": 17
        }
      ]
    },
    {
      "cell_type": "markdown",
      "source": [
        "Just by changing the signature of the RightPyramid class"
      ],
      "metadata": {
        "id": "lijiuXnXnTrH"
      }
    },
    {
      "cell_type": "code",
      "source": [
        "class RightPyramid(Square, Triangle):\n",
        "    def __init__(self, base, slant_height):\n",
        "        self.base = base\n",
        "        self.slant_height = slant_height\n",
        "        super().__init__(self.base)\n",
        "\n",
        "    def area(self):\n",
        "        base_area = super().area()\n",
        "        perimeter = super().perimeter()\n",
        "        return 0.5 * perimeter * self.slant_height + base_area\n"
      ],
      "metadata": {
        "id": "cTIdSoA_nUoV"
      },
      "execution_count": 27,
      "outputs": []
    },
    {
      "cell_type": "code",
      "source": [
        "pyramid = RightPyramid(2, 4)\n",
        "RightPyramid.__mro__"
      ],
      "metadata": {
        "colab": {
          "base_uri": "https://localhost:8080/"
        },
        "id": "R9EQiYRtngRh",
        "outputId": "f9ba4305-b1ad-49ab-c93e-35ba6d7bfd64"
      },
      "execution_count": 29,
      "outputs": [
        {
          "output_type": "execute_result",
          "data": {
            "text/plain": [
              "(__main__.RightPyramid,\n",
              " __main__.Square,\n",
              " __main__.Rectangle,\n",
              " __main__.Triangle,\n",
              " object)"
            ]
          },
          "metadata": {},
          "execution_count": 29
        }
      ]
    },
    {
      "cell_type": "code",
      "source": [
        "pyramid.area()"
      ],
      "metadata": {
        "colab": {
          "base_uri": "https://localhost:8080/"
        },
        "id": "pNTLC-VUn_4w",
        "outputId": "235cdaf0-c453-4627-e9a0-369c7fabca93"
      },
      "execution_count": 30,
      "outputs": [
        {
          "output_type": "execute_result",
          "data": {
            "text/plain": [
              "20.0"
            ]
          },
          "metadata": {},
          "execution_count": 30
        }
      ]
    },
    {
      "cell_type": "markdown",
      "source": [
        "## 我的示例"
      ],
      "metadata": {
        "id": "BtZSMiG2qAkr"
      }
    },
    {
      "cell_type": "markdown",
      "source": [
        "比如，小明有两个爸爸。一个爸爸是画家，一个商人是音乐家。"
      ],
      "metadata": {
        "id": "5qc6zlczqHFT"
      }
    },
    {
      "cell_type": "code",
      "source": [
        "class painter:\n",
        "    def __init__(self,age,money):\n",
        "        self.age = age\n",
        "        self.money = money\n",
        "    def get_money(self):\n",
        "        print(\"money:{}\".format(self.money))\n",
        "    def driver(self):\n",
        "        print(\"带你兜风\")\n",
        "    def paint(self):\n",
        "        print(\"画画\")"
      ],
      "metadata": {
        "id": "az4LVjgLqDVz"
      },
      "execution_count": 31,
      "outputs": []
    },
    {
      "cell_type": "code",
      "source": [
        "p = painter(38,2800)\n",
        "p.get_money()"
      ],
      "metadata": {
        "colab": {
          "base_uri": "https://localhost:8080/"
        },
        "id": "wz46Y2QKtmMo",
        "outputId": "8671b3ee-6993-4bba-9456-30d93d8d99f0"
      },
      "execution_count": 32,
      "outputs": [
        {
          "output_type": "stream",
          "name": "stdout",
          "text": [
            "money:2800\n"
          ]
        }
      ]
    },
    {
      "cell_type": "code",
      "source": [
        "class musician():\n",
        "    def __init__(self,money):\n",
        "        self.money = money\n",
        "    def get_money(self):\n",
        "        print(\"money:{}\".format(self.money))\n",
        "    def play(self):\n",
        "        print(\"带你弹钢琴\")"
      ],
      "metadata": {
        "id": "Bs8ypfI9tzC1"
      },
      "execution_count": 37,
      "outputs": []
    },
    {
      "cell_type": "code",
      "source": [
        "m = musician(99)\n",
        "m.get_money()"
      ],
      "metadata": {
        "colab": {
          "base_uri": "https://localhost:8080/"
        },
        "id": "UTNvl-DMugJQ",
        "outputId": "375ce059-e42b-4e85-80ff-2e9f157dfac6"
      },
      "execution_count": 38,
      "outputs": [
        {
          "output_type": "stream",
          "name": "stdout",
          "text": [
            "money:99\n"
          ]
        }
      ]
    },
    {
      "cell_type": "code",
      "source": [
        "class son(musician,painter):\n",
        "    #def __init__(self,father_age,father_money):\n",
        "        #super().__init__(father_age,father_money)\n",
        "    def __init__(self,money):\n",
        "        super().__init__(money)"
      ],
      "metadata": {
        "id": "Bnoufl7FuxMY"
      },
      "execution_count": 54,
      "outputs": []
    },
    {
      "cell_type": "code",
      "source": [
        "s = son(40)\n",
        "s.get_money()\n",
        "s.play()\n",
        "s.paint()"
      ],
      "metadata": {
        "colab": {
          "base_uri": "https://localhost:8080/"
        },
        "id": "KMvveEFAvVis",
        "outputId": "864ce750-b90a-4f0b-9aa3-d9485b3ce9a0"
      },
      "execution_count": 59,
      "outputs": [
        {
          "output_type": "stream",
          "name": "stdout",
          "text": [
            "money:40\n",
            "带你弹钢琴\n",
            "画画\n"
          ]
        }
      ]
    },
    {
      "cell_type": "markdown",
      "source": [
        "总结：\n",
        "\n",
        "&emsp;一个类可以继承多个类，该类具有所以父类的属性和方法。在调用父类方法时，按照继承的顺序查找。\n",
        "\n",
        "&emsp;可通过`sub_class.__mro__()`查看顺序。"
      ],
      "metadata": {
        "id": "d-DZgBAQw7VV"
      }
    },
    {
      "cell_type": "markdown",
      "source": [
        "不写super"
      ],
      "metadata": {
        "id": "bmiLrW509i4r"
      }
    },
    {
      "cell_type": "code",
      "source": [
        "class animal:\n",
        "    def __init__(self):\n",
        "        self.age = 1\n",
        "\n",
        "class cat(animal):\n",
        "    pass"
      ],
      "metadata": {
        "id": "FZgOJ6V2881C"
      },
      "execution_count": 60,
      "outputs": []
    },
    {
      "cell_type": "code",
      "source": [
        "c = cat()\n",
        "print(c.age)"
      ],
      "metadata": {
        "colab": {
          "base_uri": "https://localhost:8080/"
        },
        "id": "61mzqSgT9OKt",
        "outputId": "773a23b1-57bf-4943-837a-74595f27e9d6"
      },
      "execution_count": 61,
      "outputs": [
        {
          "output_type": "stream",
          "name": "stdout",
          "text": [
            "1\n"
          ]
        }
      ]
    }
  ]
}