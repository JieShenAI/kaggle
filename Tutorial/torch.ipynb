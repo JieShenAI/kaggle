{
  "nbformat": 4,
  "nbformat_minor": 0,
  "metadata": {
    "colab": {
      "name": "torch.ipynb",
      "provenance": [],
      "collapsed_sections": [],
      "authorship_tag": "ABX9TyOg/53Nk6aYwBCzHPFhAP5M",
      "include_colab_link": true
    },
    "kernelspec": {
      "name": "python3",
      "display_name": "Python 3"
    },
    "language_info": {
      "name": "python"
    }
  },
  "cells": [
    {
      "cell_type": "markdown",
      "metadata": {
        "id": "view-in-github",
        "colab_type": "text"
      },
      "source": [
        "<a href=\"https://colab.research.google.com/github/JieShenAI/kaggle/blob/main/Tutorial/torch.ipynb\" target=\"_parent\"><img src=\"https://colab.research.google.com/assets/colab-badge.svg\" alt=\"Open In Colab\"/></a>"
      ]
    },
    {
      "cell_type": "markdown",
      "source": [
        "Know More:https://www.kaggle.com/kanncaa1/pytorch-tutorial-for-deep-learning-lovers/notebook"
      ],
      "metadata": {
        "id": "wZbwLtKzXjMJ"
      }
    },
    {
      "cell_type": "markdown",
      "source": [
        "# Basics of Pytorch"
      ],
      "metadata": {
        "id": "hhTe88LLXBVo"
      }
    },
    {
      "cell_type": "code",
      "source": [
        "import torch\n",
        "import numpy as np"
      ],
      "metadata": {
        "id": "JPtGRYPrXr3w"
      },
      "execution_count": 2,
      "outputs": []
    },
    {
      "cell_type": "markdown",
      "source": [
        "## math"
      ],
      "metadata": {
        "id": "hFMqIe5oXeLT"
      }
    },
    {
      "cell_type": "code",
      "source": [
        "a = torch.rand(2,2)\n",
        "b = torch.rand(2,2)"
      ],
      "metadata": {
        "id": "1uedRYCZXcTU"
      },
      "execution_count": 5,
      "outputs": []
    },
    {
      "cell_type": "code",
      "source": [
        "a"
      ],
      "metadata": {
        "colab": {
          "base_uri": "https://localhost:8080/"
        },
        "id": "dUH_o8qfYI-U",
        "outputId": "1727369d-7eda-42d9-c2dd-bd03a6936092"
      },
      "execution_count": 6,
      "outputs": [
        {
          "output_type": "execute_result",
          "data": {
            "text/plain": [
              "tensor([[0.4307, 0.5045],\n",
              "        [0.5050, 0.3694]])"
            ]
          },
          "metadata": {},
          "execution_count": 6
        }
      ]
    },
    {
      "cell_type": "code",
      "source": [
        "b"
      ],
      "metadata": {
        "colab": {
          "base_uri": "https://localhost:8080/"
        },
        "id": "YI--TAtCYKOY",
        "outputId": "c7481bb4-fb36-4b75-a40b-8ce028c423f8"
      },
      "execution_count": 7,
      "outputs": [
        {
          "output_type": "execute_result",
          "data": {
            "text/plain": [
              "tensor([[0.5078, 0.8721],\n",
              "        [0.2727, 0.0625]])"
            ]
          },
          "metadata": {},
          "execution_count": 7
        }
      ]
    },
    {
      "cell_type": "code",
      "source": [
        "torch.mul(a,b)"
      ],
      "metadata": {
        "colab": {
          "base_uri": "https://localhost:8080/"
        },
        "id": "MMcr33dcYLkT",
        "outputId": "70eba0a8-095f-452d-aadc-3c4d5021d427"
      },
      "execution_count": 8,
      "outputs": [
        {
          "output_type": "execute_result",
          "data": {
            "text/plain": [
              "tensor([[0.2187, 0.4400],\n",
              "        [0.1377, 0.0231]])"
            ]
          },
          "metadata": {},
          "execution_count": 8
        }
      ]
    },
    {
      "cell_type": "code",
      "source": [
        "x_len = a.shape[0]\n",
        "y_len = b.shape[1]\n",
        "x_len,y_len\n",
        "c = []\n",
        "for i in range(x_len):\n",
        "  for j in range(y_len):\n",
        "    c.append(a[i][j]*b[i][j])"
      ],
      "metadata": {
        "id": "30BuiZe-YRzQ"
      },
      "execution_count": 22,
      "outputs": []
    },
    {
      "cell_type": "code",
      "source": [
        "c"
      ],
      "metadata": {
        "colab": {
          "base_uri": "https://localhost:8080/"
        },
        "id": "to0uTGVaazll",
        "outputId": "419f6944-fcc0-4a6f-a9d5-1b3819de2054"
      },
      "execution_count": 23,
      "outputs": [
        {
          "output_type": "execute_result",
          "data": {
            "text/plain": [
              "[tensor(0.2187), tensor(0.4400), tensor(0.1377), tensor(0.0231)]"
            ]
          },
          "metadata": {},
          "execution_count": 23
        }
      ]
    },
    {
      "cell_type": "markdown",
      "source": [
        "### list转torch"
      ],
      "metadata": {
        "id": "wfD5c9z8a2Zu"
      }
    },
    {
      "cell_type": "markdown",
      "source": [
        "[python中list、numpy、torch.tensor之间的相互转换](https://blog.csdn.net/pearl8899/article/details/110455867)"
      ],
      "metadata": {
        "id": "lHlKdWhJbM8D"
      }
    },
    {
      "cell_type": "code",
      "source": [
        "d = torch.Tensor(c)"
      ],
      "metadata": {
        "id": "WS2PtAr-a7Xv"
      },
      "execution_count": 25,
      "outputs": []
    },
    {
      "cell_type": "code",
      "source": [
        "d.view(2,-1)"
      ],
      "metadata": {
        "colab": {
          "base_uri": "https://localhost:8080/"
        },
        "id": "9VzqSx5PZc6A",
        "outputId": "da5cbcb4-f741-413d-9cc4-e0f39447ee9c"
      },
      "execution_count": 30,
      "outputs": [
        {
          "output_type": "execute_result",
          "data": {
            "text/plain": [
              "tensor([[0.2187, 0.4400],\n",
              "        [0.1377, 0.0231]])"
            ]
          },
          "metadata": {},
          "execution_count": 30
        }
      ]
    }
  ]
}