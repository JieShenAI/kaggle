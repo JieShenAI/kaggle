{
  "nbformat": 4,
  "nbformat_minor": 0,
  "metadata": {
    "colab": {
      "name": "linear_regression.ipynb",
      "provenance": [],
      "authorship_tag": "ABX9TyObkjhXR6pCCte5PVGdoNvF",
      "include_colab_link": true
    },
    "kernelspec": {
      "name": "python3",
      "display_name": "Python 3"
    },
    "language_info": {
      "name": "python"
    }
  },
  "cells": [
    {
      "cell_type": "markdown",
      "metadata": {
        "id": "view-in-github",
        "colab_type": "text"
      },
      "source": [
        "<a href=\"https://colab.research.google.com/github/JieShenAI/kaggle/blob/main/jshen/linear_regression.ipynb\" target=\"_parent\"><img src=\"https://colab.research.google.com/assets/colab-badge.svg\" alt=\"Open In Colab\"/></a>"
      ]
    },
    {
      "cell_type": "code",
      "execution_count": 2,
      "metadata": {
        "colab": {
          "base_uri": "https://localhost:8080/",
          "height": 0
        },
        "id": "L-6ibMk_dhCV",
        "outputId": "529d1a5c-947f-405b-af12-0fe36728a4ed"
      },
      "outputs": [
        {
          "output_type": "stream",
          "name": "stdout",
          "text": [
            "Collecting jshen\n",
            "  Downloading jshen-0.0.5.tar.gz (4.6 kB)\n",
            "Building wheels for collected packages: jshen\n",
            "  Building wheel for jshen (setup.py) ... \u001b[?25l\u001b[?25hdone\n",
            "  Created wheel for jshen: filename=jshen-0.0.5-py3-none-any.whl size=5364 sha256=da019074335ac3fc5359b4fe8b89b535f1c8950e76d16e4da5250784e7130e1d\n",
            "  Stored in directory: /root/.cache/pip/wheels/12/1e/86/214ed8867f6de70af41db3999af057f45629548f02048f628e\n",
            "Successfully built jshen\n",
            "Installing collected packages: jshen\n",
            "Successfully installed jshen-0.0.5\n"
          ]
        }
      ],
      "source": [
        "!pip install jshen"
      ]
    },
    {
      "cell_type": "code",
      "source": [
        "from j_torch.j_torch import *"
      ],
      "metadata": {
        "id": "RzP8-d6PdjdX"
      },
      "execution_count": 7,
      "outputs": []
    },
    {
      "cell_type": "code",
      "source": [
        "from torch import nn"
      ],
      "metadata": {
        "id": "LzjcrozbfqQj"
      },
      "execution_count": 15,
      "outputs": []
    },
    {
      "cell_type": "code",
      "source": [
        "true_w = torch.randn(100)"
      ],
      "metadata": {
        "id": "fzsd7qZVebiy"
      },
      "execution_count": 9,
      "outputs": []
    },
    {
      "cell_type": "code",
      "source": [
        "true_b = torch.randn(1)"
      ],
      "metadata": {
        "id": "54fLjgymejly"
      },
      "execution_count": 10,
      "outputs": []
    },
    {
      "cell_type": "code",
      "source": [
        "true_w"
      ],
      "metadata": {
        "id": "v0H4qXmGezxO"
      },
      "execution_count": null,
      "outputs": []
    },
    {
      "cell_type": "code",
      "source": [
        "true_b"
      ],
      "metadata": {
        "colab": {
          "base_uri": "https://localhost:8080/"
        },
        "id": "yXYazgXye2Yx",
        "outputId": "2f5e8d99-408c-4a75-a4a0-1aa9d96dc83d"
      },
      "execution_count": 12,
      "outputs": [
        {
          "output_type": "execute_result",
          "data": {
            "text/plain": [
              "tensor([0.4090])"
            ]
          },
          "metadata": {},
          "execution_count": 12
        }
      ]
    },
    {
      "cell_type": "code",
      "source": [
        "features,label = synthetic_data(true_w,true_b,10000)"
      ],
      "metadata": {
        "id": "3pBvut9qds8k"
      },
      "execution_count": 13,
      "outputs": []
    },
    {
      "cell_type": "code",
      "source": [
        "data_load = load_array(features,label,500,True)"
      ],
      "metadata": {
        "id": "CcM50JGYeJuo"
      },
      "execution_count": 14,
      "outputs": []
    },
    {
      "cell_type": "code",
      "source": [
        "net = nn.Sequential(nn.Linear(100,1))"
      ],
      "metadata": {
        "id": "JZAaRz21fgsN"
      },
      "execution_count": 16,
      "outputs": []
    },
    {
      "cell_type": "code",
      "source": [
        "loss = nn.MSELoss()"
      ],
      "metadata": {
        "id": "LPlrhDWifzZo"
      },
      "execution_count": 17,
      "outputs": []
    },
    {
      "cell_type": "code",
      "source": [
        "trainer = torch.optim.SGD(net.parameters(),lr=0.01)"
      ],
      "metadata": {
        "id": "EFB8MsPgf2w6"
      },
      "execution_count": 19,
      "outputs": []
    },
    {
      "cell_type": "code",
      "source": [
        "train_epoch(net,trainer,loss,data_load,30)"
      ],
      "metadata": {
        "id": "Fw03eql9fWpd"
      },
      "execution_count": null,
      "outputs": []
    },
    {
      "cell_type": "code",
      "source": [
        "(net[0].weight.data - true_w).sum()"
      ],
      "metadata": {
        "colab": {
          "base_uri": "https://localhost:8080/"
        },
        "id": "WYLaqGNwgUJr",
        "outputId": "42d71261-0a93-44a1-e831-50a85d788cb7"
      },
      "execution_count": 21,
      "outputs": [
        {
          "output_type": "execute_result",
          "data": {
            "text/plain": [
              "tensor(-0.0003)"
            ]
          },
          "metadata": {},
          "execution_count": 21
        }
      ]
    },
    {
      "cell_type": "code",
      "source": [
        "net[0].bias.data - true_b"
      ],
      "metadata": {
        "colab": {
          "base_uri": "https://localhost:8080/"
        },
        "id": "HwotGmcigkhb",
        "outputId": "2ae5573a-960c-4daf-8c52-f0e3659135b8"
      },
      "execution_count": 23,
      "outputs": [
        {
          "output_type": "execute_result",
          "data": {
            "text/plain": [
              "tensor([-3.3915e-05])"
            ]
          },
          "metadata": {},
          "execution_count": 23
        }
      ]
    }
  ]
}