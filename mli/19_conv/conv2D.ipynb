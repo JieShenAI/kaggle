{
  "nbformat": 4,
  "nbformat_minor": 0,
  "metadata": {
    "colab": {
      "name": "conv.ipynb",
      "provenance": [],
      "toc_visible": true,
      "collapsed_sections": [],
      "authorship_tag": "ABX9TyPAWDKcAY3yP6KjoAJye85D",
      "include_colab_link": true
    },
    "kernelspec": {
      "name": "python3",
      "display_name": "Python 3"
    },
    "language_info": {
      "name": "python"
    }
  },
  "cells": [
    {
      "cell_type": "markdown",
      "metadata": {
        "id": "view-in-github",
        "colab_type": "text"
      },
      "source": [
        "<a href=\"https://colab.research.google.com/github/JieShenAI/kaggle/blob/main/mli/19_conv/conv2D.ipynb\" target=\"_parent\"><img src=\"https://colab.research.google.com/assets/colab-badge.svg\" alt=\"Open In Colab\"/></a>"
      ]
    },
    {
      "cell_type": "code",
      "execution_count": null,
      "metadata": {
        "id": "PkIKMBwVJN0z"
      },
      "outputs": [],
      "source": [
        "import torch"
      ]
    },
    {
      "cell_type": "markdown",
      "source": [
        "# 输入"
      ],
      "metadata": {
        "id": "eLdk12YTTZmU"
      }
    },
    {
      "cell_type": "code",
      "source": [
        "x = torch.ones(4,6)\n",
        "x[:,1] = 0\n",
        "x[:,5] = 0"
      ],
      "metadata": {
        "id": "fvcQ7zhSJ-qx"
      },
      "execution_count": null,
      "outputs": []
    },
    {
      "cell_type": "code",
      "source": [
        "x,x.shape"
      ],
      "metadata": {
        "colab": {
          "base_uri": "https://localhost:8080/"
        },
        "id": "cv-YNWMTKUFj",
        "outputId": "6e177f7f-ac62-4e98-ce47-6a1478bbcc38"
      },
      "execution_count": 22,
      "outputs": [
        {
          "output_type": "execute_result",
          "data": {
            "text/plain": [
              "(tensor([[1., 0., 1., 1., 1., 0.],\n",
              "         [1., 0., 1., 1., 1., 0.],\n",
              "         [1., 0., 1., 1., 1., 0.],\n",
              "         [1., 0., 1., 1., 1., 0.]]), torch.Size([4, 6]))"
            ]
          },
          "metadata": {},
          "execution_count": 22
        }
      ]
    },
    {
      "cell_type": "markdown",
      "source": [
        "view和reshape都是返回tensor，不是原地修改"
      ],
      "metadata": {
        "id": "SNa9mbq_TPMU"
      }
    },
    {
      "cell_type": "markdown",
      "source": [
        "## 输入维度分析"
      ],
      "metadata": {
        "id": "OOGvK-uVTfuz"
      }
    },
    {
      "cell_type": "markdown",
      "source": [
        "1. batch_size\n",
        "2. input_channel"
      ],
      "metadata": {
        "id": "99VIVd5mTh3E"
      }
    },
    {
      "cell_type": "code",
      "source": [
        "x = x.view(1,1,4,6)\n",
        "x"
      ],
      "metadata": {
        "colab": {
          "base_uri": "https://localhost:8080/"
        },
        "id": "8XRDRlq-Q0iV",
        "outputId": "7a6a7a37-8edf-46d0-e492-7c24a3c90e8c"
      },
      "execution_count": 23,
      "outputs": [
        {
          "output_type": "execute_result",
          "data": {
            "text/plain": [
              "tensor([[[[1., 0., 1., 1., 1., 0.],\n",
              "          [1., 0., 1., 1., 1., 0.],\n",
              "          [1., 0., 1., 1., 1., 0.],\n",
              "          [1., 0., 1., 1., 1., 0.]]]])"
            ]
          },
          "metadata": {},
          "execution_count": 23
        }
      ]
    },
    {
      "cell_type": "code",
      "source": [
        "x.shape"
      ],
      "metadata": {
        "colab": {
          "base_uri": "https://localhost:8080/"
        },
        "id": "o-_bSQOMS9CR",
        "outputId": "4e208eef-3198-470e-eb63-2ccdb0d6c787"
      },
      "execution_count": 24,
      "outputs": [
        {
          "output_type": "execute_result",
          "data": {
            "text/plain": [
              "torch.Size([1, 1, 4, 6])"
            ]
          },
          "metadata": {},
          "execution_count": 24
        }
      ]
    },
    {
      "cell_type": "markdown",
      "source": [
        "[[1,-1]]卷积核\n",
        "\n",
        "若两列相同则返回0，两列不同返回1或者-1。"
      ],
      "metadata": {
        "id": "2ahI_3xmKytS"
      }
    },
    {
      "cell_type": "code",
      "source": [
        "K = torch.Tensor([[1,-1]])"
      ],
      "metadata": {
        "id": "uQTganDoKWYP"
      },
      "execution_count": null,
      "outputs": []
    },
    {
      "cell_type": "code",
      "source": [
        "conv = torch.nn.Conv2d(1,1,(1,2))"
      ],
      "metadata": {
        "id": "afw_8KdzLCiA"
      },
      "execution_count": 10,
      "outputs": []
    },
    {
      "cell_type": "code",
      "source": [
        "conv(x)"
      ],
      "metadata": {
        "colab": {
          "base_uri": "https://localhost:8080/"
        },
        "id": "iMTHB4fCLTyy",
        "outputId": "bd7c4690-b6d4-4dcc-b7d0-8cb6d6b9250b"
      },
      "execution_count": 25,
      "outputs": [
        {
          "output_type": "execute_result",
          "data": {
            "text/plain": [
              "tensor([[[[-1.0967, -1.1805, -1.5718, -1.5718, -1.0967],\n",
              "          [-1.0967, -1.1805, -1.5718, -1.5718, -1.0967],\n",
              "          [-1.0967, -1.1805, -1.5718, -1.5718, -1.0967],\n",
              "          [-1.0967, -1.1805, -1.5718, -1.5718, -1.0967]]]],\n",
              "       grad_fn=<ThnnConv2DBackward0>)"
            ]
          },
          "metadata": {},
          "execution_count": 25
        }
      ]
    },
    {
      "cell_type": "markdown",
      "source": [
        "# multi-kernels\n",
        "\n",
        "K = torch.randn(16,3,5,5)\n",
        "\n",
        "16对应的是输出的通道数\n",
        "\n",
        "3对应的是上一次输出的通道数\n",
        "\n",
        "5,5是卷积核"
      ],
      "metadata": {
        "id": "5fMCtUaNRTxC"
      }
    },
    {
      "cell_type": "markdown",
      "source": [
        "如何将设置的kernels传给conv"
      ],
      "metadata": {
        "id": "reHxxtTcR7dP"
      }
    }
  ]
}