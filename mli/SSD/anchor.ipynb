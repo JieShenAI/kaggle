{
  "cells": [
    {
      "cell_type": "markdown",
      "metadata": {
        "id": "view-in-github",
        "colab_type": "text"
      },
      "source": [
        "<a href=\"https://colab.research.google.com/github/JieShenAI/kaggle/blob/main/mli/SSD/anchor.ipynb\" target=\"_parent\"><img src=\"https://colab.research.google.com/assets/colab-badge.svg\" alt=\"Open In Colab\"/></a>"
      ]
    },
    {
      "cell_type": "markdown",
      "metadata": {
        "id": "rnzKqqJ1HEjU"
      },
      "source": [
        "The following additional libraries are needed to run this\n",
        "notebook. Note that running on Colab is experimental, please report a Github\n",
        "issue if you have any problem."
      ]
    },
    {
      "cell_type": "code",
      "execution_count": null,
      "metadata": {
        "id": "hAmA3oiXHEjZ"
      },
      "outputs": [],
      "source": [
        "!pip install git+https://github.com/d2l-ai/d2l-zh@release  # installing d2l"
      ]
    },
    {
      "cell_type": "code",
      "source": [
        "from google.colab import drive\n",
        "drive.mount('/content/drive')"
      ],
      "metadata": {
        "id": "rezQnQi5hp8X",
        "outputId": "75779225-9143-4274-bf1b-c63d6dc93952",
        "colab": {
          "base_uri": "https://localhost:8080/"
        }
      },
      "execution_count": 5,
      "outputs": [
        {
          "output_type": "stream",
          "name": "stdout",
          "text": [
            "Mounted at /content/drive\n"
          ]
        }
      ]
    },
    {
      "cell_type": "code",
      "source": [
        "import os"
      ],
      "metadata": {
        "id": "5q4oYSS9iVf8"
      },
      "execution_count": 6,
      "outputs": []
    },
    {
      "cell_type": "code",
      "source": [
        "os.listdir('drive/MyDrive/img')"
      ],
      "metadata": {
        "id": "D1RSeCqGjtAZ",
        "outputId": "45280e22-a308-4d9a-ff65-c2ea6b6f49fc",
        "colab": {
          "base_uri": "https://localhost:8080/"
        }
      },
      "execution_count": 10,
      "outputs": [
        {
          "output_type": "execute_result",
          "data": {
            "text/plain": [
              "['catdog.jpg']"
            ]
          },
          "metadata": {},
          "execution_count": 10
        }
      ]
    },
    {
      "cell_type": "code",
      "source": [
        "img_folder = \"drive/MyDrive/img/\""
      ],
      "metadata": {
        "id": "27dm9l1VkSFe"
      },
      "execution_count": 12,
      "outputs": []
    },
    {
      "cell_type": "markdown",
      "metadata": {
        "origin_pos": 0,
        "id": "30dhSAiSHEjd"
      },
      "source": [
        "# 锚框\n",
        ":label:`sec_anchor`\n",
        "\n",
        "目标检测算法通常会在输入图像中采样大量的区域，然后判断这些区域中是否包含我们感兴趣的目标，并调整区域边界从而更准确地预测目标的*真实边界框*（ground-truth bounding box）。\n",
        "不同的模型使用的区域采样方法可能不同。\n",
        "这里我们介绍其中的一种方法：以每个像素为中心，生成多个缩放比和宽高比（aspect ratio）不同的边界框。\n",
        "这些边界框被称为*锚框*（anchor box）我们将在 :numref:`sec_ssd`中设计一个基于锚框的目标检测模型。\n",
        "\n",
        "首先，让我们修改输出精度，以获得更简洁的输出。\n"
      ]
    },
    {
      "cell_type": "code",
      "execution_count": 2,
      "metadata": {
        "origin_pos": 2,
        "tab": [
          "pytorch"
        ],
        "id": "ASNtMDs1HEje"
      },
      "outputs": [],
      "source": [
        "%matplotlib inline\n",
        "import torch\n",
        "from d2l import torch as d2l\n",
        "\n",
        "torch.set_printoptions(2)  # 精简输出精度"
      ]
    },
    {
      "cell_type": "markdown",
      "metadata": {
        "origin_pos": 3,
        "id": "O9Eip2pdHEjf"
      },
      "source": [
        "## 生成多个锚框\n",
        "\n",
        "假设输入图像的高度为$h$，宽度为$w$。\n",
        "我们以图像的每个像素为中心生成不同形状的锚框：*缩放比*为$s\\in (0, 1]$，*宽高比*为$r > 0$。\n",
        "那么[**锚框的宽度和高度分别是$ws\\sqrt{r}$和$hs/\\sqrt{r}$。**]\n",
        "请注意，当中心位置给定时，已知宽和高的锚框是确定的。\n",
        "\n",
        "要生成多个不同形状的锚框，让我们设置许多缩放比（scale）取值$s_1,\\ldots, s_n$和许多宽高比（aspect ratio）取值$r_1,\\ldots, r_m$。\n",
        "当使用这些比例和长宽比的所有组合以每个像素为中心时，输入图像将总共有$whnm$个锚框。\n",
        "尽管这些锚框可能会覆盖所有真实边界框，但计算复杂性很容易过高。\n",
        "在实践中，(**我们只考虑**)包含$s_1$或$r_1$的(**组合：**)\n",
        "\n",
        "(**\n",
        "$$(s_1, r_1), (s_1, r_2), \\ldots, (s_1, r_m), (s_2, r_1), (s_3, r_1), \\ldots, (s_n, r_1).$$\n",
        "**)\n",
        "\n",
        "也就是说，以同一像素为中心的锚框的数量是$n+m-1$。\n",
        "对于整个输入图像，我们将共生成$wh(n+m-1)$个锚框。\n",
        "\n",
        "上述生成锚框的方法在下面的`multibox_prior`函数中实现。\n",
        "我们指定输入图像、尺寸列表和宽高比列表，然后此函数将返回所有的锚框。\n"
      ]
    },
    {
      "cell_type": "code",
      "execution_count": 3,
      "metadata": {
        "origin_pos": 5,
        "tab": [
          "pytorch"
        ],
        "id": "QGJF-R-EHEjf"
      },
      "outputs": [],
      "source": [
        "def multibox_prior(data, sizes, ratios):\n",
        "    \"\"\"生成以每个像素为中心具有不同形状的锚框\"\"\"\n",
        "    in_height, in_width = data.shape[-2:]\n",
        "    device, num_sizes, num_ratios = data.device, len(sizes), len(ratios)\n",
        "    boxes_per_pixel = (num_sizes + num_ratios - 1)\n",
        "    size_tensor = torch.tensor(sizes, device=device)\n",
        "    ratio_tensor = torch.tensor(ratios, device=device)\n",
        "\n",
        "    # 为了将锚点移动到像素的中心，需要设置偏移量。\n",
        "    # 因为一个像素的的高为1且宽为1，我们选择偏移我们的中心0.5\n",
        "    offset_h, offset_w = 0.5, 0.5\n",
        "    steps_h = 1.0 / in_height  # 在y轴上缩放步长\n",
        "    steps_w = 1.0 / in_width  # 在x轴上缩放步长\n",
        "\n",
        "    # 生成锚框的所有中心点\n",
        "    center_h = (torch.arange(in_height, device=device) + offset_h) * steps_h\n",
        "    center_w = (torch.arange(in_width, device=device) + offset_w) * steps_w\n",
        "    shift_y, shift_x = torch.meshgrid(center_h, center_w)\n",
        "    shift_y, shift_x = shift_y.reshape(-1), shift_x.reshape(-1)\n",
        "\n",
        "    # 生成“boxes_per_pixel”个高和宽，\n",
        "    # 之后用于创建锚框的四角坐标(xmin,xmax,ymin,ymax)\n",
        "    w = torch.cat((size_tensor * torch.sqrt(ratio_tensor[0]),\n",
        "                   sizes[0] * torch.sqrt(ratio_tensor[1:])))\\\n",
        "                   * in_height / in_width  # 处理矩形输入\n",
        "    h = torch.cat((size_tensor / torch.sqrt(ratio_tensor[0]),\n",
        "                   sizes[0] / torch.sqrt(ratio_tensor[1:])))\n",
        "    # 除以2来获得半高和半宽\n",
        "    anchor_manipulations = torch.stack((-w, -h, w, h)).T.repeat(\n",
        "                                        in_height * in_width, 1) / 2\n",
        "\n",
        "    # 每个中心点都将有“boxes_per_pixel”个锚框，\n",
        "    # 所以生成含所有锚框中心的网格，重复了“boxes_per_pixel”次\n",
        "    out_grid = torch.stack([shift_x, shift_y, shift_x, shift_y],\n",
        "                dim=1).repeat_interleave(boxes_per_pixel, dim=0)\n",
        "    output = out_grid + anchor_manipulations\n",
        "    return output.unsqueeze(0)"
      ]
    },
    {
      "cell_type": "markdown",
      "metadata": {
        "origin_pos": 6,
        "id": "Vkk66Y-IHEjg"
      },
      "source": [
        "我们可以看到[**返回的锚框变量`Y`的形状**]是（批量大小，锚框的数量，4）。\n"
      ]
    },
    {
      "cell_type": "code",
      "source": [
        "catdog = img_folder + 'catdog.jpg'\n",
        "catdog"
      ],
      "metadata": {
        "id": "eQEwp6bUkeN3",
        "outputId": "6a624413-9227-4000-c115-20ab5b778c20",
        "colab": {
          "base_uri": "https://localhost:8080/",
          "height": 36
        }
      },
      "execution_count": 13,
      "outputs": [
        {
          "output_type": "execute_result",
          "data": {
            "application/vnd.google.colaboratory.intrinsic+json": {
              "type": "string"
            },
            "text/plain": [
              "'drive/MyDrive/img/catdog.jpg'"
            ]
          },
          "metadata": {},
          "execution_count": 13
        }
      ]
    },
    {
      "cell_type": "code",
      "execution_count": 14,
      "metadata": {
        "origin_pos": 8,
        "tab": [
          "pytorch"
        ],
        "id": "zEQi61izHEjh",
        "outputId": "7f2f64f2-12fc-4bf8-9592-99c7ca661ee5",
        "colab": {
          "base_uri": "https://localhost:8080/"
        }
      },
      "outputs": [
        {
          "output_type": "stream",
          "name": "stdout",
          "text": [
            "561 728\n"
          ]
        },
        {
          "output_type": "stream",
          "name": "stderr",
          "text": [
            "/usr/local/lib/python3.7/dist-packages/torch/functional.py:445: UserWarning: torch.meshgrid: in an upcoming release, it will be required to pass the indexing argument. (Triggered internally at  ../aten/src/ATen/native/TensorShape.cpp:2157.)\n",
            "  return _VF.meshgrid(tensors, **kwargs)  # type: ignore[attr-defined]\n"
          ]
        },
        {
          "output_type": "execute_result",
          "data": {
            "text/plain": [
              "torch.Size([1, 2042040, 4])"
            ]
          },
          "metadata": {},
          "execution_count": 14
        }
      ],
      "source": [
        "img = d2l.plt.imread(catdog)\n",
        "h, w = img.shape[:2]\n",
        "\n",
        "print(h, w)\n",
        "X = torch.rand(size=(1, 3, h, w))\n",
        "Y = multibox_prior(X, sizes=[0.75, 0.5, 0.25], ratios=[1, 2, 0.5])\n",
        "Y.shape"
      ]
    },
    {
      "cell_type": "code",
      "source": [
        "h*w*5"
      ],
      "metadata": {
        "id": "k3K4I62Tk1lL",
        "outputId": "08db03e1-6fd0-4add-8d46-a0c7288563a9",
        "colab": {
          "base_uri": "https://localhost:8080/"
        }
      },
      "execution_count": 15,
      "outputs": [
        {
          "output_type": "execute_result",
          "data": {
            "text/plain": [
              "2042040"
            ]
          },
          "metadata": {},
          "execution_count": 15
        }
      ]
    },
    {
      "cell_type": "markdown",
      "metadata": {
        "origin_pos": 9,
        "id": "Ur-9VNcYHEji"
      },
      "source": [
        "将锚框变量`Y`的形状更改为(图像高度,图像宽度,以同一像素为中心的锚框的数量,4)后，我们可以获得以指定像素的位置为中心的所有锚框。\n",
        "在接下来的内容中，我们[**访问以（250,250）为中心的第一个锚框**]。\n",
        "\n",
        "它有四个元素：锚框左上角的$(x, y)$轴坐标和右下角的$(x, y)$轴坐标。\n",
        "将两个轴的坐标各分别除以图像的宽度和高度后，所得的值介于0和1之间。\n"
      ]
    },
    {
      "cell_type": "code",
      "source": [
        "Y.shape"
      ],
      "metadata": {
        "id": "4OfyGwQGlDRd",
        "outputId": "e5fa056c-d282-4080-8f08-51dca2251ada",
        "colab": {
          "base_uri": "https://localhost:8080/"
        }
      },
      "execution_count": 16,
      "outputs": [
        {
          "output_type": "execute_result",
          "data": {
            "text/plain": [
              "torch.Size([1, 2042040, 4])"
            ]
          },
          "metadata": {},
          "execution_count": 16
        }
      ]
    },
    {
      "cell_type": "code",
      "execution_count": 17,
      "metadata": {
        "origin_pos": 10,
        "tab": [
          "pytorch"
        ],
        "id": "YGC_VImmHEjj",
        "outputId": "6f5b92d9-a362-40ac-d5f7-b3dbe943ef23",
        "colab": {
          "base_uri": "https://localhost:8080/"
        }
      },
      "outputs": [
        {
          "output_type": "execute_result",
          "data": {
            "text/plain": [
              "tensor([0.06, 0.07, 0.63, 0.82])"
            ]
          },
          "metadata": {},
          "execution_count": 17
        }
      ],
      "source": [
        "boxes = Y.reshape(h, w, 5, 4)\n",
        "boxes[250, 250, 0, :]"
      ]
    },
    {
      "cell_type": "markdown",
      "metadata": {
        "origin_pos": 11,
        "id": "gUW_SmTgHEjj"
      },
      "source": [
        "为了[**显示以图像中以某个像素为中心的所有锚框**]，我们定义了下面的`show_bboxes`函数来在图像上绘制多个边界框。\n"
      ]
    },
    {
      "cell_type": "code",
      "execution_count": 4,
      "metadata": {
        "origin_pos": 12,
        "tab": [
          "pytorch"
        ],
        "id": "8mwez30WHEjk"
      },
      "outputs": [],
      "source": [
        "def show_bboxes(axes, bboxes, labels=None, colors=None):\n",
        "    \"\"\"显示所有边界框\"\"\"\n",
        "    def _make_list(obj, default_values=None):\n",
        "        if obj is None:\n",
        "            obj = default_values\n",
        "        elif not isinstance(obj, (list, tuple)):\n",
        "            obj = [obj]\n",
        "        return obj\n",
        "\n",
        "    labels = _make_list(labels)\n",
        "    colors = _make_list(colors, ['b', 'g', 'r', 'm', 'c'])\n",
        "    for i, bbox in enumerate(bboxes):\n",
        "        color = colors[i % len(colors)]\n",
        "        rect = d2l.bbox_to_rect(bbox.detach().numpy(), color)\n",
        "        axes.add_patch(rect)\n",
        "        if labels and len(labels) > i:\n",
        "            text_color = 'k' if color == 'w' else 'w'\n",
        "            axes.text(rect.xy[0], rect.xy[1], labels[i],\n",
        "                      va='center', ha='center', fontsize=9, color=text_color,\n",
        "                      bbox=dict(facecolor=color, lw=0))"
      ]
    },
    {
      "cell_type": "markdown",
      "metadata": {
        "origin_pos": 13,
        "id": "jtNylFGyHEjk"
      },
      "source": [
        "正如你所看到的，变量`boxes`中$x$轴和$y$轴的坐标值已分别除以图像的宽度和高度。\n",
        "绘制锚框时，我们需要恢复它们原始的坐标值。\n",
        "因此，我们在下面定义了变量`bbox_scale`。\n",
        "现在，我们可以绘制出图像中所有以(250,250)为中心的锚框了。\n",
        "如下所示，缩放比为0.75且宽高比为1的蓝色锚框很好地围绕着图像中的狗。\n"
      ]
    },
    {
      "cell_type": "code",
      "source": [
        "boxes[250, 250, :, :].shape"
      ],
      "metadata": {
        "id": "W4WfYs9ApDKc",
        "outputId": "31cb6491-e31a-4c8a-f87e-17b57172cdb8",
        "colab": {
          "base_uri": "https://localhost:8080/"
        }
      },
      "execution_count": 23,
      "outputs": [
        {
          "output_type": "execute_result",
          "data": {
            "text/plain": [
              "torch.Size([5, 4])"
            ]
          },
          "metadata": {},
          "execution_count": 23
        }
      ]
    },
    {
      "cell_type": "code",
      "execution_count": 18,
      "metadata": {
        "origin_pos": 14,
        "tab": [
          "pytorch"
        ],
        "id": "VlwHHsmYHEjl",
        "outputId": "0042b8ec-1920-4fd3-fcca-35bb0862fe56",
        "colab": {
          "base_uri": "https://localhost:8080/",
          "height": 264
        }
      },
      "outputs": [
        {
          "output_type": "display_data",
          "data": {
            "text/plain": [
              "<Figure size 252x180 with 1 Axes>"
            ],
            "image/svg+xml": "<?xml version=\"1.0\" encoding=\"utf-8\" standalone=\"no\"?>\n<!DOCTYPE svg PUBLIC \"-//W3C//DTD SVG 1.1//EN\"\n  \"http://www.w3.org/Graphics/SVG/1.1/DTD/svg11.dtd\">\n<!-- Created with matplotlib (https://matplotlib.org/) -->\n<svg height=\"182.601395pt\" version=\"1.1\" viewBox=\"0 0 229.502021 182.601395\" width=\"229.502021pt\" xmlns=\"http://www.w3.org/2000/svg\" xmlns:xlink=\"http://www.w3.org/1999/xlink\">\n <defs>\n  <style type=\"text/css\">\n*{stroke-linecap:butt;stroke-linejoin:round;}\n  </style>\n </defs>\n <g id=\"figure_1\">\n  <g id=\"patch_1\">\n   <path d=\"M 0 182.601395 \nL 229.502021 182.601395 \nL 229.502021 0 \nL 0 0 \nz\n\" style=\"fill:none;\"/>\n  </g>\n  <g id=\"axes_1\">\n   <g id=\"patch_2\">\n    <path d=\"M 45.946941 158.72327 \nL 222.302021 158.72327 \nL 222.302021 22.82327 \nL 45.946941 22.82327 \nz\n\" style=\"fill:#ffffff;\"/>\n   </g>\n   <g clip-path=\"url(#pe3ca293fcd)\">\n    <image height=\"136\" id=\"image474cb7dde0\" transform=\"scale(1 -1)translate(0 -136)\" width=\"177\" x=\"45.946941\" xlink:href=\"data:image/png;base64,\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\" y=\"-22.72327\"/>\n   </g>\n   <g id=\"patch_3\">\n    <path clip-path=\"url(#pe3ca293fcd)\" d=\"M 55.788187 32.664511 \nL 157.713184 32.664511 \nL 157.713184 134.589506 \nL 55.788187 134.589506 \nz\n\" style=\"fill:none;stroke:#0000ff;stroke-linejoin:miter;stroke-width:2;\"/>\n   </g>\n   <g id=\"patch_4\">\n    <path clip-path=\"url(#pe3ca293fcd)\" d=\"M 72.775686 49.652011 \nL 140.725677 49.652011 \nL 140.725677 117.602006 \nL 72.775686 117.602006 \nz\n\" style=\"fill:none;stroke:#008000;stroke-linejoin:miter;stroke-width:2;\"/>\n   </g>\n   <g id=\"patch_5\">\n    <path clip-path=\"url(#pe3ca293fcd)\" d=\"M 89.763184 66.639513 \nL 123.738184 66.639513 \nL 123.738184 100.614506 \nL 89.763184 100.614506 \nz\n\" style=\"fill:none;stroke:#ff0000;stroke-linejoin:miter;stroke-width:2;\"/>\n   </g>\n   <g id=\"patch_6\">\n    <path clip-path=\"url(#pe3ca293fcd)\" d=\"M 34.678828 47.591083 \nL 178.822562 47.591083 \nL 178.822562 119.662945 \nL 34.678828 119.662945 \nz\n\" style=\"fill:none;stroke:#bf00bf;stroke-linejoin:miter;stroke-width:2;\"/>\n   </g>\n   <g id=\"patch_7\">\n    <path clip-path=\"url(#pe3ca293fcd)\" d=\"M 70.714756 11.555156 \nL 142.786608 11.555156 \nL 142.786608 155.698862 \nL 70.714756 155.698862 \nz\n\" style=\"fill:none;stroke:#00bfbf;stroke-linejoin:miter;stroke-width:2;\"/>\n   </g>\n   <g id=\"matplotlib.axis_1\">\n    <g id=\"xtick_1\">\n     <g id=\"line2d_1\">\n      <defs>\n       <path d=\"M 0 0 \nL 0 3.5 \n\" id=\"m720b57aeb8\" style=\"stroke:#000000;stroke-width:0.8;\"/>\n      </defs>\n      <g>\n       <use style=\"stroke:#000000;stroke-width:0.8;\" x=\"46.068064\" xlink:href=\"#m720b57aeb8\" y=\"158.72327\"/>\n      </g>\n     </g>\n     <g id=\"text_1\">\n      <!-- 0 -->\n      <defs>\n       <path d=\"M 31.78125 66.40625 \nQ 24.171875 66.40625 20.328125 58.90625 \nQ 16.5 51.421875 16.5 36.375 \nQ 16.5 21.390625 20.328125 13.890625 \nQ 24.171875 6.390625 31.78125 6.390625 \nQ 39.453125 6.390625 43.28125 13.890625 \nQ 47.125 21.390625 47.125 36.375 \nQ 47.125 51.421875 43.28125 58.90625 \nQ 39.453125 66.40625 31.78125 66.40625 \nz\nM 31.78125 74.21875 \nQ 44.046875 74.21875 50.515625 64.515625 \nQ 56.984375 54.828125 56.984375 36.375 \nQ 56.984375 17.96875 50.515625 8.265625 \nQ 44.046875 -1.421875 31.78125 -1.421875 \nQ 19.53125 -1.421875 13.0625 8.265625 \nQ 6.59375 17.96875 6.59375 36.375 \nQ 6.59375 54.828125 13.0625 64.515625 \nQ 19.53125 74.21875 31.78125 74.21875 \nz\n\" id=\"DejaVuSans-48\"/>\n      </defs>\n      <g transform=\"translate(42.886814 173.321707)scale(0.1 -0.1)\">\n       <use xlink:href=\"#DejaVuSans-48\"/>\n      </g>\n     </g>\n    </g>\n    <g id=\"xtick_2\">\n     <g id=\"line2d_2\">\n      <g>\n       <use style=\"stroke:#000000;stroke-width:0.8;\" x=\"94.517262\" xlink:href=\"#m720b57aeb8\" y=\"158.72327\"/>\n      </g>\n     </g>\n     <g id=\"text_2\">\n      <!-- 200 -->\n      <defs>\n       <path d=\"M 19.1875 8.296875 \nL 53.609375 8.296875 \nL 53.609375 0 \nL 7.328125 0 \nL 7.328125 8.296875 \nQ 12.9375 14.109375 22.625 23.890625 \nQ 32.328125 33.6875 34.8125 36.53125 \nQ 39.546875 41.84375 41.421875 45.53125 \nQ 43.3125 49.21875 43.3125 52.78125 \nQ 43.3125 58.59375 39.234375 62.25 \nQ 35.15625 65.921875 28.609375 65.921875 \nQ 23.96875 65.921875 18.8125 64.3125 \nQ 13.671875 62.703125 7.8125 59.421875 \nL 7.8125 69.390625 \nQ 13.765625 71.78125 18.9375 73 \nQ 24.125 74.21875 28.421875 74.21875 \nQ 39.75 74.21875 46.484375 68.546875 \nQ 53.21875 62.890625 53.21875 53.421875 \nQ 53.21875 48.921875 51.53125 44.890625 \nQ 49.859375 40.875 45.40625 35.40625 \nQ 44.1875 33.984375 37.640625 27.21875 \nQ 31.109375 20.453125 19.1875 8.296875 \nz\n\" id=\"DejaVuSans-50\"/>\n      </defs>\n      <g transform=\"translate(84.973512 173.321707)scale(0.1 -0.1)\">\n       <use xlink:href=\"#DejaVuSans-50\"/>\n       <use x=\"63.623047\" xlink:href=\"#DejaVuSans-48\"/>\n       <use x=\"127.246094\" xlink:href=\"#DejaVuSans-48\"/>\n      </g>\n     </g>\n    </g>\n    <g id=\"xtick_3\">\n     <g id=\"line2d_3\">\n      <g>\n       <use style=\"stroke:#000000;stroke-width:0.8;\" x=\"142.96646\" xlink:href=\"#m720b57aeb8\" y=\"158.72327\"/>\n      </g>\n     </g>\n     <g id=\"text_3\">\n      <!-- 400 -->\n      <defs>\n       <path d=\"M 37.796875 64.3125 \nL 12.890625 25.390625 \nL 37.796875 25.390625 \nz\nM 35.203125 72.90625 \nL 47.609375 72.90625 \nL 47.609375 25.390625 \nL 58.015625 25.390625 \nL 58.015625 17.1875 \nL 47.609375 17.1875 \nL 47.609375 0 \nL 37.796875 0 \nL 37.796875 17.1875 \nL 4.890625 17.1875 \nL 4.890625 26.703125 \nz\n\" id=\"DejaVuSans-52\"/>\n      </defs>\n      <g transform=\"translate(133.42271 173.321707)scale(0.1 -0.1)\">\n       <use xlink:href=\"#DejaVuSans-52\"/>\n       <use x=\"63.623047\" xlink:href=\"#DejaVuSans-48\"/>\n       <use x=\"127.246094\" xlink:href=\"#DejaVuSans-48\"/>\n      </g>\n     </g>\n    </g>\n    <g id=\"xtick_4\">\n     <g id=\"line2d_4\">\n      <g>\n       <use style=\"stroke:#000000;stroke-width:0.8;\" x=\"191.415657\" xlink:href=\"#m720b57aeb8\" y=\"158.72327\"/>\n      </g>\n     </g>\n     <g id=\"text_4\">\n      <!-- 600 -->\n      <defs>\n       <path d=\"M 33.015625 40.375 \nQ 26.375 40.375 22.484375 35.828125 \nQ 18.609375 31.296875 18.609375 23.390625 \nQ 18.609375 15.53125 22.484375 10.953125 \nQ 26.375 6.390625 33.015625 6.390625 \nQ 39.65625 6.390625 43.53125 10.953125 \nQ 47.40625 15.53125 47.40625 23.390625 \nQ 47.40625 31.296875 43.53125 35.828125 \nQ 39.65625 40.375 33.015625 40.375 \nz\nM 52.59375 71.296875 \nL 52.59375 62.3125 \nQ 48.875 64.0625 45.09375 64.984375 \nQ 41.3125 65.921875 37.59375 65.921875 \nQ 27.828125 65.921875 22.671875 59.328125 \nQ 17.53125 52.734375 16.796875 39.40625 \nQ 19.671875 43.65625 24.015625 45.921875 \nQ 28.375 48.1875 33.59375 48.1875 \nQ 44.578125 48.1875 50.953125 41.515625 \nQ 57.328125 34.859375 57.328125 23.390625 \nQ 57.328125 12.15625 50.6875 5.359375 \nQ 44.046875 -1.421875 33.015625 -1.421875 \nQ 20.359375 -1.421875 13.671875 8.265625 \nQ 6.984375 17.96875 6.984375 36.375 \nQ 6.984375 53.65625 15.1875 63.9375 \nQ 23.390625 74.21875 37.203125 74.21875 \nQ 40.921875 74.21875 44.703125 73.484375 \nQ 48.484375 72.75 52.59375 71.296875 \nz\n\" id=\"DejaVuSans-54\"/>\n      </defs>\n      <g transform=\"translate(181.871907 173.321707)scale(0.1 -0.1)\">\n       <use xlink:href=\"#DejaVuSans-54\"/>\n       <use x=\"63.623047\" xlink:href=\"#DejaVuSans-48\"/>\n       <use x=\"127.246094\" xlink:href=\"#DejaVuSans-48\"/>\n      </g>\n     </g>\n    </g>\n   </g>\n   <g id=\"matplotlib.axis_2\">\n    <g id=\"ytick_1\">\n     <g id=\"line2d_5\">\n      <defs>\n       <path d=\"M 0 0 \nL -3.5 0 \n\" id=\"mba6f287389\" style=\"stroke:#000000;stroke-width:0.8;\"/>\n      </defs>\n      <g>\n       <use style=\"stroke:#000000;stroke-width:0.8;\" x=\"45.946941\" xlink:href=\"#mba6f287389\" y=\"22.944393\"/>\n      </g>\n     </g>\n     <g id=\"text_5\">\n      <!-- 0 -->\n      <g transform=\"translate(32.584441 26.743612)scale(0.1 -0.1)\">\n       <use xlink:href=\"#DejaVuSans-48\"/>\n      </g>\n     </g>\n    </g>\n    <g id=\"ytick_2\">\n     <g id=\"line2d_6\">\n      <g>\n       <use style=\"stroke:#000000;stroke-width:0.8;\" x=\"45.946941\" xlink:href=\"#mba6f287389\" y=\"47.168992\"/>\n      </g>\n     </g>\n     <g id=\"text_6\">\n      <!-- 100 -->\n      <defs>\n       <path d=\"M 12.40625 8.296875 \nL 28.515625 8.296875 \nL 28.515625 63.921875 \nL 10.984375 60.40625 \nL 10.984375 69.390625 \nL 28.421875 72.90625 \nL 38.28125 72.90625 \nL 38.28125 8.296875 \nL 54.390625 8.296875 \nL 54.390625 0 \nL 12.40625 0 \nz\n\" id=\"DejaVuSans-49\"/>\n      </defs>\n      <g transform=\"translate(19.859441 50.968211)scale(0.1 -0.1)\">\n       <use xlink:href=\"#DejaVuSans-49\"/>\n       <use x=\"63.623047\" xlink:href=\"#DejaVuSans-48\"/>\n       <use x=\"127.246094\" xlink:href=\"#DejaVuSans-48\"/>\n      </g>\n     </g>\n    </g>\n    <g id=\"ytick_3\">\n     <g id=\"line2d_7\">\n      <g>\n       <use style=\"stroke:#000000;stroke-width:0.8;\" x=\"45.946941\" xlink:href=\"#mba6f287389\" y=\"71.393591\"/>\n      </g>\n     </g>\n     <g id=\"text_7\">\n      <!-- 200 -->\n      <g transform=\"translate(19.859441 75.192809)scale(0.1 -0.1)\">\n       <use xlink:href=\"#DejaVuSans-50\"/>\n       <use x=\"63.623047\" xlink:href=\"#DejaVuSans-48\"/>\n       <use x=\"127.246094\" xlink:href=\"#DejaVuSans-48\"/>\n      </g>\n     </g>\n    </g>\n    <g id=\"ytick_4\">\n     <g id=\"line2d_8\">\n      <g>\n       <use style=\"stroke:#000000;stroke-width:0.8;\" x=\"45.946941\" xlink:href=\"#mba6f287389\" y=\"95.61819\"/>\n      </g>\n     </g>\n     <g id=\"text_8\">\n      <!-- 300 -->\n      <defs>\n       <path d=\"M 40.578125 39.3125 \nQ 47.65625 37.796875 51.625 33 \nQ 55.609375 28.21875 55.609375 21.1875 \nQ 55.609375 10.40625 48.1875 4.484375 \nQ 40.765625 -1.421875 27.09375 -1.421875 \nQ 22.515625 -1.421875 17.65625 -0.515625 \nQ 12.796875 0.390625 7.625 2.203125 \nL 7.625 11.71875 \nQ 11.71875 9.328125 16.59375 8.109375 \nQ 21.484375 6.890625 26.8125 6.890625 \nQ 36.078125 6.890625 40.9375 10.546875 \nQ 45.796875 14.203125 45.796875 21.1875 \nQ 45.796875 27.640625 41.28125 31.265625 \nQ 36.765625 34.90625 28.71875 34.90625 \nL 20.21875 34.90625 \nL 20.21875 43.015625 \nL 29.109375 43.015625 \nQ 36.375 43.015625 40.234375 45.921875 \nQ 44.09375 48.828125 44.09375 54.296875 \nQ 44.09375 59.90625 40.109375 62.90625 \nQ 36.140625 65.921875 28.71875 65.921875 \nQ 24.65625 65.921875 20.015625 65.03125 \nQ 15.375 64.15625 9.8125 62.3125 \nL 9.8125 71.09375 \nQ 15.4375 72.65625 20.34375 73.4375 \nQ 25.25 74.21875 29.59375 74.21875 \nQ 40.828125 74.21875 47.359375 69.109375 \nQ 53.90625 64.015625 53.90625 55.328125 \nQ 53.90625 49.265625 50.4375 45.09375 \nQ 46.96875 40.921875 40.578125 39.3125 \nz\n\" id=\"DejaVuSans-51\"/>\n      </defs>\n      <g transform=\"translate(19.859441 99.417408)scale(0.1 -0.1)\">\n       <use xlink:href=\"#DejaVuSans-51\"/>\n       <use x=\"63.623047\" xlink:href=\"#DejaVuSans-48\"/>\n       <use x=\"127.246094\" xlink:href=\"#DejaVuSans-48\"/>\n      </g>\n     </g>\n    </g>\n    <g id=\"ytick_5\">\n     <g id=\"line2d_9\">\n      <g>\n       <use style=\"stroke:#000000;stroke-width:0.8;\" x=\"45.946941\" xlink:href=\"#mba6f287389\" y=\"119.842789\"/>\n      </g>\n     </g>\n     <g id=\"text_9\">\n      <!-- 400 -->\n      <g transform=\"translate(19.859441 123.642007)scale(0.1 -0.1)\">\n       <use xlink:href=\"#DejaVuSans-52\"/>\n       <use x=\"63.623047\" xlink:href=\"#DejaVuSans-48\"/>\n       <use x=\"127.246094\" xlink:href=\"#DejaVuSans-48\"/>\n      </g>\n     </g>\n    </g>\n    <g id=\"ytick_6\">\n     <g id=\"line2d_10\">\n      <g>\n       <use style=\"stroke:#000000;stroke-width:0.8;\" x=\"45.946941\" xlink:href=\"#mba6f287389\" y=\"144.067388\"/>\n      </g>\n     </g>\n     <g id=\"text_10\">\n      <!-- 500 -->\n      <defs>\n       <path d=\"M 10.796875 72.90625 \nL 49.515625 72.90625 \nL 49.515625 64.59375 \nL 19.828125 64.59375 \nL 19.828125 46.734375 \nQ 21.96875 47.46875 24.109375 47.828125 \nQ 26.265625 48.1875 28.421875 48.1875 \nQ 40.625 48.1875 47.75 41.5 \nQ 54.890625 34.8125 54.890625 23.390625 \nQ 54.890625 11.625 47.5625 5.09375 \nQ 40.234375 -1.421875 26.90625 -1.421875 \nQ 22.3125 -1.421875 17.546875 -0.640625 \nQ 12.796875 0.140625 7.71875 1.703125 \nL 7.71875 11.625 \nQ 12.109375 9.234375 16.796875 8.0625 \nQ 21.484375 6.890625 26.703125 6.890625 \nQ 35.15625 6.890625 40.078125 11.328125 \nQ 45.015625 15.765625 45.015625 23.390625 \nQ 45.015625 31 40.078125 35.4375 \nQ 35.15625 39.890625 26.703125 39.890625 \nQ 22.75 39.890625 18.8125 39.015625 \nQ 14.890625 38.140625 10.796875 36.28125 \nz\n\" id=\"DejaVuSans-53\"/>\n      </defs>\n      <g transform=\"translate(19.859441 147.866606)scale(0.1 -0.1)\">\n       <use xlink:href=\"#DejaVuSans-53\"/>\n       <use x=\"63.623047\" xlink:href=\"#DejaVuSans-48\"/>\n       <use x=\"127.246094\" xlink:href=\"#DejaVuSans-48\"/>\n      </g>\n     </g>\n    </g>\n   </g>\n   <g id=\"patch_8\">\n    <path d=\"M 45.946941 158.72327 \nL 45.946941 22.82327 \n\" style=\"fill:none;stroke:#000000;stroke-linecap:square;stroke-linejoin:miter;stroke-width:0.8;\"/>\n   </g>\n   <g id=\"patch_9\">\n    <path d=\"M 222.302021 158.72327 \nL 222.302021 22.82327 \n\" style=\"fill:none;stroke:#000000;stroke-linecap:square;stroke-linejoin:miter;stroke-width:0.8;\"/>\n   </g>\n   <g id=\"patch_10\">\n    <path d=\"M 45.946941 158.72327 \nL 222.302021 158.72327 \n\" style=\"fill:none;stroke:#000000;stroke-linecap:square;stroke-linejoin:miter;stroke-width:0.8;\"/>\n   </g>\n   <g id=\"patch_11\">\n    <path d=\"M 45.946941 22.82327 \nL 222.302021 22.82327 \n\" style=\"fill:none;stroke:#000000;stroke-linecap:square;stroke-linejoin:miter;stroke-width:0.8;\"/>\n   </g>\n   <g id=\"text_11\">\n    <g id=\"patch_12\">\n     <path d=\"M 24.349359 40.979668 \nL 87.227015 40.979668 \nL 87.227015 24.349355 \nL 24.349359 24.349355 \nz\n\" style=\"fill:#0000ff;\"/>\n    </g>\n    <!-- s=0.75, r=1 -->\n    <defs>\n     <path d=\"M 44.28125 53.078125 \nL 44.28125 44.578125 \nQ 40.484375 46.53125 36.375 47.5 \nQ 32.28125 48.484375 27.875 48.484375 \nQ 21.1875 48.484375 17.84375 46.4375 \nQ 14.5 44.390625 14.5 40.28125 \nQ 14.5 37.15625 16.890625 35.375 \nQ 19.28125 33.59375 26.515625 31.984375 \nL 29.59375 31.296875 \nQ 39.15625 29.25 43.1875 25.515625 \nQ 47.21875 21.78125 47.21875 15.09375 \nQ 47.21875 7.46875 41.1875 3.015625 \nQ 35.15625 -1.421875 24.609375 -1.421875 \nQ 20.21875 -1.421875 15.453125 -0.5625 \nQ 10.6875 0.296875 5.421875 2 \nL 5.421875 11.28125 \nQ 10.40625 8.6875 15.234375 7.390625 \nQ 20.0625 6.109375 24.8125 6.109375 \nQ 31.15625 6.109375 34.5625 8.28125 \nQ 37.984375 10.453125 37.984375 14.40625 \nQ 37.984375 18.0625 35.515625 20.015625 \nQ 33.0625 21.96875 24.703125 23.78125 \nL 21.578125 24.515625 \nQ 13.234375 26.265625 9.515625 29.90625 \nQ 5.8125 33.546875 5.8125 39.890625 \nQ 5.8125 47.609375 11.28125 51.796875 \nQ 16.75 56 26.8125 56 \nQ 31.78125 56 36.171875 55.265625 \nQ 40.578125 54.546875 44.28125 53.078125 \nz\n\" id=\"DejaVuSans-115\"/>\n     <path d=\"M 10.59375 45.40625 \nL 73.1875 45.40625 \nL 73.1875 37.203125 \nL 10.59375 37.203125 \nz\nM 10.59375 25.484375 \nL 73.1875 25.484375 \nL 73.1875 17.1875 \nL 10.59375 17.1875 \nz\n\" id=\"DejaVuSans-61\"/>\n     <path d=\"M 10.6875 12.40625 \nL 21 12.40625 \nL 21 0 \nL 10.6875 0 \nz\n\" id=\"DejaVuSans-46\"/>\n     <path d=\"M 8.203125 72.90625 \nL 55.078125 72.90625 \nL 55.078125 68.703125 \nL 28.609375 0 \nL 18.3125 0 \nL 43.21875 64.59375 \nL 8.203125 64.59375 \nz\n\" id=\"DejaVuSans-55\"/>\n     <path d=\"M 11.71875 12.40625 \nL 22.015625 12.40625 \nL 22.015625 4 \nL 14.015625 -11.625 \nL 7.71875 -11.625 \nL 11.71875 4 \nz\n\" id=\"DejaVuSans-44\"/>\n     <path id=\"DejaVuSans-32\"/>\n     <path d=\"M 41.109375 46.296875 \nQ 39.59375 47.171875 37.8125 47.578125 \nQ 36.03125 48 33.890625 48 \nQ 26.265625 48 22.1875 43.046875 \nQ 18.109375 38.09375 18.109375 28.8125 \nL 18.109375 0 \nL 9.078125 0 \nL 9.078125 54.6875 \nL 18.109375 54.6875 \nL 18.109375 46.1875 \nQ 20.953125 51.171875 25.484375 53.578125 \nQ 30.03125 56 36.53125 56 \nQ 37.453125 56 38.578125 55.875 \nQ 39.703125 55.765625 41.0625 55.515625 \nz\n\" id=\"DejaVuSans-114\"/>\n    </defs>\n    <g style=\"fill:#ffffff;\" transform=\"translate(28.309359 35.147949)scale(0.09 -0.09)\">\n     <use xlink:href=\"#DejaVuSans-115\"/>\n     <use x=\"52.099609\" xlink:href=\"#DejaVuSans-61\"/>\n     <use x=\"135.888672\" xlink:href=\"#DejaVuSans-48\"/>\n     <use x=\"199.511719\" xlink:href=\"#DejaVuSans-46\"/>\n     <use x=\"231.298828\" xlink:href=\"#DejaVuSans-55\"/>\n     <use x=\"294.921875\" xlink:href=\"#DejaVuSans-53\"/>\n     <use x=\"358.544922\" xlink:href=\"#DejaVuSans-44\"/>\n     <use x=\"390.332031\" xlink:href=\"#DejaVuSans-32\"/>\n     <use x=\"422.119141\" xlink:href=\"#DejaVuSans-114\"/>\n     <use x=\"463.232422\" xlink:href=\"#DejaVuSans-61\"/>\n     <use x=\"547.021484\" xlink:href=\"#DejaVuSans-49\"/>\n    </g>\n   </g>\n   <g id=\"text_12\">\n    <g id=\"patch_13\">\n     <path d=\"M 44.199983 57.967168 \nL 101.351389 57.967168 \nL 101.351389 41.336855 \nL 44.199983 41.336855 \nz\n\" style=\"fill:#008000;\"/>\n    </g>\n    <!-- s=0.5, r=1 -->\n    <g style=\"fill:#ffffff;\" transform=\"translate(48.159983 52.135449)scale(0.09 -0.09)\">\n     <use xlink:href=\"#DejaVuSans-115\"/>\n     <use x=\"52.099609\" xlink:href=\"#DejaVuSans-61\"/>\n     <use x=\"135.888672\" xlink:href=\"#DejaVuSans-48\"/>\n     <use x=\"199.511719\" xlink:href=\"#DejaVuSans-46\"/>\n     <use x=\"231.298828\" xlink:href=\"#DejaVuSans-53\"/>\n     <use x=\"294.921875\" xlink:href=\"#DejaVuSans-44\"/>\n     <use x=\"326.708984\" xlink:href=\"#DejaVuSans-32\"/>\n     <use x=\"358.496094\" xlink:href=\"#DejaVuSans-114\"/>\n     <use x=\"399.609375\" xlink:href=\"#DejaVuSans-61\"/>\n     <use x=\"483.398438\" xlink:href=\"#DejaVuSans-49\"/>\n    </g>\n   </g>\n   <g id=\"text_13\">\n    <g id=\"patch_14\">\n     <path d=\"M 58.324356 74.954669 \nL 121.202012 74.954669 \nL 121.202012 58.324357 \nL 58.324356 58.324357 \nz\n\" style=\"fill:#ff0000;\"/>\n    </g>\n    <!-- s=0.25, r=1 -->\n    <g style=\"fill:#ffffff;\" transform=\"translate(62.284356 69.122951)scale(0.09 -0.09)\">\n     <use xlink:href=\"#DejaVuSans-115\"/>\n     <use x=\"52.099609\" xlink:href=\"#DejaVuSans-61\"/>\n     <use x=\"135.888672\" xlink:href=\"#DejaVuSans-48\"/>\n     <use x=\"199.511719\" xlink:href=\"#DejaVuSans-46\"/>\n     <use x=\"231.298828\" xlink:href=\"#DejaVuSans-50\"/>\n     <use x=\"294.921875\" xlink:href=\"#DejaVuSans-53\"/>\n     <use x=\"358.544922\" xlink:href=\"#DejaVuSans-44\"/>\n     <use x=\"390.332031\" xlink:href=\"#DejaVuSans-32\"/>\n     <use x=\"422.119141\" xlink:href=\"#DejaVuSans-114\"/>\n     <use x=\"463.232422\" xlink:href=\"#DejaVuSans-61\"/>\n     <use x=\"547.021484\" xlink:href=\"#DejaVuSans-49\"/>\n    </g>\n   </g>\n   <g id=\"text_14\">\n    <g id=\"patch_15\">\n     <path d=\"M 3.24 55.90624 \nL 66.117656 55.90624 \nL 66.117656 39.275927 \nL 3.24 39.275927 \nz\n\" style=\"fill:#bf00bf;\"/>\n    </g>\n    <!-- s=0.75, r=2 -->\n    <g style=\"fill:#ffffff;\" transform=\"translate(7.2 50.074521)scale(0.09 -0.09)\">\n     <use xlink:href=\"#DejaVuSans-115\"/>\n     <use x=\"52.099609\" xlink:href=\"#DejaVuSans-61\"/>\n     <use x=\"135.888672\" xlink:href=\"#DejaVuSans-48\"/>\n     <use x=\"199.511719\" xlink:href=\"#DejaVuSans-46\"/>\n     <use x=\"231.298828\" xlink:href=\"#DejaVuSans-55\"/>\n     <use x=\"294.921875\" xlink:href=\"#DejaVuSans-53\"/>\n     <use x=\"358.544922\" xlink:href=\"#DejaVuSans-44\"/>\n     <use x=\"390.332031\" xlink:href=\"#DejaVuSans-32\"/>\n     <use x=\"422.119141\" xlink:href=\"#DejaVuSans-114\"/>\n     <use x=\"463.232422\" xlink:href=\"#DejaVuSans-61\"/>\n     <use x=\"547.021484\" xlink:href=\"#DejaVuSans-50\"/>\n    </g>\n   </g>\n   <g id=\"text_15\">\n    <g id=\"patch_16\">\n     <path d=\"M 34.982647 19.870312 \nL 106.446866 19.870312 \nL 106.446866 3.24 \nL 34.982647 3.24 \nz\n\" style=\"fill:#00bfbf;\"/>\n    </g>\n    <!-- s=0.75, r=0.5 -->\n    <g style=\"fill:#ffffff;\" transform=\"translate(38.942647 14.038594)scale(0.09 -0.09)\">\n     <use xlink:href=\"#DejaVuSans-115\"/>\n     <use x=\"52.099609\" xlink:href=\"#DejaVuSans-61\"/>\n     <use x=\"135.888672\" xlink:href=\"#DejaVuSans-48\"/>\n     <use x=\"199.511719\" xlink:href=\"#DejaVuSans-46\"/>\n     <use x=\"231.298828\" xlink:href=\"#DejaVuSans-55\"/>\n     <use x=\"294.921875\" xlink:href=\"#DejaVuSans-53\"/>\n     <use x=\"358.544922\" xlink:href=\"#DejaVuSans-44\"/>\n     <use x=\"390.332031\" xlink:href=\"#DejaVuSans-32\"/>\n     <use x=\"422.119141\" xlink:href=\"#DejaVuSans-114\"/>\n     <use x=\"463.232422\" xlink:href=\"#DejaVuSans-61\"/>\n     <use x=\"547.021484\" xlink:href=\"#DejaVuSans-48\"/>\n     <use x=\"610.644531\" xlink:href=\"#DejaVuSans-46\"/>\n     <use x=\"642.431641\" xlink:href=\"#DejaVuSans-53\"/>\n    </g>\n   </g>\n  </g>\n </g>\n <defs>\n  <clipPath id=\"pe3ca293fcd\">\n   <rect height=\"135.9\" width=\"176.35508\" x=\"45.946941\" y=\"22.82327\"/>\n  </clipPath>\n </defs>\n</svg>\n"
          },
          "metadata": {
            "needs_background": "light"
          }
        }
      ],
      "source": [
        "d2l.set_figsize()\n",
        "bbox_scale = torch.tensor((w, h, w, h))\n",
        "fig = d2l.plt.imshow(img)\n",
        "show_bboxes(fig.axes, boxes[250, 250, :, :] * bbox_scale,\n",
        "            ['s=0.75, r=1', 's=0.5, r=1', 's=0.25, r=1', 's=0.75, r=2',\n",
        "             's=0.75, r=0.5'])"
      ]
    },
    {
      "cell_type": "code",
      "source": [
        "torch.tensor((w, h, w, h))"
      ],
      "metadata": {
        "id": "uVLjJL9gnnn0",
        "outputId": "da2cdd82-5460-4931-b0a2-7b72da59bd25",
        "colab": {
          "base_uri": "https://localhost:8080/"
        }
      },
      "execution_count": 20,
      "outputs": [
        {
          "output_type": "execute_result",
          "data": {
            "text/plain": [
              "tensor([728, 561, 728, 561])"
            ]
          },
          "metadata": {},
          "execution_count": 20
        }
      ]
    },
    {
      "cell_type": "markdown",
      "metadata": {
        "origin_pos": 15,
        "id": "Y8BJO-HHHEjl"
      },
      "source": [
        "## [**交并比（IoU）**]\n",
        "\n",
        "我们刚刚提到某个锚框“较好地”覆盖了图像中的狗。\n",
        "如果已知目标的真实边界框，那么这里的“好”该如何如何量化呢？\n",
        "直观地说，我们可以衡量锚框和真实边界框之间的相似性。\n",
        "我们知道*杰卡德系数*（Jaccard）可以衡量两组之间的相似性。\n",
        "给定集合$\\mathcal{A}$和$\\mathcal{B}$，他们的杰卡德系数是他们交集的大小除以他们并集的大小：\n",
        "\n",
        "$$J(\\mathcal{A},\\mathcal{B}) = \\frac{\\left|\\mathcal{A} \\cap \\mathcal{B}\\right|}{\\left| \\mathcal{A} \\cup \\mathcal{B}\\right|}.$$\n",
        "\n",
        "事实上，我们可以将任何边界框的像素区域视为一组像素。通\n",
        "过这种方式，我们可以通过其像素集的杰卡德系数来测量两个边界框的相似性。\n",
        "对于两个边界框，我们通常将它们的杰卡德系数称为*交并比*（intersection over union，IoU），即两个边界框相交面积与相并面积之比，如 :numref:`fig_iou`所示。\n",
        "交并比的取值范围在0和1之间：0表示两个边界框无重合像素，1表示两个边界框完全重合。\n",
        "\n",
        "![交并比是两个边界框相交面积与相并面积之比。](http://d2l.ai/_images/iou.svg)\n",
        ":label:`fig_iou`\n",
        "\n",
        "在接下来部分中，我们将使用交并比来衡量锚框和真实边界框之间、以及不同锚框之间的相似度。\n",
        "给定两个锚框或边界框的列表，以下`box_iou`函数将在这两个列表中计算它们成对的交并比。\n"
      ]
    },
    {
      "cell_type": "code",
      "execution_count": 24,
      "metadata": {
        "origin_pos": 17,
        "tab": [
          "pytorch"
        ],
        "id": "kwQyM1ZRHEjl"
      },
      "outputs": [],
      "source": [
        "def box_iou(boxes1, boxes2):\n",
        "    \"\"\"计算两个锚框或边界框列表中成对的交并比\"\"\"\n",
        "    box_area = lambda boxes: ((boxes[:, 2] - boxes[:, 0]) *\n",
        "                              (boxes[:, 3] - boxes[:, 1]))\n",
        "    # boxes1,boxes2,areas1,areas2的形状:\n",
        "    # boxes1：(boxes1的数量,4),\n",
        "    # boxes2：(boxes2的数量,4),\n",
        "    # areas1：(boxes1的数量,),\n",
        "    # areas2：(boxes2的数量,)\n",
        "    areas1 = box_area(boxes1)\n",
        "    areas2 = box_area(boxes2)\n",
        "    # inter_upperlefts,inter_lowerrights,inters的形状:\n",
        "    # (boxes1的数量,boxes2的数量,2)\n",
        "    inter_upperlefts = torch.max(boxes1[:, None, :2], boxes2[:, :2])\n",
        "    inter_lowerrights = torch.min(boxes1[:, None, 2:], boxes2[:, 2:])\n",
        "    inters = (inter_lowerrights - inter_upperlefts).clamp(min=0)\n",
        "    # inter_areasandunion_areas的形状:(boxes1的数量,boxes2的数量)\n",
        "    inter_areas = inters[:, :, 0] * inters[:, :, 1]\n",
        "    union_areas = areas1[:, None] + areas2 - inter_areas\n",
        "    return inter_areas / union_areas"
      ]
    },
    {
      "cell_type": "markdown",
      "metadata": {
        "origin_pos": 18,
        "id": "L5zyuLohHEjm"
      },
      "source": [
        "## 在训练数据中标注锚框\n",
        ":label:`subsec_labeling-anchor-boxes`\n",
        "\n",
        "在训练集中，我们将每个锚框视为一个训练样本。\n",
        "为了训练目标检测模型，我们需要每个锚框的*类别*（class）和*偏移量*（offset）标签，其中前者是与锚框相关的对象的类别，后者是真实边界框相对于锚框的偏移量。\n",
        "在预测时，我们为每个图像生成多个锚框，预测所有锚框的类别和偏移量，根据预测的偏移量调整它们的位置以获得预测的边界框，最后只输出符合特定条件的预测边界框。\n",
        "\n",
        "我们知道，目标检测训练集带有“真实边界框”的位置及其包围物体类别的标签。\n",
        "要标记任何生成的锚框，我们可以参考分配到的最接近此锚框的真实边界框的位置和类别标签。\n",
        "在下文中，我们将介绍一个算法，它能够把最接近的真实边界框分配给锚框。\n",
        "\n",
        "### [**将真实边界框分配给锚框**]\n",
        "\n",
        "给定图像，假设锚框是$A_1, A_2, \\ldots, A_{n_a}$，真实边界框是$B_1, B_2, \\ldots, B_{n_b}$，其中$n_a \\geq n_b$。\n",
        "让我们定义一个矩阵$\\mathbf{X} \\in \\mathbb{R}^{n_a \\times n_b}$，其中第$i$行、第$j$列的元素$x_{ij}$是锚框$A_i$和真实边界框$B_j$的IoU。\n",
        "该算法包含以下步骤：\n",
        "\n",
        "1. 在矩阵$\\mathbf{X}$中找到最大的元素，并将它的行索引和列索引分别表示为$i_1$和$j_1$。然后将真实边界框$B_{j_1}$分配给锚框$A_{i_1}$。这很直观，因为$A_{i_1}$和$B_{j_1}$是所有锚框和真实边界框配对中最相近的。在第一个分配完成后，丢弃矩阵中${i_1}^\\mathrm{th}$行和${j_1}^\\mathrm{th}$列中的所有元素。\n",
        "1. 在矩阵$\\mathbf{X}$中找到剩余元素中最大的元素，并将它的行索引和列索引分别表示为$i_2$和$j_2$。我们将真实边界框$B_{j_2}$分配给锚框$A_{i_2}$，并丢弃矩阵中${i_2}^\\mathrm{th}$行和${j_2}^\\mathrm{th}$列中的所有元素。\n",
        "1. 此时，矩阵$\\mathbf{X}$中两行和两列中的元素已被丢弃。我们继续，直到丢弃掉矩阵$\\mathbf{X}$中$n_b$列中的所有元素。此时，我们已经为这$n_b$个锚框各自分配了一个真实边界框。\n",
        "1. 只遍历剩下的$n_a - n_b$个锚框。例如，给定任何锚框$A_i$，在矩阵$\\mathbf{X}$的第$i^\\mathrm{th}$行中找到与$A_i$的IoU最大的真实边界框$B_j$，只有当此IoU大于预定义的阈值时，才将$B_j$分配给$A_i$。\n",
        "\n",
        "让我们用一个具体的例子来说明上述算法。\n",
        "如 :numref:`fig_anchor_label`（左）所示，假设矩阵$\\mathbf{X}$中的最大值为$x_{23}$，我们将真实边界框$B_3$分配给锚框$A_2$。\n",
        "然后，我们丢弃矩阵第2行和第3列中的所有元素，在剩余元素（阴影区域）中找到最大的$x_{71}$，然后将真实边界框$B_1$分配给锚框$A_7$。\n",
        "接下来，如 :numref:`fig_anchor_label`（中）所示，丢弃矩阵第7行和第1列中的所有元素，在剩余元素（阴影区域）中找到最大的$x_{54}$，然后将真实边界框$B_4$分配给锚框$A_5$。\n",
        "最后，如 :numref:`fig_anchor_label`（右）所示，丢弃矩阵第5行和第4列中的所有元素，在剩余元素（阴影区域）中找到最大的$x_{92}$，然后将真实边界框$B_2$分配给锚框$A_9$。\n",
        "之后，我们只需要遍历剩余的锚框$A_1, A_3, A_4, A_6, A_8$，然后根据阈值确定是否为它们分配真实边界框。\n",
        "\n",
        "![将真实边界框分配给锚框。](https://github.com/d2l-ai/d2l-zh-pytorch-colab/blob/master/img/anchor-label.svg?raw=1)\n",
        ":label:`fig_anchor_label`\n",
        "\n",
        "此算法在下面的`assign_anchor_to_bbox`函数中实现。\n"
      ]
    },
    {
      "cell_type": "code",
      "execution_count": null,
      "metadata": {
        "origin_pos": 20,
        "tab": [
          "pytorch"
        ],
        "id": "8jdHDrsNHEjm"
      },
      "outputs": [],
      "source": [
        "def assign_anchor_to_bbox(ground_truth, anchors, device, iou_threshold=0.5):\n",
        "    \"\"\"将最接近的真实边界框分配给锚框\"\"\"\n",
        "    num_anchors, num_gt_boxes = anchors.shape[0], ground_truth.shape[0]\n",
        "    # 位于第i行和第j列的元素x_ij是锚框i和真实边界框j的IoU\n",
        "    jaccard = box_iou(anchors, ground_truth)\n",
        "    # 对于每个锚框，分配的真实边界框的张量\n",
        "    anchors_bbox_map = torch.full((num_anchors,), -1, dtype=torch.long,\n",
        "                                  device=device)\n",
        "    # 根据阈值，决定是否分配真实边界框\n",
        "    max_ious, indices = torch.max(jaccard, dim=1)\n",
        "    anc_i = torch.nonzero(max_ious >= 0.5).reshape(-1)\n",
        "    box_j = indices[max_ious >= 0.5]\n",
        "    anchors_bbox_map[anc_i] = box_j\n",
        "    col_discard = torch.full((num_anchors,), -1)\n",
        "    row_discard = torch.full((num_gt_boxes,), -1)\n",
        "    for _ in range(num_gt_boxes):\n",
        "        max_idx = torch.argmax(jaccard)\n",
        "        box_idx = (max_idx % num_gt_boxes).long()\n",
        "        anc_idx = (max_idx / num_gt_boxes).long()\n",
        "        anchors_bbox_map[anc_idx] = box_idx\n",
        "        jaccard[:, box_idx] = col_discard\n",
        "        jaccard[anc_idx, :] = row_discard\n",
        "    return anchors_bbox_map"
      ]
    },
    {
      "cell_type": "markdown",
      "metadata": {
        "origin_pos": 21,
        "id": "cbc2fEDlHEjm"
      },
      "source": [
        "### 标记类别和偏移量\n",
        "\n",
        "现在我们可以为每个锚框标记类别和偏移量了。\n",
        "假设一个锚框$A$被分配了一个真实边界框$B$。\n",
        "一方面，锚框$A$的类别将被标记为与$B$相同。\n",
        "另一方面，锚框$A$的偏移量将根据$B$和$A$中心坐标的相对位置以及这两个框的相对大小进行标记。\n",
        "鉴于数据集内不同的框的位置和大小不同，我们可以对那些相对位置和大小应用变换，使其获得分布更均匀且易于拟合的偏移量。\n",
        "在这里，我们介绍一种常见的变换。\n",
        "[**给定框$A$和$B$，中心坐标分别为$(x_a, y_a)$和$(x_b, y_b)$，宽度分别为$w_a$和$w_b$，高度分别为$h_a$和$h_b$。\n",
        "我们可以将$A$的偏移量标记为：\n",
        "\n",
        "$$\\left( \\frac{ \\frac{x_b - x_a}{w_a} - \\mu_x }{\\sigma_x},\n",
        "\\frac{ \\frac{y_b - y_a}{h_a} - \\mu_y }{\\sigma_y},\n",
        "\\frac{ \\log \\frac{w_b}{w_a} - \\mu_w }{\\sigma_w},\n",
        "\\frac{ \\log \\frac{h_b}{h_a} - \\mu_h }{\\sigma_h}\\right),$$\n",
        "**]\n",
        "其中常量的默认值为 $\\mu_x = \\mu_y = \\mu_w = \\mu_h = 0, \\sigma_x=\\sigma_y=0.1$ ， $\\sigma_w=\\sigma_h=0.2$。\n",
        "这种转换在下面的 `offset_boxes` 函数中实现。\n"
      ]
    },
    {
      "cell_type": "code",
      "execution_count": null,
      "metadata": {
        "origin_pos": 22,
        "tab": [
          "pytorch"
        ],
        "id": "0byPpob4HEjn"
      },
      "outputs": [],
      "source": [
        "def offset_boxes(anchors, assigned_bb, eps=1e-6):\n",
        "    \"\"\"对锚框偏移量的转换\"\"\"\n",
        "    c_anc = d2l.box_corner_to_center(anchors)\n",
        "    c_assigned_bb = d2l.box_corner_to_center(assigned_bb)\n",
        "    offset_xy = 10 * (c_assigned_bb[:, :2] - c_anc[:, :2]) / c_anc[:, 2:]\n",
        "    offset_wh = 5 * torch.log(eps + c_assigned_bb[:, 2:] / c_anc[:, 2:])\n",
        "    offset = torch.cat([offset_xy, offset_wh], axis=1)\n",
        "    return offset"
      ]
    },
    {
      "cell_type": "markdown",
      "metadata": {
        "origin_pos": 23,
        "id": "2K--l--HHEjn"
      },
      "source": [
        "如果一个锚框没有被分配真实边界框，我们只需将锚框的类别标记为“背景”（background）。\n",
        "背景类别的锚框通常被称为“负类”锚框，其余的被称为“正类”锚框。\n",
        "我们使用真实边界框（`labels`参数）实现以下`multibox_target`函数，来[**标记锚框的类别和偏移量**]（`anchors`参数）。\n",
        "此函数将背景类别的索引设置为零，然后将新类别的整数索引递增一。\n"
      ]
    },
    {
      "cell_type": "code",
      "execution_count": null,
      "metadata": {
        "origin_pos": 25,
        "tab": [
          "pytorch"
        ],
        "id": "xOZR7KrRHEjn"
      },
      "outputs": [],
      "source": [
        "def multibox_target(anchors, labels):\n",
        "    \"\"\"使用真实边界框标记锚框\"\"\"\n",
        "    batch_size, anchors = labels.shape[0], anchors.squeeze(0)\n",
        "    batch_offset, batch_mask, batch_class_labels = [], [], []\n",
        "    device, num_anchors = anchors.device, anchors.shape[0]\n",
        "    for i in range(batch_size):\n",
        "        label = labels[i, :, :]\n",
        "        anchors_bbox_map = assign_anchor_to_bbox(\n",
        "            label[:, 1:], anchors, device)\n",
        "        bbox_mask = ((anchors_bbox_map >= 0).float().unsqueeze(-1)).repeat(\n",
        "            1, 4)\n",
        "        # 将类标签和分配的边界框坐标初始化为零\n",
        "        class_labels = torch.zeros(num_anchors, dtype=torch.long,\n",
        "                                   device=device)\n",
        "        assigned_bb = torch.zeros((num_anchors, 4), dtype=torch.float32,\n",
        "                                  device=device)\n",
        "        # 使用真实边界框来标记锚框的类别。\n",
        "        # 如果一个锚框没有被分配，我们标记其为背景（值为零）\n",
        "        indices_true = torch.nonzero(anchors_bbox_map >= 0)\n",
        "        bb_idx = anchors_bbox_map[indices_true]\n",
        "        class_labels[indices_true] = label[bb_idx, 0].long() + 1\n",
        "        assigned_bb[indices_true] = label[bb_idx, 1:]\n",
        "        # 偏移量转换\n",
        "        offset = offset_boxes(anchors, assigned_bb) * bbox_mask\n",
        "        batch_offset.append(offset.reshape(-1))\n",
        "        batch_mask.append(bbox_mask.reshape(-1))\n",
        "        batch_class_labels.append(class_labels)\n",
        "    bbox_offset = torch.stack(batch_offset)\n",
        "    bbox_mask = torch.stack(batch_mask)\n",
        "    class_labels = torch.stack(batch_class_labels)\n",
        "    return (bbox_offset, bbox_mask, class_labels)"
      ]
    },
    {
      "cell_type": "markdown",
      "metadata": {
        "origin_pos": 26,
        "id": "PBGlvnyqHEjo"
      },
      "source": [
        "### 一个例子\n",
        "\n",
        "让我们通过一个具体的例子来说明锚框标签。\n",
        "我们已经为加载图像中的狗和猫定义了真实边界框，其中第一个元素是类别（0代表狗，1代表猫），其余四个元素是左上角和右下角的$(x, y)$轴坐标（范围介于0和1之间）。\n",
        "我们还构建了五个锚框，用左上角和右下角的坐标进行标记：$A_0, \\ldots, A_4$（索引从0开始）。\n",
        "然后我们[**在图像中绘制这些真实边界框和锚框**]。\n"
      ]
    },
    {
      "cell_type": "code",
      "execution_count": 25,
      "metadata": {
        "origin_pos": 27,
        "tab": [
          "pytorch"
        ],
        "id": "W9w0mgl7HEjo",
        "outputId": "e5ec6d36-8524-4111-d319-d9930d5213d1",
        "colab": {
          "base_uri": "https://localhost:8080/",
          "height": 248
        }
      },
      "outputs": [
        {
          "output_type": "display_data",
          "data": {
            "text/plain": [
              "<Figure size 252x180 with 1 Axes>"
            ],
            "image/svg+xml": "<?xml version=\"1.0\" encoding=\"utf-8\" standalone=\"no\"?>\n<!DOCTYPE svg PUBLIC \"-//W3C//DTD SVG 1.1//EN\"\n  \"http://www.w3.org/Graphics/SVG/1.1/DTD/svg11.dtd\">\n<!-- Created with matplotlib (https://matplotlib.org/) -->\n<svg height=\"170.656221pt\" version=\"1.1\" viewBox=\"0 0 216.84258 170.656221\" width=\"216.84258pt\" xmlns=\"http://www.w3.org/2000/svg\" xmlns:xlink=\"http://www.w3.org/1999/xlink\">\n <defs>\n  <style type=\"text/css\">\n*{stroke-linecap:butt;stroke-linejoin:round;}\n  </style>\n </defs>\n <g id=\"figure_1\">\n  <g id=\"patch_1\">\n   <path d=\"M 0 170.656221 \nL 216.84258 170.656221 \nL 216.84258 0 \nL 0 0 \nz\n\" style=\"fill:none;\"/>\n  </g>\n  <g id=\"axes_1\">\n   <g id=\"patch_2\">\n    <path d=\"M 33.2875 146.778096 \nL 209.64258 146.778096 \nL 209.64258 10.878096 \nL 33.2875 10.878096 \nz\n\" style=\"fill:#ffffff;\"/>\n   </g>\n   <g clip-path=\"url(#p5564159354)\">\n    <image height=\"136\" id=\"image7a5c0d3551\" transform=\"scale(1 -1)translate(0 -136)\" width=\"177\" x=\"33.2875\" xlink:href=\"data:image/png;base64,\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\" y=\"-10.778096\"/>\n   </g>\n   <g id=\"patch_3\">\n    <path clip-path=\"url(#p5564159354)\" d=\"M 51.044132 21.871218 \nL 125.113264 21.871218 \nL 125.113264 136.027218 \nL 51.044132 136.027218 \nz\n\" style=\"fill:none;stroke:#000000;stroke-linejoin:miter;stroke-width:2;\"/>\n   </g>\n   <g id=\"patch_4\">\n    <path clip-path=\"url(#p5564159354)\" d=\"M 130.403916 38.17922 \nL 192.128198 38.17922 \nL 192.128198 130.591217 \nL 130.403916 130.591217 \nz\n\" style=\"fill:none;stroke:#000000;stroke-linejoin:miter;stroke-width:2;\"/>\n   </g>\n   <g id=\"patch_5\">\n    <path clip-path=\"url(#p5564159354)\" d=\"M 33.408623 24.589219 \nL 68.679641 24.589219 \nL 68.679641 51.769219 \nL 33.408623 51.769219 \nz\n\" style=\"fill:none;stroke:#0000ff;stroke-linejoin:miter;stroke-width:2;\"/>\n   </g>\n   <g id=\"patch_6\">\n    <path clip-path=\"url(#p5564159354)\" d=\"M 59.861886 38.17922 \nL 103.950658 38.17922 \nL 103.950658 65.359221 \nL 59.861886 65.359221 \nz\n\" style=\"fill:none;stroke:#008000;stroke-linejoin:miter;stroke-width:2;\"/>\n   </g>\n   <g id=\"patch_7\">\n    <path clip-path=\"url(#p5564159354)\" d=\"M 144.51232 17.794219 \nL 188.601097 17.794219 \nL 188.601097 144.181226 \nL 144.51232 144.181226 \nz\n\" style=\"fill:none;stroke:#ff0000;stroke-linejoin:miter;stroke-width:2;\"/>\n   </g>\n   <g id=\"patch_8\">\n    <path clip-path=\"url(#p5564159354)\" d=\"M 149.802979 72.154218 \nL 174.492693 72.154218 \nL 174.492693 119.719223 \nL 149.802979 119.719223 \nz\n\" style=\"fill:none;stroke:#bf00bf;stroke-linejoin:miter;stroke-width:2;\"/>\n   </g>\n   <g id=\"patch_9\">\n    <path clip-path=\"url(#p5564159354)\" d=\"M 133.931017 51.769219 \nL 195.655299 51.769219 \nL 195.655299 133.30921 \nL 133.931017 133.30921 \nz\n\" style=\"fill:none;stroke:#00bfbf;stroke-linejoin:miter;stroke-width:2;\"/>\n   </g>\n   <g id=\"matplotlib.axis_1\">\n    <g id=\"xtick_1\">\n     <g id=\"line2d_1\">\n      <defs>\n       <path d=\"M 0 0 \nL 0 3.5 \n\" id=\"m40822923e0\" style=\"stroke:#000000;stroke-width:0.8;\"/>\n      </defs>\n      <g>\n       <use style=\"stroke:#000000;stroke-width:0.8;\" x=\"33.408623\" xlink:href=\"#m40822923e0\" y=\"146.778096\"/>\n      </g>\n     </g>\n     <g id=\"text_1\">\n      <!-- 0 -->\n      <defs>\n       <path d=\"M 31.78125 66.40625 \nQ 24.171875 66.40625 20.328125 58.90625 \nQ 16.5 51.421875 16.5 36.375 \nQ 16.5 21.390625 20.328125 13.890625 \nQ 24.171875 6.390625 31.78125 6.390625 \nQ 39.453125 6.390625 43.28125 13.890625 \nQ 47.125 21.390625 47.125 36.375 \nQ 47.125 51.421875 43.28125 58.90625 \nQ 39.453125 66.40625 31.78125 66.40625 \nz\nM 31.78125 74.21875 \nQ 44.046875 74.21875 50.515625 64.515625 \nQ 56.984375 54.828125 56.984375 36.375 \nQ 56.984375 17.96875 50.515625 8.265625 \nQ 44.046875 -1.421875 31.78125 -1.421875 \nQ 19.53125 -1.421875 13.0625 8.265625 \nQ 6.59375 17.96875 6.59375 36.375 \nQ 6.59375 54.828125 13.0625 64.515625 \nQ 19.53125 74.21875 31.78125 74.21875 \nz\n\" id=\"DejaVuSans-48\"/>\n      </defs>\n      <g transform=\"translate(30.227373 161.376533)scale(0.1 -0.1)\">\n       <use xlink:href=\"#DejaVuSans-48\"/>\n      </g>\n     </g>\n    </g>\n    <g id=\"xtick_2\">\n     <g id=\"line2d_2\">\n      <g>\n       <use style=\"stroke:#000000;stroke-width:0.8;\" x=\"81.857821\" xlink:href=\"#m40822923e0\" y=\"146.778096\"/>\n      </g>\n     </g>\n     <g id=\"text_2\">\n      <!-- 200 -->\n      <defs>\n       <path d=\"M 19.1875 8.296875 \nL 53.609375 8.296875 \nL 53.609375 0 \nL 7.328125 0 \nL 7.328125 8.296875 \nQ 12.9375 14.109375 22.625 23.890625 \nQ 32.328125 33.6875 34.8125 36.53125 \nQ 39.546875 41.84375 41.421875 45.53125 \nQ 43.3125 49.21875 43.3125 52.78125 \nQ 43.3125 58.59375 39.234375 62.25 \nQ 35.15625 65.921875 28.609375 65.921875 \nQ 23.96875 65.921875 18.8125 64.3125 \nQ 13.671875 62.703125 7.8125 59.421875 \nL 7.8125 69.390625 \nQ 13.765625 71.78125 18.9375 73 \nQ 24.125 74.21875 28.421875 74.21875 \nQ 39.75 74.21875 46.484375 68.546875 \nQ 53.21875 62.890625 53.21875 53.421875 \nQ 53.21875 48.921875 51.53125 44.890625 \nQ 49.859375 40.875 45.40625 35.40625 \nQ 44.1875 33.984375 37.640625 27.21875 \nQ 31.109375 20.453125 19.1875 8.296875 \nz\n\" id=\"DejaVuSans-50\"/>\n      </defs>\n      <g transform=\"translate(72.314071 161.376533)scale(0.1 -0.1)\">\n       <use xlink:href=\"#DejaVuSans-50\"/>\n       <use x=\"63.623047\" xlink:href=\"#DejaVuSans-48\"/>\n       <use x=\"127.246094\" xlink:href=\"#DejaVuSans-48\"/>\n      </g>\n     </g>\n    </g>\n    <g id=\"xtick_3\">\n     <g id=\"line2d_3\">\n      <g>\n       <use style=\"stroke:#000000;stroke-width:0.8;\" x=\"130.307019\" xlink:href=\"#m40822923e0\" y=\"146.778096\"/>\n      </g>\n     </g>\n     <g id=\"text_3\">\n      <!-- 400 -->\n      <defs>\n       <path d=\"M 37.796875 64.3125 \nL 12.890625 25.390625 \nL 37.796875 25.390625 \nz\nM 35.203125 72.90625 \nL 47.609375 72.90625 \nL 47.609375 25.390625 \nL 58.015625 25.390625 \nL 58.015625 17.1875 \nL 47.609375 17.1875 \nL 47.609375 0 \nL 37.796875 0 \nL 37.796875 17.1875 \nL 4.890625 17.1875 \nL 4.890625 26.703125 \nz\n\" id=\"DejaVuSans-52\"/>\n      </defs>\n      <g transform=\"translate(120.763269 161.376533)scale(0.1 -0.1)\">\n       <use xlink:href=\"#DejaVuSans-52\"/>\n       <use x=\"63.623047\" xlink:href=\"#DejaVuSans-48\"/>\n       <use x=\"127.246094\" xlink:href=\"#DejaVuSans-48\"/>\n      </g>\n     </g>\n    </g>\n    <g id=\"xtick_4\">\n     <g id=\"line2d_4\">\n      <g>\n       <use style=\"stroke:#000000;stroke-width:0.8;\" x=\"178.756217\" xlink:href=\"#m40822923e0\" y=\"146.778096\"/>\n      </g>\n     </g>\n     <g id=\"text_4\">\n      <!-- 600 -->\n      <defs>\n       <path d=\"M 33.015625 40.375 \nQ 26.375 40.375 22.484375 35.828125 \nQ 18.609375 31.296875 18.609375 23.390625 \nQ 18.609375 15.53125 22.484375 10.953125 \nQ 26.375 6.390625 33.015625 6.390625 \nQ 39.65625 6.390625 43.53125 10.953125 \nQ 47.40625 15.53125 47.40625 23.390625 \nQ 47.40625 31.296875 43.53125 35.828125 \nQ 39.65625 40.375 33.015625 40.375 \nz\nM 52.59375 71.296875 \nL 52.59375 62.3125 \nQ 48.875 64.0625 45.09375 64.984375 \nQ 41.3125 65.921875 37.59375 65.921875 \nQ 27.828125 65.921875 22.671875 59.328125 \nQ 17.53125 52.734375 16.796875 39.40625 \nQ 19.671875 43.65625 24.015625 45.921875 \nQ 28.375 48.1875 33.59375 48.1875 \nQ 44.578125 48.1875 50.953125 41.515625 \nQ 57.328125 34.859375 57.328125 23.390625 \nQ 57.328125 12.15625 50.6875 5.359375 \nQ 44.046875 -1.421875 33.015625 -1.421875 \nQ 20.359375 -1.421875 13.671875 8.265625 \nQ 6.984375 17.96875 6.984375 36.375 \nQ 6.984375 53.65625 15.1875 63.9375 \nQ 23.390625 74.21875 37.203125 74.21875 \nQ 40.921875 74.21875 44.703125 73.484375 \nQ 48.484375 72.75 52.59375 71.296875 \nz\n\" id=\"DejaVuSans-54\"/>\n      </defs>\n      <g transform=\"translate(169.212467 161.376533)scale(0.1 -0.1)\">\n       <use xlink:href=\"#DejaVuSans-54\"/>\n       <use x=\"63.623047\" xlink:href=\"#DejaVuSans-48\"/>\n       <use x=\"127.246094\" xlink:href=\"#DejaVuSans-48\"/>\n      </g>\n     </g>\n    </g>\n   </g>\n   <g id=\"matplotlib.axis_2\">\n    <g id=\"ytick_1\">\n     <g id=\"line2d_5\">\n      <defs>\n       <path d=\"M 0 0 \nL -3.5 0 \n\" id=\"m9c31368c04\" style=\"stroke:#000000;stroke-width:0.8;\"/>\n      </defs>\n      <g>\n       <use style=\"stroke:#000000;stroke-width:0.8;\" x=\"33.2875\" xlink:href=\"#m9c31368c04\" y=\"10.999219\"/>\n      </g>\n     </g>\n     <g id=\"text_5\">\n      <!-- 0 -->\n      <g transform=\"translate(19.925 14.798437)scale(0.1 -0.1)\">\n       <use xlink:href=\"#DejaVuSans-48\"/>\n      </g>\n     </g>\n    </g>\n    <g id=\"ytick_2\">\n     <g id=\"line2d_6\">\n      <g>\n       <use style=\"stroke:#000000;stroke-width:0.8;\" x=\"33.2875\" xlink:href=\"#m9c31368c04\" y=\"35.223818\"/>\n      </g>\n     </g>\n     <g id=\"text_6\">\n      <!-- 100 -->\n      <defs>\n       <path d=\"M 12.40625 8.296875 \nL 28.515625 8.296875 \nL 28.515625 63.921875 \nL 10.984375 60.40625 \nL 10.984375 69.390625 \nL 28.421875 72.90625 \nL 38.28125 72.90625 \nL 38.28125 8.296875 \nL 54.390625 8.296875 \nL 54.390625 0 \nL 12.40625 0 \nz\n\" id=\"DejaVuSans-49\"/>\n      </defs>\n      <g transform=\"translate(7.2 39.023036)scale(0.1 -0.1)\">\n       <use xlink:href=\"#DejaVuSans-49\"/>\n       <use x=\"63.623047\" xlink:href=\"#DejaVuSans-48\"/>\n       <use x=\"127.246094\" xlink:href=\"#DejaVuSans-48\"/>\n      </g>\n     </g>\n    </g>\n    <g id=\"ytick_3\">\n     <g id=\"line2d_7\">\n      <g>\n       <use style=\"stroke:#000000;stroke-width:0.8;\" x=\"33.2875\" xlink:href=\"#m9c31368c04\" y=\"59.448417\"/>\n      </g>\n     </g>\n     <g id=\"text_7\">\n      <!-- 200 -->\n      <g transform=\"translate(7.2 63.247635)scale(0.1 -0.1)\">\n       <use xlink:href=\"#DejaVuSans-50\"/>\n       <use x=\"63.623047\" xlink:href=\"#DejaVuSans-48\"/>\n       <use x=\"127.246094\" xlink:href=\"#DejaVuSans-48\"/>\n      </g>\n     </g>\n    </g>\n    <g id=\"ytick_4\">\n     <g id=\"line2d_8\">\n      <g>\n       <use style=\"stroke:#000000;stroke-width:0.8;\" x=\"33.2875\" xlink:href=\"#m9c31368c04\" y=\"83.673016\"/>\n      </g>\n     </g>\n     <g id=\"text_8\">\n      <!-- 300 -->\n      <defs>\n       <path d=\"M 40.578125 39.3125 \nQ 47.65625 37.796875 51.625 33 \nQ 55.609375 28.21875 55.609375 21.1875 \nQ 55.609375 10.40625 48.1875 4.484375 \nQ 40.765625 -1.421875 27.09375 -1.421875 \nQ 22.515625 -1.421875 17.65625 -0.515625 \nQ 12.796875 0.390625 7.625 2.203125 \nL 7.625 11.71875 \nQ 11.71875 9.328125 16.59375 8.109375 \nQ 21.484375 6.890625 26.8125 6.890625 \nQ 36.078125 6.890625 40.9375 10.546875 \nQ 45.796875 14.203125 45.796875 21.1875 \nQ 45.796875 27.640625 41.28125 31.265625 \nQ 36.765625 34.90625 28.71875 34.90625 \nL 20.21875 34.90625 \nL 20.21875 43.015625 \nL 29.109375 43.015625 \nQ 36.375 43.015625 40.234375 45.921875 \nQ 44.09375 48.828125 44.09375 54.296875 \nQ 44.09375 59.90625 40.109375 62.90625 \nQ 36.140625 65.921875 28.71875 65.921875 \nQ 24.65625 65.921875 20.015625 65.03125 \nQ 15.375 64.15625 9.8125 62.3125 \nL 9.8125 71.09375 \nQ 15.4375 72.65625 20.34375 73.4375 \nQ 25.25 74.21875 29.59375 74.21875 \nQ 40.828125 74.21875 47.359375 69.109375 \nQ 53.90625 64.015625 53.90625 55.328125 \nQ 53.90625 49.265625 50.4375 45.09375 \nQ 46.96875 40.921875 40.578125 39.3125 \nz\n\" id=\"DejaVuSans-51\"/>\n      </defs>\n      <g transform=\"translate(7.2 87.472234)scale(0.1 -0.1)\">\n       <use xlink:href=\"#DejaVuSans-51\"/>\n       <use x=\"63.623047\" xlink:href=\"#DejaVuSans-48\"/>\n       <use x=\"127.246094\" xlink:href=\"#DejaVuSans-48\"/>\n      </g>\n     </g>\n    </g>\n    <g id=\"ytick_5\">\n     <g id=\"line2d_9\">\n      <g>\n       <use style=\"stroke:#000000;stroke-width:0.8;\" x=\"33.2875\" xlink:href=\"#m9c31368c04\" y=\"107.897614\"/>\n      </g>\n     </g>\n     <g id=\"text_9\">\n      <!-- 400 -->\n      <g transform=\"translate(7.2 111.696833)scale(0.1 -0.1)\">\n       <use xlink:href=\"#DejaVuSans-52\"/>\n       <use x=\"63.623047\" xlink:href=\"#DejaVuSans-48\"/>\n       <use x=\"127.246094\" xlink:href=\"#DejaVuSans-48\"/>\n      </g>\n     </g>\n    </g>\n    <g id=\"ytick_6\">\n     <g id=\"line2d_10\">\n      <g>\n       <use style=\"stroke:#000000;stroke-width:0.8;\" x=\"33.2875\" xlink:href=\"#m9c31368c04\" y=\"132.122213\"/>\n      </g>\n     </g>\n     <g id=\"text_10\">\n      <!-- 500 -->\n      <defs>\n       <path d=\"M 10.796875 72.90625 \nL 49.515625 72.90625 \nL 49.515625 64.59375 \nL 19.828125 64.59375 \nL 19.828125 46.734375 \nQ 21.96875 47.46875 24.109375 47.828125 \nQ 26.265625 48.1875 28.421875 48.1875 \nQ 40.625 48.1875 47.75 41.5 \nQ 54.890625 34.8125 54.890625 23.390625 \nQ 54.890625 11.625 47.5625 5.09375 \nQ 40.234375 -1.421875 26.90625 -1.421875 \nQ 22.3125 -1.421875 17.546875 -0.640625 \nQ 12.796875 0.140625 7.71875 1.703125 \nL 7.71875 11.625 \nQ 12.109375 9.234375 16.796875 8.0625 \nQ 21.484375 6.890625 26.703125 6.890625 \nQ 35.15625 6.890625 40.078125 11.328125 \nQ 45.015625 15.765625 45.015625 23.390625 \nQ 45.015625 31 40.078125 35.4375 \nQ 35.15625 39.890625 26.703125 39.890625 \nQ 22.75 39.890625 18.8125 39.015625 \nQ 14.890625 38.140625 10.796875 36.28125 \nz\n\" id=\"DejaVuSans-53\"/>\n      </defs>\n      <g transform=\"translate(7.2 135.921432)scale(0.1 -0.1)\">\n       <use xlink:href=\"#DejaVuSans-53\"/>\n       <use x=\"63.623047\" xlink:href=\"#DejaVuSans-48\"/>\n       <use x=\"127.246094\" xlink:href=\"#DejaVuSans-48\"/>\n      </g>\n     </g>\n    </g>\n   </g>\n   <g id=\"patch_10\">\n    <path d=\"M 33.2875 146.778096 \nL 33.2875 10.878096 \n\" style=\"fill:none;stroke:#000000;stroke-linecap:square;stroke-linejoin:miter;stroke-width:0.8;\"/>\n   </g>\n   <g id=\"patch_11\">\n    <path d=\"M 209.64258 146.778096 \nL 209.64258 10.878096 \n\" style=\"fill:none;stroke:#000000;stroke-linecap:square;stroke-linejoin:miter;stroke-width:0.8;\"/>\n   </g>\n   <g id=\"patch_12\">\n    <path d=\"M 33.2875 146.778096 \nL 209.64258 146.778096 \n\" style=\"fill:none;stroke:#000000;stroke-linecap:square;stroke-linejoin:miter;stroke-width:0.8;\"/>\n   </g>\n   <g id=\"patch_13\">\n    <path d=\"M 33.2875 10.878096 \nL 209.64258 10.878096 \n\" style=\"fill:none;stroke:#000000;stroke-linecap:square;stroke-linejoin:miter;stroke-width:0.8;\"/>\n   </g>\n   <g id=\"text_11\">\n    <g id=\"patch_14\">\n     <path d=\"M 38.617101 30.186374 \nL 63.471163 30.186374 \nL 63.471163 13.556062 \nL 38.617101 13.556062 \nz\n\"/>\n    </g>\n    <!-- dog -->\n    <defs>\n     <path d=\"M 45.40625 46.390625 \nL 45.40625 75.984375 \nL 54.390625 75.984375 \nL 54.390625 0 \nL 45.40625 0 \nL 45.40625 8.203125 \nQ 42.578125 3.328125 38.25 0.953125 \nQ 33.9375 -1.421875 27.875 -1.421875 \nQ 17.96875 -1.421875 11.734375 6.484375 \nQ 5.515625 14.40625 5.515625 27.296875 \nQ 5.515625 40.1875 11.734375 48.09375 \nQ 17.96875 56 27.875 56 \nQ 33.9375 56 38.25 53.625 \nQ 42.578125 51.265625 45.40625 46.390625 \nz\nM 14.796875 27.296875 \nQ 14.796875 17.390625 18.875 11.75 \nQ 22.953125 6.109375 30.078125 6.109375 \nQ 37.203125 6.109375 41.296875 11.75 \nQ 45.40625 17.390625 45.40625 27.296875 \nQ 45.40625 37.203125 41.296875 42.84375 \nQ 37.203125 48.484375 30.078125 48.484375 \nQ 22.953125 48.484375 18.875 42.84375 \nQ 14.796875 37.203125 14.796875 27.296875 \nz\n\" id=\"DejaVuSans-100\"/>\n     <path d=\"M 30.609375 48.390625 \nQ 23.390625 48.390625 19.1875 42.75 \nQ 14.984375 37.109375 14.984375 27.296875 \nQ 14.984375 17.484375 19.15625 11.84375 \nQ 23.34375 6.203125 30.609375 6.203125 \nQ 37.796875 6.203125 41.984375 11.859375 \nQ 46.1875 17.53125 46.1875 27.296875 \nQ 46.1875 37.015625 41.984375 42.703125 \nQ 37.796875 48.390625 30.609375 48.390625 \nz\nM 30.609375 56 \nQ 42.328125 56 49.015625 48.375 \nQ 55.71875 40.765625 55.71875 27.296875 \nQ 55.71875 13.875 49.015625 6.21875 \nQ 42.328125 -1.421875 30.609375 -1.421875 \nQ 18.84375 -1.421875 12.171875 6.21875 \nQ 5.515625 13.875 5.515625 27.296875 \nQ 5.515625 40.765625 12.171875 48.375 \nQ 18.84375 56 30.609375 56 \nz\n\" id=\"DejaVuSans-111\"/>\n     <path d=\"M 45.40625 27.984375 \nQ 45.40625 37.75 41.375 43.109375 \nQ 37.359375 48.484375 30.078125 48.484375 \nQ 22.859375 48.484375 18.828125 43.109375 \nQ 14.796875 37.75 14.796875 27.984375 \nQ 14.796875 18.265625 18.828125 12.890625 \nQ 22.859375 7.515625 30.078125 7.515625 \nQ 37.359375 7.515625 41.375 12.890625 \nQ 45.40625 18.265625 45.40625 27.984375 \nz\nM 54.390625 6.78125 \nQ 54.390625 -7.171875 48.1875 -13.984375 \nQ 42 -20.796875 29.203125 -20.796875 \nQ 24.46875 -20.796875 20.265625 -20.09375 \nQ 16.0625 -19.390625 12.109375 -17.921875 \nL 12.109375 -9.1875 \nQ 16.0625 -11.328125 19.921875 -12.34375 \nQ 23.78125 -13.375 27.78125 -13.375 \nQ 36.625 -13.375 41.015625 -8.765625 \nQ 45.40625 -4.15625 45.40625 5.171875 \nL 45.40625 9.625 \nQ 42.625 4.78125 38.28125 2.390625 \nQ 33.9375 0 27.875 0 \nQ 17.828125 0 11.671875 7.65625 \nQ 5.515625 15.328125 5.515625 27.984375 \nQ 5.515625 40.671875 11.671875 48.328125 \nQ 17.828125 56 27.875 56 \nQ 33.9375 56 38.28125 53.609375 \nQ 42.625 51.21875 45.40625 46.390625 \nL 45.40625 54.6875 \nL 54.390625 54.6875 \nz\n\" id=\"DejaVuSans-103\"/>\n    </defs>\n    <g style=\"fill:#ffffff;\" transform=\"translate(42.577101 24.354656)scale(0.09 -0.09)\">\n     <use xlink:href=\"#DejaVuSans-100\"/>\n     <use x=\"63.476562\" xlink:href=\"#DejaVuSans-111\"/>\n     <use x=\"124.658203\" xlink:href=\"#DejaVuSans-103\"/>\n    </g>\n   </g>\n   <g id=\"text_12\">\n    <g id=\"patch_15\">\n     <path d=\"M 119.447822 46.494376 \nL 141.360009 46.494376 \nL 141.360009 29.864064 \nL 119.447822 29.864064 \nz\n\"/>\n    </g>\n    <!-- cat -->\n    <defs>\n     <path d=\"M 48.78125 52.59375 \nL 48.78125 44.1875 \nQ 44.96875 46.296875 41.140625 47.34375 \nQ 37.3125 48.390625 33.40625 48.390625 \nQ 24.65625 48.390625 19.8125 42.84375 \nQ 14.984375 37.3125 14.984375 27.296875 \nQ 14.984375 17.28125 19.8125 11.734375 \nQ 24.65625 6.203125 33.40625 6.203125 \nQ 37.3125 6.203125 41.140625 7.25 \nQ 44.96875 8.296875 48.78125 10.40625 \nL 48.78125 2.09375 \nQ 45.015625 0.34375 40.984375 -0.53125 \nQ 36.96875 -1.421875 32.421875 -1.421875 \nQ 20.0625 -1.421875 12.78125 6.34375 \nQ 5.515625 14.109375 5.515625 27.296875 \nQ 5.515625 40.671875 12.859375 48.328125 \nQ 20.21875 56 33.015625 56 \nQ 37.15625 56 41.109375 55.140625 \nQ 45.0625 54.296875 48.78125 52.59375 \nz\n\" id=\"DejaVuSans-99\"/>\n     <path d=\"M 34.28125 27.484375 \nQ 23.390625 27.484375 19.1875 25 \nQ 14.984375 22.515625 14.984375 16.5 \nQ 14.984375 11.71875 18.140625 8.90625 \nQ 21.296875 6.109375 26.703125 6.109375 \nQ 34.1875 6.109375 38.703125 11.40625 \nQ 43.21875 16.703125 43.21875 25.484375 \nL 43.21875 27.484375 \nz\nM 52.203125 31.203125 \nL 52.203125 0 \nL 43.21875 0 \nL 43.21875 8.296875 \nQ 40.140625 3.328125 35.546875 0.953125 \nQ 30.953125 -1.421875 24.3125 -1.421875 \nQ 15.921875 -1.421875 10.953125 3.296875 \nQ 6 8.015625 6 15.921875 \nQ 6 25.140625 12.171875 29.828125 \nQ 18.359375 34.515625 30.609375 34.515625 \nL 43.21875 34.515625 \nL 43.21875 35.40625 \nQ 43.21875 41.609375 39.140625 45 \nQ 35.0625 48.390625 27.6875 48.390625 \nQ 23 48.390625 18.546875 47.265625 \nQ 14.109375 46.140625 10.015625 43.890625 \nL 10.015625 52.203125 \nQ 14.9375 54.109375 19.578125 55.046875 \nQ 24.21875 56 28.609375 56 \nQ 40.484375 56 46.34375 49.84375 \nQ 52.203125 43.703125 52.203125 31.203125 \nz\n\" id=\"DejaVuSans-97\"/>\n     <path d=\"M 18.3125 70.21875 \nL 18.3125 54.6875 \nL 36.8125 54.6875 \nL 36.8125 47.703125 \nL 18.3125 47.703125 \nL 18.3125 18.015625 \nQ 18.3125 11.328125 20.140625 9.421875 \nQ 21.96875 7.515625 27.59375 7.515625 \nL 36.8125 7.515625 \nL 36.8125 0 \nL 27.59375 0 \nQ 17.1875 0 13.234375 3.875 \nQ 9.28125 7.765625 9.28125 18.015625 \nL 9.28125 47.703125 \nL 2.6875 47.703125 \nL 2.6875 54.6875 \nL 9.28125 54.6875 \nL 9.28125 70.21875 \nz\n\" id=\"DejaVuSans-116\"/>\n    </defs>\n    <g style=\"fill:#ffffff;\" transform=\"translate(123.407822 40.662657)scale(0.09 -0.09)\">\n     <use xlink:href=\"#DejaVuSans-99\"/>\n     <use x=\"54.980469\" xlink:href=\"#DejaVuSans-97\"/>\n     <use x=\"116.259766\" xlink:href=\"#DejaVuSans-116\"/>\n    </g>\n   </g>\n   <g id=\"text_13\">\n    <g id=\"patch_16\">\n     <path d=\"M 26.585498 32.904376 \nL 40.231748 32.904376 \nL 40.231748 16.274063 \nL 26.585498 16.274063 \nz\n\" style=\"fill:#0000ff;\"/>\n    </g>\n    <!-- 0 -->\n    <g style=\"fill:#ffffff;\" transform=\"translate(30.545498 27.072657)scale(0.09 -0.09)\">\n     <use xlink:href=\"#DejaVuSans-48\"/>\n    </g>\n   </g>\n   <g id=\"text_14\">\n    <g id=\"patch_17\">\n     <path d=\"M 53.038761 46.494376 \nL 66.685011 46.494376 \nL 66.685011 29.864064 \nL 53.038761 29.864064 \nz\n\" style=\"fill:#008000;\"/>\n    </g>\n    <!-- 1 -->\n    <g style=\"fill:#ffffff;\" transform=\"translate(56.998761 40.662657)scale(0.09 -0.09)\">\n     <use xlink:href=\"#DejaVuSans-49\"/>\n    </g>\n   </g>\n   <g id=\"text_15\">\n    <g id=\"patch_18\">\n     <path d=\"M 137.689195 26.109375 \nL 151.335445 26.109375 \nL 151.335445 9.479063 \nL 137.689195 9.479063 \nz\n\" style=\"fill:#ff0000;\"/>\n    </g>\n    <!-- 2 -->\n    <g style=\"fill:#ffffff;\" transform=\"translate(141.649195 20.277657)scale(0.09 -0.09)\">\n     <use xlink:href=\"#DejaVuSans-50\"/>\n    </g>\n   </g>\n   <g id=\"text_16\">\n    <g id=\"patch_19\">\n     <path d=\"M 142.979854 80.469374 \nL 156.626104 80.469374 \nL 156.626104 63.839062 \nL 142.979854 63.839062 \nz\n\" style=\"fill:#bf00bf;\"/>\n    </g>\n    <!-- 3 -->\n    <g style=\"fill:#ffffff;\" transform=\"translate(146.939854 74.637656)scale(0.09 -0.09)\">\n     <use xlink:href=\"#DejaVuSans-51\"/>\n    </g>\n   </g>\n   <g id=\"text_17\">\n    <g id=\"patch_20\">\n     <path d=\"M 127.107892 60.084376 \nL 140.754142 60.084376 \nL 140.754142 43.454063 \nL 127.107892 43.454063 \nz\n\" style=\"fill:#00bfbf;\"/>\n    </g>\n    <!-- 4 -->\n    <g style=\"fill:#ffffff;\" transform=\"translate(131.067892 54.252657)scale(0.09 -0.09)\">\n     <use xlink:href=\"#DejaVuSans-52\"/>\n    </g>\n   </g>\n  </g>\n </g>\n <defs>\n  <clipPath id=\"p5564159354\">\n   <rect height=\"135.9\" width=\"176.35508\" x=\"33.2875\" y=\"10.878096\"/>\n  </clipPath>\n </defs>\n</svg>\n"
          },
          "metadata": {
            "needs_background": "light"
          }
        }
      ],
      "source": [
        "ground_truth = torch.tensor([[0, 0.1, 0.08, 0.52, 0.92],\n",
        "                         [1, 0.55, 0.2, 0.9, 0.88]])\n",
        "anchors = torch.tensor([[0, 0.1, 0.2, 0.3], [0.15, 0.2, 0.4, 0.4],\n",
        "                    [0.63, 0.05, 0.88, 0.98], [0.66, 0.45, 0.8, 0.8],\n",
        "                    [0.57, 0.3, 0.92, 0.9]])\n",
        "\n",
        "fig = d2l.plt.imshow(img)\n",
        "show_bboxes(fig.axes, ground_truth[:, 1:] * bbox_scale, ['dog', 'cat'], 'k')\n",
        "show_bboxes(fig.axes, anchors * bbox_scale, ['0', '1', '2', '3', '4']);"
      ]
    },
    {
      "cell_type": "markdown",
      "metadata": {
        "origin_pos": 28,
        "id": "mCbrf9ItHEjo"
      },
      "source": [
        "使用上面定义的`multibox_target`函数，我们可以[**根据狗和猫的真实边界框，标注这些锚框的分类和偏移量**]。\n",
        "在这个例子中，背景、狗和猫的类索引分别为0、1和2。\n",
        "下面我们为锚框和真实边界框样本添加一个维度。\n"
      ]
    },
    {
      "cell_type": "code",
      "execution_count": null,
      "metadata": {
        "origin_pos": 30,
        "tab": [
          "pytorch"
        ],
        "id": "pvyDU5uNHEjp"
      },
      "outputs": [],
      "source": [
        "labels = multibox_target(anchors.unsqueeze(dim=0),\n",
        "                         ground_truth.unsqueeze(dim=0))"
      ]
    },
    {
      "cell_type": "markdown",
      "metadata": {
        "origin_pos": 31,
        "id": "tsMv3gRHHEjp"
      },
      "source": [
        "返回的结果中有三个元素，都是张量格式。第三个元素包含标记的输入锚框的类别。\n",
        "\n",
        "让我们根据图像中的锚框和真实边界框的位置来分析下面返回的类别标签。\n",
        "首先，在所有的锚框和真实边界框配对中，锚框$A_4$与猫的真实边界框的IoU是最大的。\n",
        "因此，$A_4$的类别被标记为猫。\n",
        "去除包含$A_4$或猫的真实边界框的配对，在剩下的配对中，锚框$A_1$和狗的真实边界框有最大的IoU。\n",
        "因此，$A_1$的类别被标记为狗。\n",
        "接下来，我们需要遍历剩下的三个未标记的锚框：$A_0$、$A_2$和$A_3$。\n",
        "对于$A_0$，与其拥有最大IoU的真实边界框的类别是狗，但IoU低于预定义的阈值（0.5），因此该类别被标记为背景；\n",
        "对于$A_2$，与其拥有最大IoU的真实边界框的类别是猫，IoU超过阈值，所以类别被标记为猫；\n",
        "对于$A_3$，与其拥有最大IoU的真实边界框的类别是猫，但值低于阈值，因此该类别被标记为背景。\n"
      ]
    },
    {
      "cell_type": "code",
      "execution_count": null,
      "metadata": {
        "origin_pos": 32,
        "tab": [
          "pytorch"
        ],
        "id": "K8WkeQfXHEjq",
        "outputId": "9320a702-10c5-4a9c-eb76-b76a0b44f7cc"
      },
      "outputs": [
        {
          "data": {
            "text/plain": [
              "tensor([[0, 1, 2, 0, 2]])"
            ]
          },
          "execution_count": 13,
          "metadata": {},
          "output_type": "execute_result"
        }
      ],
      "source": [
        "labels[2]"
      ]
    },
    {
      "cell_type": "markdown",
      "metadata": {
        "origin_pos": 33,
        "id": "ECYgExHBHEjq"
      },
      "source": [
        "返回的第二个元素是掩码（mask）变量，形状为（批量大小，锚框数的四倍）。\n",
        "掩码变量中的元素与每个锚框的4个偏移量一一对应。\n",
        "由于我们不关心对背景的检测，负类的偏移量不应影响目标函数。\n",
        "通过元素乘法，掩码变量中的零将在计算目标函数之前过滤掉负类偏移量。\n"
      ]
    },
    {
      "cell_type": "code",
      "execution_count": null,
      "metadata": {
        "origin_pos": 34,
        "tab": [
          "pytorch"
        ],
        "id": "Jb_sTiBDHEjq",
        "outputId": "9c5aeb6d-37dc-473e-b291-aba138c258aa"
      },
      "outputs": [
        {
          "data": {
            "text/plain": [
              "tensor([[0., 0., 0., 0., 1., 1., 1., 1., 1., 1., 1., 1., 0., 0., 0., 0., 1., 1.,\n",
              "         1., 1.]])"
            ]
          },
          "execution_count": 14,
          "metadata": {},
          "output_type": "execute_result"
        }
      ],
      "source": [
        "labels[1]"
      ]
    },
    {
      "cell_type": "markdown",
      "metadata": {
        "origin_pos": 35,
        "id": "n9uVKFGgHEjr"
      },
      "source": [
        "返回的第一个元素包含了为每个锚框标记的四个偏移值。\n",
        "请注意，负类锚框的偏移量被标记为零。\n"
      ]
    },
    {
      "cell_type": "code",
      "execution_count": null,
      "metadata": {
        "origin_pos": 36,
        "tab": [
          "pytorch"
        ],
        "id": "0vBqj6T0HEjr",
        "outputId": "ae77a2a6-f350-47a0-9148-006811d2b5ad"
      },
      "outputs": [
        {
          "data": {
            "text/plain": [
              "tensor([[-0.00e+00, -0.00e+00, -0.00e+00, -0.00e+00,  1.40e+00,  1.00e+01,\n",
              "          2.59e+00,  7.18e+00, -1.20e+00,  2.69e-01,  1.68e+00, -1.57e+00,\n",
              "         -0.00e+00, -0.00e+00, -0.00e+00, -0.00e+00, -5.71e-01, -1.00e+00,\n",
              "          4.17e-06,  6.26e-01]])"
            ]
          },
          "execution_count": 15,
          "metadata": {},
          "output_type": "execute_result"
        }
      ],
      "source": [
        "labels[0]"
      ]
    },
    {
      "cell_type": "markdown",
      "metadata": {
        "origin_pos": 37,
        "id": "vYGMQujUHEjr"
      },
      "source": [
        "## 使用非极大值抑制预测边界框\n",
        ":label:`subsec_predicting-bounding-boxes-nms`\n",
        "\n",
        "在预测时，我们先为图像生成多个锚框，再为这些锚框一一预测类别和偏移量。\n",
        "一个“预测好的边界框”则根据其中某个带有预测偏移量的锚框而生成。\n",
        "下面我们实现了`offset_inverse`函数，该函数将锚框和偏移量预测作为输入，并[**应用逆偏移变换来返回预测的边界框坐标**]。\n"
      ]
    },
    {
      "cell_type": "code",
      "execution_count": null,
      "metadata": {
        "origin_pos": 38,
        "tab": [
          "pytorch"
        ],
        "id": "31wJbdpcHEjr"
      },
      "outputs": [],
      "source": [
        "def offset_inverse(anchors, offset_preds):\n",
        "    \"\"\"根据带有预测偏移量的锚框来预测边界框\"\"\"\n",
        "    anc = d2l.box_corner_to_center(anchors)\n",
        "    pred_bbox_xy = (offset_preds[:, :2] * anc[:, 2:] / 10) + anc[:, :2]\n",
        "    pred_bbox_wh = torch.exp(offset_preds[:, 2:] / 5) * anc[:, 2:]\n",
        "    pred_bbox = torch.cat((pred_bbox_xy, pred_bbox_wh), axis=1)\n",
        "    predicted_bbox = d2l.box_center_to_corner(pred_bbox)\n",
        "    return predicted_bbox"
      ]
    },
    {
      "cell_type": "markdown",
      "metadata": {
        "origin_pos": 39,
        "id": "xLjzioHWHEjr"
      },
      "source": [
        "当有许多锚框时，可能会输出许多相似的具有明显重叠的预测边界框，都围绕着同一目标。\n",
        "为了简化输出，我们可以使用*非极大值抑制*（non-maximum suppression，NMS）合并属于同一目标的类似的预测边界框。\n",
        "\n",
        "以下是非极大值抑制的工作原理。\n",
        "对于一个预测边界框$B$，目标检测模型会计算每个类别的预测概率。\n",
        "假设最大的预测概率为$p$，则该概率所对应的类别$B$即为预测的类别。\n",
        "具体来说，我们将$p$称为预测边界框$B$的*置信度*（confidence）。\n",
        "在同一张图像中，所有预测的非背景边界框都按置信度降序排序，以生成列表$L$。然后我们通过以下步骤操作排序列表$L$：\n",
        "\n",
        "1. 从$L$中选取置信度最高的预测边界框$B_1$作为基准，然后将所有与$B_1$的IoU超过预定阈值$\\epsilon$的非基准预测边界框从$L$中移除。这时，$L$保留了置信度最高的预测边界框，去除了与其太过相似的其他预测边界框。简而言之，那些具有*非极大值*置信度的边界框被*抑制*了。\n",
        "1. 从$L$中选取置信度第二高的预测边界框$B_2$作为又一个基准，然后将所有与$B_2$的IoU大于$\\epsilon$的非基准预测边界框从$L$中移除。\n",
        "1. 重复上述过程，直到$L$中的所有预测边界框都曾被用作基准。此时，$L$中任意一对预测边界框的IoU都小于阈值$\\epsilon$；因此，没有一对边界框过于相似。\n",
        "1. 输出列表$L$中的所有预测边界框。\n",
        "\n",
        "[**以下`nms`函数按降序对置信度进行排序并返回其索引**]。\n"
      ]
    },
    {
      "cell_type": "code",
      "execution_count": null,
      "metadata": {
        "origin_pos": 41,
        "tab": [
          "pytorch"
        ],
        "id": "iT-lOMP0HEjs"
      },
      "outputs": [],
      "source": [
        "def nms(boxes, scores, iou_threshold):\n",
        "    \"\"\"对预测边界框的置信度进行排序\"\"\"\n",
        "    B = torch.argsort(scores, dim=-1, descending=True)\n",
        "    keep = []  # 保留预测边界框的指标\n",
        "    while B.numel() > 0:\n",
        "        i = B[0]\n",
        "        keep.append(i)\n",
        "        if B.numel() == 1: break\n",
        "        iou = box_iou(boxes[i, :].reshape(-1, 4),\n",
        "                      boxes[B[1:], :].reshape(-1, 4)).reshape(-1)\n",
        "        inds = torch.nonzero(iou <= iou_threshold).reshape(-1)\n",
        "        B = B[inds + 1]\n",
        "    return torch.tensor(keep, device=boxes.device)"
      ]
    },
    {
      "cell_type": "markdown",
      "metadata": {
        "origin_pos": 42,
        "id": "QUssGOfyHEjs"
      },
      "source": [
        "我们定义以下`multibox_detection`函数来[**将非极大值抑制应用于预测边界框**]。\n",
        "如果你发现实现有点复杂，请不要担心。我们将在实现之后，马上用一个具体的例子来展示它是如何工作的。\n"
      ]
    },
    {
      "cell_type": "code",
      "execution_count": null,
      "metadata": {
        "origin_pos": 44,
        "tab": [
          "pytorch"
        ],
        "id": "fjjJwtACHEjt"
      },
      "outputs": [],
      "source": [
        "def multibox_detection(cls_probs, offset_preds, anchors, nms_threshold=0.5,\n",
        "                       pos_threshold=0.009999999):\n",
        "    \"\"\"使用非极大值抑制来预测边界框\"\"\"\n",
        "    device, batch_size = cls_probs.device, cls_probs.shape[0]\n",
        "    anchors = anchors.squeeze(0)\n",
        "    num_classes, num_anchors = cls_probs.shape[1], cls_probs.shape[2]\n",
        "    out = []\n",
        "    for i in range(batch_size):\n",
        "        cls_prob, offset_pred = cls_probs[i], offset_preds[i].reshape(-1, 4)\n",
        "        conf, class_id = torch.max(cls_prob[1:], 0)\n",
        "        predicted_bb = offset_inverse(anchors, offset_pred)\n",
        "        keep = nms(predicted_bb, conf, nms_threshold)\n",
        "\n",
        "        # 找到所有的non_keep索引，并将类设置为背景\n",
        "        all_idx = torch.arange(num_anchors, dtype=torch.long, device=device)\n",
        "        combined = torch.cat((keep, all_idx))\n",
        "        uniques, counts = combined.unique(return_counts=True)\n",
        "        non_keep = uniques[counts == 1]\n",
        "        all_id_sorted = torch.cat((keep, non_keep))\n",
        "        class_id[non_keep] = -1\n",
        "        class_id = class_id[all_id_sorted]\n",
        "        conf, predicted_bb = conf[all_id_sorted], predicted_bb[all_id_sorted]\n",
        "        # pos_threshold是一个用于非背景预测的阈值\n",
        "        below_min_idx = (conf < pos_threshold)\n",
        "        class_id[below_min_idx] = -1\n",
        "        conf[below_min_idx] = 1 - conf[below_min_idx]\n",
        "        pred_info = torch.cat((class_id.unsqueeze(1),\n",
        "                               conf.unsqueeze(1),\n",
        "                               predicted_bb), dim=1)\n",
        "        out.append(pred_info)\n",
        "    return torch.stack(out)"
      ]
    },
    {
      "cell_type": "markdown",
      "metadata": {
        "origin_pos": 45,
        "id": "RSO1Z8JOHEjt"
      },
      "source": [
        "现在让我们[**将上述算法应用到一个带有四个锚框的具体示例中**]。\n",
        "为简单起见，我们假设预测的偏移量都是零，这意味着预测的边界框即是锚框。\n",
        "对于背景、狗和猫其中的每个类，我们还定义了它的预测概率。\n"
      ]
    },
    {
      "cell_type": "code",
      "execution_count": null,
      "metadata": {
        "origin_pos": 46,
        "tab": [
          "pytorch"
        ],
        "id": "mzKy-uZ3HEjt"
      },
      "outputs": [],
      "source": [
        "anchors = torch.tensor([[0.1, 0.08, 0.52, 0.92], [0.08, 0.2, 0.56, 0.95],\n",
        "                      [0.15, 0.3, 0.62, 0.91], [0.55, 0.2, 0.9, 0.88]])\n",
        "offset_preds = torch.tensor([0] * anchors.numel())\n",
        "cls_probs = torch.tensor([[0] * 4,  # 背景的预测概率\n",
        "                      [0.9, 0.8, 0.7, 0.1],  # 狗的预测概率\n",
        "                      [0.1, 0.2, 0.3, 0.9]])  # 猫的预测概率"
      ]
    },
    {
      "cell_type": "markdown",
      "metadata": {
        "origin_pos": 47,
        "id": "NS0jjad-HEju"
      },
      "source": [
        "我们可以[**在图像上绘制这些预测边界框和置信度**]。\n"
      ]
    },
    {
      "cell_type": "code",
      "execution_count": null,
      "metadata": {
        "origin_pos": 48,
        "tab": [
          "pytorch"
        ],
        "id": "3im5VyQMHEju",
        "outputId": "9e5702cf-58cc-48fb-cfa7-ff4eaf3740dc"
      },
      "outputs": [
        {
          "data": {
            "image/svg+xml": [
              "<?xml version=\"1.0\" encoding=\"utf-8\" standalone=\"no\"?>\n",
              "<!DOCTYPE svg PUBLIC \"-//W3C//DTD SVG 1.1//EN\"\n",
              "  \"http://www.w3.org/Graphics/SVG/1.1/DTD/svg11.dtd\">\n",
              "<!-- Created with matplotlib (https://matplotlib.org/) -->\n",
              "<svg height=\"170.656221pt\" version=\"1.1\" viewBox=\"0 0 216.84258 170.656221\" width=\"216.84258pt\" xmlns=\"http://www.w3.org/2000/svg\" xmlns:xlink=\"http://www.w3.org/1999/xlink\">\n",
              " <metadata>\n",
              "  <rdf:RDF xmlns:cc=\"http://creativecommons.org/ns#\" xmlns:dc=\"http://purl.org/dc/elements/1.1/\" xmlns:rdf=\"http://www.w3.org/1999/02/22-rdf-syntax-ns#\">\n",
              "   <cc:Work>\n",
              "    <dc:type rdf:resource=\"http://purl.org/dc/dcmitype/StillImage\"/>\n",
              "    <dc:date>2022-01-17T01:26:50.236455</dc:date>\n",
              "    <dc:format>image/svg+xml</dc:format>\n",
              "    <dc:creator>\n",
              "     <cc:Agent>\n",
              "      <dc:title>Matplotlib v3.3.3, https://matplotlib.org/</dc:title>\n",
              "     </cc:Agent>\n",
              "    </dc:creator>\n",
              "   </cc:Work>\n",
              "  </rdf:RDF>\n",
              " </metadata>\n",
              " <defs>\n",
              "  <style type=\"text/css\">*{stroke-linecap:butt;stroke-linejoin:round;}</style>\n",
              " </defs>\n",
              " <g id=\"figure_1\">\n",
              "  <g id=\"patch_1\">\n",
              "   <path d=\"M 0 170.656221 \n",
              "L 216.84258 170.656221 \n",
              "L 216.84258 0 \n",
              "L 0 0 \n",
              "z\n",
              "\" style=\"fill:none;\"/>\n",
              "  </g>\n",
              "  <g id=\"axes_1\">\n",
              "   <g id=\"patch_2\">\n",
              "    <path d=\"M 33.2875 146.778096 \n",
              "L 209.64258 146.778096 \n",
              "L 209.64258 10.878096 \n",
              "L 33.2875 10.878096 \n",
              "z\n",
              "\" style=\"fill:#ffffff;\"/>\n",
              "   </g>\n",
              "   <g clip-path=\"url(#p75d48de3c3)\">\n",
              "    <image height=\"136\" id=\"imageea5173a5ba\" transform=\"scale(1 -1)translate(0 -136)\" width=\"177\" x=\"33.2875\" xlink:href=\"data:image/png;base64,\n",
              "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\" y=\"-10.778096\"/>\n",
              "   </g>\n",
              "   <g id=\"patch_3\">\n",
              "    <path clip-path=\"url(#p75d48de3c3)\" d=\"M 51.044132 21.871218 \n",
              "L 125.113264 21.871218 \n",
              "L 125.113264 136.027218 \n",
              "L 51.044132 136.027218 \n",
              "z\n",
              "\" style=\"fill:none;stroke:#0000ff;stroke-linejoin:miter;stroke-width:2;\"/>\n",
              "   </g>\n",
              "   <g id=\"patch_4\">\n",
              "    <path clip-path=\"url(#p75d48de3c3)\" d=\"M 47.517029 38.17922 \n",
              "L 132.167466 38.17922 \n",
              "L 132.167466 140.104222 \n",
              "L 47.517029 140.104222 \n",
              "z\n",
              "\" style=\"fill:none;stroke:#008000;stroke-linejoin:miter;stroke-width:2;\"/>\n",
              "   </g>\n",
              "   <g id=\"patch_5\">\n",
              "    <path clip-path=\"url(#p75d48de3c3)\" d=\"M 59.861886 51.769219 \n",
              "L 142.748777 51.769219 \n",
              "L 142.748777 134.668221 \n",
              "L 59.861886 134.668221 \n",
              "z\n",
              "\" style=\"fill:none;stroke:#ff0000;stroke-linejoin:miter;stroke-width:2;\"/>\n",
              "   </g>\n",
              "   <g id=\"patch_6\">\n",
              "    <path clip-path=\"url(#p75d48de3c3)\" d=\"M 130.403916 38.17922 \n",
              "L 192.128198 38.17922 \n",
              "L 192.128198 130.591217 \n",
              "L 130.403916 130.591217 \n",
              "z\n",
              "\" style=\"fill:none;stroke:#bf00bf;stroke-linejoin:miter;stroke-width:2;\"/>\n",
              "   </g>\n",
              "   <g id=\"matplotlib.axis_1\">\n",
              "    <g id=\"xtick_1\">\n",
              "     <g id=\"line2d_1\">\n",
              "      <defs>\n",
              "       <path d=\"M 0 0 \n",
              "L 0 3.5 \n",
              "\" id=\"m62d84a97e9\" style=\"stroke:#000000;stroke-width:0.8;\"/>\n",
              "      </defs>\n",
              "      <g>\n",
              "       <use style=\"stroke:#000000;stroke-width:0.8;\" x=\"33.408623\" xlink:href=\"#m62d84a97e9\" y=\"146.778096\"/>\n",
              "      </g>\n",
              "     </g>\n",
              "     <g id=\"text_1\">\n",
              "      <!-- 0 -->\n",
              "      <g transform=\"translate(30.227373 161.376533)scale(0.1 -0.1)\">\n",
              "       <defs>\n",
              "        <path d=\"M 31.78125 66.40625 \n",
              "Q 24.171875 66.40625 20.328125 58.90625 \n",
              "Q 16.5 51.421875 16.5 36.375 \n",
              "Q 16.5 21.390625 20.328125 13.890625 \n",
              "Q 24.171875 6.390625 31.78125 6.390625 \n",
              "Q 39.453125 6.390625 43.28125 13.890625 \n",
              "Q 47.125 21.390625 47.125 36.375 \n",
              "Q 47.125 51.421875 43.28125 58.90625 \n",
              "Q 39.453125 66.40625 31.78125 66.40625 \n",
              "z\n",
              "M 31.78125 74.21875 \n",
              "Q 44.046875 74.21875 50.515625 64.515625 \n",
              "Q 56.984375 54.828125 56.984375 36.375 \n",
              "Q 56.984375 17.96875 50.515625 8.265625 \n",
              "Q 44.046875 -1.421875 31.78125 -1.421875 \n",
              "Q 19.53125 -1.421875 13.0625 8.265625 \n",
              "Q 6.59375 17.96875 6.59375 36.375 \n",
              "Q 6.59375 54.828125 13.0625 64.515625 \n",
              "Q 19.53125 74.21875 31.78125 74.21875 \n",
              "z\n",
              "\" id=\"DejaVuSans-48\"/>\n",
              "       </defs>\n",
              "       <use xlink:href=\"#DejaVuSans-48\"/>\n",
              "      </g>\n",
              "     </g>\n",
              "    </g>\n",
              "    <g id=\"xtick_2\">\n",
              "     <g id=\"line2d_2\">\n",
              "      <g>\n",
              "       <use style=\"stroke:#000000;stroke-width:0.8;\" x=\"81.857821\" xlink:href=\"#m62d84a97e9\" y=\"146.778096\"/>\n",
              "      </g>\n",
              "     </g>\n",
              "     <g id=\"text_2\">\n",
              "      <!-- 200 -->\n",
              "      <g transform=\"translate(72.314071 161.376533)scale(0.1 -0.1)\">\n",
              "       <defs>\n",
              "        <path d=\"M 19.1875 8.296875 \n",
              "L 53.609375 8.296875 \n",
              "L 53.609375 0 \n",
              "L 7.328125 0 \n",
              "L 7.328125 8.296875 \n",
              "Q 12.9375 14.109375 22.625 23.890625 \n",
              "Q 32.328125 33.6875 34.8125 36.53125 \n",
              "Q 39.546875 41.84375 41.421875 45.53125 \n",
              "Q 43.3125 49.21875 43.3125 52.78125 \n",
              "Q 43.3125 58.59375 39.234375 62.25 \n",
              "Q 35.15625 65.921875 28.609375 65.921875 \n",
              "Q 23.96875 65.921875 18.8125 64.3125 \n",
              "Q 13.671875 62.703125 7.8125 59.421875 \n",
              "L 7.8125 69.390625 \n",
              "Q 13.765625 71.78125 18.9375 73 \n",
              "Q 24.125 74.21875 28.421875 74.21875 \n",
              "Q 39.75 74.21875 46.484375 68.546875 \n",
              "Q 53.21875 62.890625 53.21875 53.421875 \n",
              "Q 53.21875 48.921875 51.53125 44.890625 \n",
              "Q 49.859375 40.875 45.40625 35.40625 \n",
              "Q 44.1875 33.984375 37.640625 27.21875 \n",
              "Q 31.109375 20.453125 19.1875 8.296875 \n",
              "z\n",
              "\" id=\"DejaVuSans-50\"/>\n",
              "       </defs>\n",
              "       <use xlink:href=\"#DejaVuSans-50\"/>\n",
              "       <use x=\"63.623047\" xlink:href=\"#DejaVuSans-48\"/>\n",
              "       <use x=\"127.246094\" xlink:href=\"#DejaVuSans-48\"/>\n",
              "      </g>\n",
              "     </g>\n",
              "    </g>\n",
              "    <g id=\"xtick_3\">\n",
              "     <g id=\"line2d_3\">\n",
              "      <g>\n",
              "       <use style=\"stroke:#000000;stroke-width:0.8;\" x=\"130.307019\" xlink:href=\"#m62d84a97e9\" y=\"146.778096\"/>\n",
              "      </g>\n",
              "     </g>\n",
              "     <g id=\"text_3\">\n",
              "      <!-- 400 -->\n",
              "      <g transform=\"translate(120.763269 161.376533)scale(0.1 -0.1)\">\n",
              "       <defs>\n",
              "        <path d=\"M 37.796875 64.3125 \n",
              "L 12.890625 25.390625 \n",
              "L 37.796875 25.390625 \n",
              "z\n",
              "M 35.203125 72.90625 \n",
              "L 47.609375 72.90625 \n",
              "L 47.609375 25.390625 \n",
              "L 58.015625 25.390625 \n",
              "L 58.015625 17.1875 \n",
              "L 47.609375 17.1875 \n",
              "L 47.609375 0 \n",
              "L 37.796875 0 \n",
              "L 37.796875 17.1875 \n",
              "L 4.890625 17.1875 \n",
              "L 4.890625 26.703125 \n",
              "z\n",
              "\" id=\"DejaVuSans-52\"/>\n",
              "       </defs>\n",
              "       <use xlink:href=\"#DejaVuSans-52\"/>\n",
              "       <use x=\"63.623047\" xlink:href=\"#DejaVuSans-48\"/>\n",
              "       <use x=\"127.246094\" xlink:href=\"#DejaVuSans-48\"/>\n",
              "      </g>\n",
              "     </g>\n",
              "    </g>\n",
              "    <g id=\"xtick_4\">\n",
              "     <g id=\"line2d_4\">\n",
              "      <g>\n",
              "       <use style=\"stroke:#000000;stroke-width:0.8;\" x=\"178.756217\" xlink:href=\"#m62d84a97e9\" y=\"146.778096\"/>\n",
              "      </g>\n",
              "     </g>\n",
              "     <g id=\"text_4\">\n",
              "      <!-- 600 -->\n",
              "      <g transform=\"translate(169.212467 161.376533)scale(0.1 -0.1)\">\n",
              "       <defs>\n",
              "        <path d=\"M 33.015625 40.375 \n",
              "Q 26.375 40.375 22.484375 35.828125 \n",
              "Q 18.609375 31.296875 18.609375 23.390625 \n",
              "Q 18.609375 15.53125 22.484375 10.953125 \n",
              "Q 26.375 6.390625 33.015625 6.390625 \n",
              "Q 39.65625 6.390625 43.53125 10.953125 \n",
              "Q 47.40625 15.53125 47.40625 23.390625 \n",
              "Q 47.40625 31.296875 43.53125 35.828125 \n",
              "Q 39.65625 40.375 33.015625 40.375 \n",
              "z\n",
              "M 52.59375 71.296875 \n",
              "L 52.59375 62.3125 \n",
              "Q 48.875 64.0625 45.09375 64.984375 \n",
              "Q 41.3125 65.921875 37.59375 65.921875 \n",
              "Q 27.828125 65.921875 22.671875 59.328125 \n",
              "Q 17.53125 52.734375 16.796875 39.40625 \n",
              "Q 19.671875 43.65625 24.015625 45.921875 \n",
              "Q 28.375 48.1875 33.59375 48.1875 \n",
              "Q 44.578125 48.1875 50.953125 41.515625 \n",
              "Q 57.328125 34.859375 57.328125 23.390625 \n",
              "Q 57.328125 12.15625 50.6875 5.359375 \n",
              "Q 44.046875 -1.421875 33.015625 -1.421875 \n",
              "Q 20.359375 -1.421875 13.671875 8.265625 \n",
              "Q 6.984375 17.96875 6.984375 36.375 \n",
              "Q 6.984375 53.65625 15.1875 63.9375 \n",
              "Q 23.390625 74.21875 37.203125 74.21875 \n",
              "Q 40.921875 74.21875 44.703125 73.484375 \n",
              "Q 48.484375 72.75 52.59375 71.296875 \n",
              "z\n",
              "\" id=\"DejaVuSans-54\"/>\n",
              "       </defs>\n",
              "       <use xlink:href=\"#DejaVuSans-54\"/>\n",
              "       <use x=\"63.623047\" xlink:href=\"#DejaVuSans-48\"/>\n",
              "       <use x=\"127.246094\" xlink:href=\"#DejaVuSans-48\"/>\n",
              "      </g>\n",
              "     </g>\n",
              "    </g>\n",
              "   </g>\n",
              "   <g id=\"matplotlib.axis_2\">\n",
              "    <g id=\"ytick_1\">\n",
              "     <g id=\"line2d_5\">\n",
              "      <defs>\n",
              "       <path d=\"M 0 0 \n",
              "L -3.5 0 \n",
              "\" id=\"mb190c30b71\" style=\"stroke:#000000;stroke-width:0.8;\"/>\n",
              "      </defs>\n",
              "      <g>\n",
              "       <use style=\"stroke:#000000;stroke-width:0.8;\" x=\"33.2875\" xlink:href=\"#mb190c30b71\" y=\"10.999219\"/>\n",
              "      </g>\n",
              "     </g>\n",
              "     <g id=\"text_5\">\n",
              "      <!-- 0 -->\n",
              "      <g transform=\"translate(19.925 14.798437)scale(0.1 -0.1)\">\n",
              "       <use xlink:href=\"#DejaVuSans-48\"/>\n",
              "      </g>\n",
              "     </g>\n",
              "    </g>\n",
              "    <g id=\"ytick_2\">\n",
              "     <g id=\"line2d_6\">\n",
              "      <g>\n",
              "       <use style=\"stroke:#000000;stroke-width:0.8;\" x=\"33.2875\" xlink:href=\"#mb190c30b71\" y=\"35.223818\"/>\n",
              "      </g>\n",
              "     </g>\n",
              "     <g id=\"text_6\">\n",
              "      <!-- 100 -->\n",
              "      <g transform=\"translate(7.2 39.023036)scale(0.1 -0.1)\">\n",
              "       <defs>\n",
              "        <path d=\"M 12.40625 8.296875 \n",
              "L 28.515625 8.296875 \n",
              "L 28.515625 63.921875 \n",
              "L 10.984375 60.40625 \n",
              "L 10.984375 69.390625 \n",
              "L 28.421875 72.90625 \n",
              "L 38.28125 72.90625 \n",
              "L 38.28125 8.296875 \n",
              "L 54.390625 8.296875 \n",
              "L 54.390625 0 \n",
              "L 12.40625 0 \n",
              "z\n",
              "\" id=\"DejaVuSans-49\"/>\n",
              "       </defs>\n",
              "       <use xlink:href=\"#DejaVuSans-49\"/>\n",
              "       <use x=\"63.623047\" xlink:href=\"#DejaVuSans-48\"/>\n",
              "       <use x=\"127.246094\" xlink:href=\"#DejaVuSans-48\"/>\n",
              "      </g>\n",
              "     </g>\n",
              "    </g>\n",
              "    <g id=\"ytick_3\">\n",
              "     <g id=\"line2d_7\">\n",
              "      <g>\n",
              "       <use style=\"stroke:#000000;stroke-width:0.8;\" x=\"33.2875\" xlink:href=\"#mb190c30b71\" y=\"59.448417\"/>\n",
              "      </g>\n",
              "     </g>\n",
              "     <g id=\"text_7\">\n",
              "      <!-- 200 -->\n",
              "      <g transform=\"translate(7.2 63.247635)scale(0.1 -0.1)\">\n",
              "       <use xlink:href=\"#DejaVuSans-50\"/>\n",
              "       <use x=\"63.623047\" xlink:href=\"#DejaVuSans-48\"/>\n",
              "       <use x=\"127.246094\" xlink:href=\"#DejaVuSans-48\"/>\n",
              "      </g>\n",
              "     </g>\n",
              "    </g>\n",
              "    <g id=\"ytick_4\">\n",
              "     <g id=\"line2d_8\">\n",
              "      <g>\n",
              "       <use style=\"stroke:#000000;stroke-width:0.8;\" x=\"33.2875\" xlink:href=\"#mb190c30b71\" y=\"83.673016\"/>\n",
              "      </g>\n",
              "     </g>\n",
              "     <g id=\"text_8\">\n",
              "      <!-- 300 -->\n",
              "      <g transform=\"translate(7.2 87.472234)scale(0.1 -0.1)\">\n",
              "       <defs>\n",
              "        <path d=\"M 40.578125 39.3125 \n",
              "Q 47.65625 37.796875 51.625 33 \n",
              "Q 55.609375 28.21875 55.609375 21.1875 \n",
              "Q 55.609375 10.40625 48.1875 4.484375 \n",
              "Q 40.765625 -1.421875 27.09375 -1.421875 \n",
              "Q 22.515625 -1.421875 17.65625 -0.515625 \n",
              "Q 12.796875 0.390625 7.625 2.203125 \n",
              "L 7.625 11.71875 \n",
              "Q 11.71875 9.328125 16.59375 8.109375 \n",
              "Q 21.484375 6.890625 26.8125 6.890625 \n",
              "Q 36.078125 6.890625 40.9375 10.546875 \n",
              "Q 45.796875 14.203125 45.796875 21.1875 \n",
              "Q 45.796875 27.640625 41.28125 31.265625 \n",
              "Q 36.765625 34.90625 28.71875 34.90625 \n",
              "L 20.21875 34.90625 \n",
              "L 20.21875 43.015625 \n",
              "L 29.109375 43.015625 \n",
              "Q 36.375 43.015625 40.234375 45.921875 \n",
              "Q 44.09375 48.828125 44.09375 54.296875 \n",
              "Q 44.09375 59.90625 40.109375 62.90625 \n",
              "Q 36.140625 65.921875 28.71875 65.921875 \n",
              "Q 24.65625 65.921875 20.015625 65.03125 \n",
              "Q 15.375 64.15625 9.8125 62.3125 \n",
              "L 9.8125 71.09375 \n",
              "Q 15.4375 72.65625 20.34375 73.4375 \n",
              "Q 25.25 74.21875 29.59375 74.21875 \n",
              "Q 40.828125 74.21875 47.359375 69.109375 \n",
              "Q 53.90625 64.015625 53.90625 55.328125 \n",
              "Q 53.90625 49.265625 50.4375 45.09375 \n",
              "Q 46.96875 40.921875 40.578125 39.3125 \n",
              "z\n",
              "\" id=\"DejaVuSans-51\"/>\n",
              "       </defs>\n",
              "       <use xlink:href=\"#DejaVuSans-51\"/>\n",
              "       <use x=\"63.623047\" xlink:href=\"#DejaVuSans-48\"/>\n",
              "       <use x=\"127.246094\" xlink:href=\"#DejaVuSans-48\"/>\n",
              "      </g>\n",
              "     </g>\n",
              "    </g>\n",
              "    <g id=\"ytick_5\">\n",
              "     <g id=\"line2d_9\">\n",
              "      <g>\n",
              "       <use style=\"stroke:#000000;stroke-width:0.8;\" x=\"33.2875\" xlink:href=\"#mb190c30b71\" y=\"107.897614\"/>\n",
              "      </g>\n",
              "     </g>\n",
              "     <g id=\"text_9\">\n",
              "      <!-- 400 -->\n",
              "      <g transform=\"translate(7.2 111.696833)scale(0.1 -0.1)\">\n",
              "       <use xlink:href=\"#DejaVuSans-52\"/>\n",
              "       <use x=\"63.623047\" xlink:href=\"#DejaVuSans-48\"/>\n",
              "       <use x=\"127.246094\" xlink:href=\"#DejaVuSans-48\"/>\n",
              "      </g>\n",
              "     </g>\n",
              "    </g>\n",
              "    <g id=\"ytick_6\">\n",
              "     <g id=\"line2d_10\">\n",
              "      <g>\n",
              "       <use style=\"stroke:#000000;stroke-width:0.8;\" x=\"33.2875\" xlink:href=\"#mb190c30b71\" y=\"132.122213\"/>\n",
              "      </g>\n",
              "     </g>\n",
              "     <g id=\"text_10\">\n",
              "      <!-- 500 -->\n",
              "      <g transform=\"translate(7.2 135.921432)scale(0.1 -0.1)\">\n",
              "       <defs>\n",
              "        <path d=\"M 10.796875 72.90625 \n",
              "L 49.515625 72.90625 \n",
              "L 49.515625 64.59375 \n",
              "L 19.828125 64.59375 \n",
              "L 19.828125 46.734375 \n",
              "Q 21.96875 47.46875 24.109375 47.828125 \n",
              "Q 26.265625 48.1875 28.421875 48.1875 \n",
              "Q 40.625 48.1875 47.75 41.5 \n",
              "Q 54.890625 34.8125 54.890625 23.390625 \n",
              "Q 54.890625 11.625 47.5625 5.09375 \n",
              "Q 40.234375 -1.421875 26.90625 -1.421875 \n",
              "Q 22.3125 -1.421875 17.546875 -0.640625 \n",
              "Q 12.796875 0.140625 7.71875 1.703125 \n",
              "L 7.71875 11.625 \n",
              "Q 12.109375 9.234375 16.796875 8.0625 \n",
              "Q 21.484375 6.890625 26.703125 6.890625 \n",
              "Q 35.15625 6.890625 40.078125 11.328125 \n",
              "Q 45.015625 15.765625 45.015625 23.390625 \n",
              "Q 45.015625 31 40.078125 35.4375 \n",
              "Q 35.15625 39.890625 26.703125 39.890625 \n",
              "Q 22.75 39.890625 18.8125 39.015625 \n",
              "Q 14.890625 38.140625 10.796875 36.28125 \n",
              "z\n",
              "\" id=\"DejaVuSans-53\"/>\n",
              "       </defs>\n",
              "       <use xlink:href=\"#DejaVuSans-53\"/>\n",
              "       <use x=\"63.623047\" xlink:href=\"#DejaVuSans-48\"/>\n",
              "       <use x=\"127.246094\" xlink:href=\"#DejaVuSans-48\"/>\n",
              "      </g>\n",
              "     </g>\n",
              "    </g>\n",
              "   </g>\n",
              "   <g id=\"patch_7\">\n",
              "    <path d=\"M 33.2875 146.778096 \n",
              "L 33.2875 10.878096 \n",
              "\" style=\"fill:none;stroke:#000000;stroke-linecap:square;stroke-linejoin:miter;stroke-width:0.8;\"/>\n",
              "   </g>\n",
              "   <g id=\"patch_8\">\n",
              "    <path d=\"M 209.64258 146.778096 \n",
              "L 209.64258 10.878096 \n",
              "\" style=\"fill:none;stroke:#000000;stroke-linecap:square;stroke-linejoin:miter;stroke-width:0.8;\"/>\n",
              "   </g>\n",
              "   <g id=\"patch_9\">\n",
              "    <path d=\"M 33.2875 146.778096 \n",
              "L 209.64258 146.778096 \n",
              "\" style=\"fill:none;stroke:#000000;stroke-linecap:square;stroke-linejoin:miter;stroke-width:0.8;\"/>\n",
              "   </g>\n",
              "   <g id=\"patch_10\">\n",
              "    <path d=\"M 33.2875 10.878096 \n",
              "L 209.64258 10.878096 \n",
              "\" style=\"fill:none;stroke:#000000;stroke-linecap:square;stroke-linejoin:miter;stroke-width:0.8;\"/>\n",
              "   </g>\n",
              "   <g id=\"text_11\">\n",
              "    <g id=\"patch_11\">\n",
              "     <path d=\"M 27.689835 30.186374 \n",
              "L 74.398429 30.186374 \n",
              "L 74.398429 13.556062 \n",
              "L 27.689835 13.556062 \n",
              "z\n",
              "\" style=\"fill:#0000ff;\"/>\n",
              "    </g>\n",
              "    <!-- dog=0.9 -->\n",
              "    <g style=\"fill:#ffffff;\" transform=\"translate(31.649835 24.354656)scale(0.09 -0.09)\">\n",
              "     <defs>\n",
              "      <path d=\"M 45.40625 46.390625 \n",
              "L 45.40625 75.984375 \n",
              "L 54.390625 75.984375 \n",
              "L 54.390625 0 \n",
              "L 45.40625 0 \n",
              "L 45.40625 8.203125 \n",
              "Q 42.578125 3.328125 38.25 0.953125 \n",
              "Q 33.9375 -1.421875 27.875 -1.421875 \n",
              "Q 17.96875 -1.421875 11.734375 6.484375 \n",
              "Q 5.515625 14.40625 5.515625 27.296875 \n",
              "Q 5.515625 40.1875 11.734375 48.09375 \n",
              "Q 17.96875 56 27.875 56 \n",
              "Q 33.9375 56 38.25 53.625 \n",
              "Q 42.578125 51.265625 45.40625 46.390625 \n",
              "z\n",
              "M 14.796875 27.296875 \n",
              "Q 14.796875 17.390625 18.875 11.75 \n",
              "Q 22.953125 6.109375 30.078125 6.109375 \n",
              "Q 37.203125 6.109375 41.296875 11.75 \n",
              "Q 45.40625 17.390625 45.40625 27.296875 \n",
              "Q 45.40625 37.203125 41.296875 42.84375 \n",
              "Q 37.203125 48.484375 30.078125 48.484375 \n",
              "Q 22.953125 48.484375 18.875 42.84375 \n",
              "Q 14.796875 37.203125 14.796875 27.296875 \n",
              "z\n",
              "\" id=\"DejaVuSans-100\"/>\n",
              "      <path d=\"M 30.609375 48.390625 \n",
              "Q 23.390625 48.390625 19.1875 42.75 \n",
              "Q 14.984375 37.109375 14.984375 27.296875 \n",
              "Q 14.984375 17.484375 19.15625 11.84375 \n",
              "Q 23.34375 6.203125 30.609375 6.203125 \n",
              "Q 37.796875 6.203125 41.984375 11.859375 \n",
              "Q 46.1875 17.53125 46.1875 27.296875 \n",
              "Q 46.1875 37.015625 41.984375 42.703125 \n",
              "Q 37.796875 48.390625 30.609375 48.390625 \n",
              "z\n",
              "M 30.609375 56 \n",
              "Q 42.328125 56 49.015625 48.375 \n",
              "Q 55.71875 40.765625 55.71875 27.296875 \n",
              "Q 55.71875 13.875 49.015625 6.21875 \n",
              "Q 42.328125 -1.421875 30.609375 -1.421875 \n",
              "Q 18.84375 -1.421875 12.171875 6.21875 \n",
              "Q 5.515625 13.875 5.515625 27.296875 \n",
              "Q 5.515625 40.765625 12.171875 48.375 \n",
              "Q 18.84375 56 30.609375 56 \n",
              "z\n",
              "\" id=\"DejaVuSans-111\"/>\n",
              "      <path d=\"M 45.40625 27.984375 \n",
              "Q 45.40625 37.75 41.375 43.109375 \n",
              "Q 37.359375 48.484375 30.078125 48.484375 \n",
              "Q 22.859375 48.484375 18.828125 43.109375 \n",
              "Q 14.796875 37.75 14.796875 27.984375 \n",
              "Q 14.796875 18.265625 18.828125 12.890625 \n",
              "Q 22.859375 7.515625 30.078125 7.515625 \n",
              "Q 37.359375 7.515625 41.375 12.890625 \n",
              "Q 45.40625 18.265625 45.40625 27.984375 \n",
              "z\n",
              "M 54.390625 6.78125 \n",
              "Q 54.390625 -7.171875 48.1875 -13.984375 \n",
              "Q 42 -20.796875 29.203125 -20.796875 \n",
              "Q 24.46875 -20.796875 20.265625 -20.09375 \n",
              "Q 16.0625 -19.390625 12.109375 -17.921875 \n",
              "L 12.109375 -9.1875 \n",
              "Q 16.0625 -11.328125 19.921875 -12.34375 \n",
              "Q 23.78125 -13.375 27.78125 -13.375 \n",
              "Q 36.625 -13.375 41.015625 -8.765625 \n",
              "Q 45.40625 -4.15625 45.40625 5.171875 \n",
              "L 45.40625 9.625 \n",
              "Q 42.625 4.78125 38.28125 2.390625 \n",
              "Q 33.9375 0 27.875 0 \n",
              "Q 17.828125 0 11.671875 7.65625 \n",
              "Q 5.515625 15.328125 5.515625 27.984375 \n",
              "Q 5.515625 40.671875 11.671875 48.328125 \n",
              "Q 17.828125 56 27.875 56 \n",
              "Q 33.9375 56 38.28125 53.609375 \n",
              "Q 42.625 51.21875 45.40625 46.390625 \n",
              "L 45.40625 54.6875 \n",
              "L 54.390625 54.6875 \n",
              "z\n",
              "\" id=\"DejaVuSans-103\"/>\n",
              "      <path d=\"M 10.59375 45.40625 \n",
              "L 73.1875 45.40625 \n",
              "L 73.1875 37.203125 \n",
              "L 10.59375 37.203125 \n",
              "z\n",
              "M 10.59375 25.484375 \n",
              "L 73.1875 25.484375 \n",
              "L 73.1875 17.1875 \n",
              "L 10.59375 17.1875 \n",
              "z\n",
              "\" id=\"DejaVuSans-61\"/>\n",
              "      <path d=\"M 10.6875 12.40625 \n",
              "L 21 12.40625 \n",
              "L 21 0 \n",
              "L 10.6875 0 \n",
              "z\n",
              "\" id=\"DejaVuSans-46\"/>\n",
              "      <path d=\"M 10.984375 1.515625 \n",
              "L 10.984375 10.5 \n",
              "Q 14.703125 8.734375 18.5 7.8125 \n",
              "Q 22.3125 6.890625 25.984375 6.890625 \n",
              "Q 35.75 6.890625 40.890625 13.453125 \n",
              "Q 46.046875 20.015625 46.78125 33.40625 \n",
              "Q 43.953125 29.203125 39.59375 26.953125 \n",
              "Q 35.25 24.703125 29.984375 24.703125 \n",
              "Q 19.046875 24.703125 12.671875 31.3125 \n",
              "Q 6.296875 37.9375 6.296875 49.421875 \n",
              "Q 6.296875 60.640625 12.9375 67.421875 \n",
              "Q 19.578125 74.21875 30.609375 74.21875 \n",
              "Q 43.265625 74.21875 49.921875 64.515625 \n",
              "Q 56.59375 54.828125 56.59375 36.375 \n",
              "Q 56.59375 19.140625 48.40625 8.859375 \n",
              "Q 40.234375 -1.421875 26.421875 -1.421875 \n",
              "Q 22.703125 -1.421875 18.890625 -0.6875 \n",
              "Q 15.09375 0.046875 10.984375 1.515625 \n",
              "z\n",
              "M 30.609375 32.421875 \n",
              "Q 37.25 32.421875 41.125 36.953125 \n",
              "Q 45.015625 41.5 45.015625 49.421875 \n",
              "Q 45.015625 57.28125 41.125 61.84375 \n",
              "Q 37.25 66.40625 30.609375 66.40625 \n",
              "Q 23.96875 66.40625 20.09375 61.84375 \n",
              "Q 16.21875 57.28125 16.21875 49.421875 \n",
              "Q 16.21875 41.5 20.09375 36.953125 \n",
              "Q 23.96875 32.421875 30.609375 32.421875 \n",
              "z\n",
              "\" id=\"DejaVuSans-57\"/>\n",
              "     </defs>\n",
              "     <use xlink:href=\"#DejaVuSans-100\"/>\n",
              "     <use x=\"63.476562\" xlink:href=\"#DejaVuSans-111\"/>\n",
              "     <use x=\"124.658203\" xlink:href=\"#DejaVuSans-103\"/>\n",
              "     <use x=\"188.134766\" xlink:href=\"#DejaVuSans-61\"/>\n",
              "     <use x=\"271.923828\" xlink:href=\"#DejaVuSans-48\"/>\n",
              "     <use x=\"335.546875\" xlink:href=\"#DejaVuSans-46\"/>\n",
              "     <use x=\"367.333984\" xlink:href=\"#DejaVuSans-57\"/>\n",
              "    </g>\n",
              "   </g>\n",
              "   <g id=\"text_12\">\n",
              "    <g id=\"patch_12\">\n",
              "     <path d=\"M 24.162732 46.494376 \n",
              "L 70.871326 46.494376 \n",
              "L 70.871326 29.864064 \n",
              "L 24.162732 29.864064 \n",
              "z\n",
              "\" style=\"fill:#008000;\"/>\n",
              "    </g>\n",
              "    <!-- dog=0.8 -->\n",
              "    <g style=\"fill:#ffffff;\" transform=\"translate(28.122732 40.662657)scale(0.09 -0.09)\">\n",
              "     <defs>\n",
              "      <path d=\"M 31.78125 34.625 \n",
              "Q 24.75 34.625 20.71875 30.859375 \n",
              "Q 16.703125 27.09375 16.703125 20.515625 \n",
              "Q 16.703125 13.921875 20.71875 10.15625 \n",
              "Q 24.75 6.390625 31.78125 6.390625 \n",
              "Q 38.8125 6.390625 42.859375 10.171875 \n",
              "Q 46.921875 13.96875 46.921875 20.515625 \n",
              "Q 46.921875 27.09375 42.890625 30.859375 \n",
              "Q 38.875 34.625 31.78125 34.625 \n",
              "z\n",
              "M 21.921875 38.8125 \n",
              "Q 15.578125 40.375 12.03125 44.71875 \n",
              "Q 8.5 49.078125 8.5 55.328125 \n",
              "Q 8.5 64.0625 14.71875 69.140625 \n",
              "Q 20.953125 74.21875 31.78125 74.21875 \n",
              "Q 42.671875 74.21875 48.875 69.140625 \n",
              "Q 55.078125 64.0625 55.078125 55.328125 \n",
              "Q 55.078125 49.078125 51.53125 44.71875 \n",
              "Q 48 40.375 41.703125 38.8125 \n",
              "Q 48.828125 37.15625 52.796875 32.3125 \n",
              "Q 56.78125 27.484375 56.78125 20.515625 \n",
              "Q 56.78125 9.90625 50.3125 4.234375 \n",
              "Q 43.84375 -1.421875 31.78125 -1.421875 \n",
              "Q 19.734375 -1.421875 13.25 4.234375 \n",
              "Q 6.78125 9.90625 6.78125 20.515625 \n",
              "Q 6.78125 27.484375 10.78125 32.3125 \n",
              "Q 14.796875 37.15625 21.921875 38.8125 \n",
              "z\n",
              "M 18.3125 54.390625 \n",
              "Q 18.3125 48.734375 21.84375 45.5625 \n",
              "Q 25.390625 42.390625 31.78125 42.390625 \n",
              "Q 38.140625 42.390625 41.71875 45.5625 \n",
              "Q 45.3125 48.734375 45.3125 54.390625 \n",
              "Q 45.3125 60.0625 41.71875 63.234375 \n",
              "Q 38.140625 66.40625 31.78125 66.40625 \n",
              "Q 25.390625 66.40625 21.84375 63.234375 \n",
              "Q 18.3125 60.0625 18.3125 54.390625 \n",
              "z\n",
              "\" id=\"DejaVuSans-56\"/>\n",
              "     </defs>\n",
              "     <use xlink:href=\"#DejaVuSans-100\"/>\n",
              "     <use x=\"63.476562\" xlink:href=\"#DejaVuSans-111\"/>\n",
              "     <use x=\"124.658203\" xlink:href=\"#DejaVuSans-103\"/>\n",
              "     <use x=\"188.134766\" xlink:href=\"#DejaVuSans-61\"/>\n",
              "     <use x=\"271.923828\" xlink:href=\"#DejaVuSans-48\"/>\n",
              "     <use x=\"335.546875\" xlink:href=\"#DejaVuSans-46\"/>\n",
              "     <use x=\"367.333984\" xlink:href=\"#DejaVuSans-56\"/>\n",
              "    </g>\n",
              "   </g>\n",
              "   <g id=\"text_13\">\n",
              "    <g id=\"patch_13\">\n",
              "     <path d=\"M 36.507589 60.084376 \n",
              "L 83.216183 60.084376 \n",
              "L 83.216183 43.454063 \n",
              "L 36.507589 43.454063 \n",
              "z\n",
              "\" style=\"fill:#ff0000;\"/>\n",
              "    </g>\n",
              "    <!-- dog=0.7 -->\n",
              "    <g style=\"fill:#ffffff;\" transform=\"translate(40.467589 54.252657)scale(0.09 -0.09)\">\n",
              "     <defs>\n",
              "      <path d=\"M 8.203125 72.90625 \n",
              "L 55.078125 72.90625 \n",
              "L 55.078125 68.703125 \n",
              "L 28.609375 0 \n",
              "L 18.3125 0 \n",
              "L 43.21875 64.59375 \n",
              "L 8.203125 64.59375 \n",
              "z\n",
              "\" id=\"DejaVuSans-55\"/>\n",
              "     </defs>\n",
              "     <use xlink:href=\"#DejaVuSans-100\"/>\n",
              "     <use x=\"63.476562\" xlink:href=\"#DejaVuSans-111\"/>\n",
              "     <use x=\"124.658203\" xlink:href=\"#DejaVuSans-103\"/>\n",
              "     <use x=\"188.134766\" xlink:href=\"#DejaVuSans-61\"/>\n",
              "     <use x=\"271.923828\" xlink:href=\"#DejaVuSans-48\"/>\n",
              "     <use x=\"335.546875\" xlink:href=\"#DejaVuSans-46\"/>\n",
              "     <use x=\"367.333984\" xlink:href=\"#DejaVuSans-55\"/>\n",
              "    </g>\n",
              "   </g>\n",
              "   <g id=\"text_14\">\n",
              "    <g id=\"patch_14\">\n",
              "     <path d=\"M 108.520556 46.494376 \n",
              "L 152.287275 46.494376 \n",
              "L 152.287275 29.864064 \n",
              "L 108.520556 29.864064 \n",
              "z\n",
              "\" style=\"fill:#bf00bf;\"/>\n",
              "    </g>\n",
              "    <!-- cat=0.9 -->\n",
              "    <g style=\"fill:#ffffff;\" transform=\"translate(112.480556 40.662657)scale(0.09 -0.09)\">\n",
              "     <defs>\n",
              "      <path d=\"M 48.78125 52.59375 \n",
              "L 48.78125 44.1875 \n",
              "Q 44.96875 46.296875 41.140625 47.34375 \n",
              "Q 37.3125 48.390625 33.40625 48.390625 \n",
              "Q 24.65625 48.390625 19.8125 42.84375 \n",
              "Q 14.984375 37.3125 14.984375 27.296875 \n",
              "Q 14.984375 17.28125 19.8125 11.734375 \n",
              "Q 24.65625 6.203125 33.40625 6.203125 \n",
              "Q 37.3125 6.203125 41.140625 7.25 \n",
              "Q 44.96875 8.296875 48.78125 10.40625 \n",
              "L 48.78125 2.09375 \n",
              "Q 45.015625 0.34375 40.984375 -0.53125 \n",
              "Q 36.96875 -1.421875 32.421875 -1.421875 \n",
              "Q 20.0625 -1.421875 12.78125 6.34375 \n",
              "Q 5.515625 14.109375 5.515625 27.296875 \n",
              "Q 5.515625 40.671875 12.859375 48.328125 \n",
              "Q 20.21875 56 33.015625 56 \n",
              "Q 37.15625 56 41.109375 55.140625 \n",
              "Q 45.0625 54.296875 48.78125 52.59375 \n",
              "z\n",
              "\" id=\"DejaVuSans-99\"/>\n",
              "      <path d=\"M 34.28125 27.484375 \n",
              "Q 23.390625 27.484375 19.1875 25 \n",
              "Q 14.984375 22.515625 14.984375 16.5 \n",
              "Q 14.984375 11.71875 18.140625 8.90625 \n",
              "Q 21.296875 6.109375 26.703125 6.109375 \n",
              "Q 34.1875 6.109375 38.703125 11.40625 \n",
              "Q 43.21875 16.703125 43.21875 25.484375 \n",
              "L 43.21875 27.484375 \n",
              "z\n",
              "M 52.203125 31.203125 \n",
              "L 52.203125 0 \n",
              "L 43.21875 0 \n",
              "L 43.21875 8.296875 \n",
              "Q 40.140625 3.328125 35.546875 0.953125 \n",
              "Q 30.953125 -1.421875 24.3125 -1.421875 \n",
              "Q 15.921875 -1.421875 10.953125 3.296875 \n",
              "Q 6 8.015625 6 15.921875 \n",
              "Q 6 25.140625 12.171875 29.828125 \n",
              "Q 18.359375 34.515625 30.609375 34.515625 \n",
              "L 43.21875 34.515625 \n",
              "L 43.21875 35.40625 \n",
              "Q 43.21875 41.609375 39.140625 45 \n",
              "Q 35.0625 48.390625 27.6875 48.390625 \n",
              "Q 23 48.390625 18.546875 47.265625 \n",
              "Q 14.109375 46.140625 10.015625 43.890625 \n",
              "L 10.015625 52.203125 \n",
              "Q 14.9375 54.109375 19.578125 55.046875 \n",
              "Q 24.21875 56 28.609375 56 \n",
              "Q 40.484375 56 46.34375 49.84375 \n",
              "Q 52.203125 43.703125 52.203125 31.203125 \n",
              "z\n",
              "\" id=\"DejaVuSans-97\"/>\n",
              "      <path d=\"M 18.3125 70.21875 \n",
              "L 18.3125 54.6875 \n",
              "L 36.8125 54.6875 \n",
              "L 36.8125 47.703125 \n",
              "L 18.3125 47.703125 \n",
              "L 18.3125 18.015625 \n",
              "Q 18.3125 11.328125 20.140625 9.421875 \n",
              "Q 21.96875 7.515625 27.59375 7.515625 \n",
              "L 36.8125 7.515625 \n",
              "L 36.8125 0 \n",
              "L 27.59375 0 \n",
              "Q 17.1875 0 13.234375 3.875 \n",
              "Q 9.28125 7.765625 9.28125 18.015625 \n",
              "L 9.28125 47.703125 \n",
              "L 2.6875 47.703125 \n",
              "L 2.6875 54.6875 \n",
              "L 9.28125 54.6875 \n",
              "L 9.28125 70.21875 \n",
              "z\n",
              "\" id=\"DejaVuSans-116\"/>\n",
              "     </defs>\n",
              "     <use xlink:href=\"#DejaVuSans-99\"/>\n",
              "     <use x=\"54.980469\" xlink:href=\"#DejaVuSans-97\"/>\n",
              "     <use x=\"116.259766\" xlink:href=\"#DejaVuSans-116\"/>\n",
              "     <use x=\"155.46875\" xlink:href=\"#DejaVuSans-61\"/>\n",
              "     <use x=\"239.257812\" xlink:href=\"#DejaVuSans-48\"/>\n",
              "     <use x=\"302.880859\" xlink:href=\"#DejaVuSans-46\"/>\n",
              "     <use x=\"334.667969\" xlink:href=\"#DejaVuSans-57\"/>\n",
              "    </g>\n",
              "   </g>\n",
              "  </g>\n",
              " </g>\n",
              " <defs>\n",
              "  <clipPath id=\"p75d48de3c3\">\n",
              "   <rect height=\"135.9\" width=\"176.35508\" x=\"33.2875\" y=\"10.878096\"/>\n",
              "  </clipPath>\n",
              " </defs>\n",
              "</svg>\n"
            ],
            "text/plain": [
              "<Figure size 252x180 with 1 Axes>"
            ]
          },
          "metadata": {
            "needs_background": "light"
          },
          "output_type": "display_data"
        }
      ],
      "source": [
        "fig = d2l.plt.imshow(img)\n",
        "show_bboxes(fig.axes, anchors * bbox_scale,\n",
        "            ['dog=0.9', 'dog=0.8', 'dog=0.7', 'cat=0.9'])"
      ]
    },
    {
      "cell_type": "markdown",
      "metadata": {
        "origin_pos": 49,
        "id": "rEmnQr1aHEju"
      },
      "source": [
        "现在我们可以调用`multibox_detection`函数来执行非极大值抑制，其中阈值设置为0.5。\n",
        "请注意，我们在示例的张量输入中添加了维度。\n",
        "\n",
        "我们可以看到[**返回结果的形状是（批量大小，锚框的数量，6）**]。\n",
        "最内层维度中的六个元素提供了同一预测边界框的输出信息。\n",
        "第一个元素是预测的类索引，从0开始（0代表狗，1代表猫），值-1表示背景或在非极大值抑制中被移除了。\n",
        "第二个元素是预测的边界框的置信度。\n",
        "其余四个元素分别是预测边界框左上角和右下角的$(x, y)$轴坐标（范围介于0和1之间）。\n"
      ]
    },
    {
      "cell_type": "code",
      "execution_count": null,
      "metadata": {
        "origin_pos": 51,
        "tab": [
          "pytorch"
        ],
        "id": "IaBlznaJHEju",
        "outputId": "d41c77a8-2b84-40a1-914b-9ac43d5cfe3b"
      },
      "outputs": [
        {
          "data": {
            "text/plain": [
              "tensor([[[ 0.00,  0.90,  0.10,  0.08,  0.52,  0.92],\n",
              "         [ 1.00,  0.90,  0.55,  0.20,  0.90,  0.88],\n",
              "         [-1.00,  0.80,  0.08,  0.20,  0.56,  0.95],\n",
              "         [-1.00,  0.70,  0.15,  0.30,  0.62,  0.91]]])"
            ]
          },
          "execution_count": 21,
          "metadata": {},
          "output_type": "execute_result"
        }
      ],
      "source": [
        "output = multibox_detection(cls_probs.unsqueeze(dim=0),\n",
        "                            offset_preds.unsqueeze(dim=0),\n",
        "                            anchors.unsqueeze(dim=0),\n",
        "                            nms_threshold=0.5)\n",
        "output"
      ]
    },
    {
      "cell_type": "markdown",
      "metadata": {
        "origin_pos": 52,
        "id": "_T1mlNQ9HEjv"
      },
      "source": [
        "删除-1类别（背景）的预测边界框后，我们可以[**输出由非极大值抑制保存的最终预测边界框**]。\n"
      ]
    },
    {
      "cell_type": "code",
      "execution_count": null,
      "metadata": {
        "origin_pos": 53,
        "tab": [
          "pytorch"
        ],
        "id": "sW4IQ4FaHEjv",
        "outputId": "c0ef7131-32fc-4fd4-cacd-677982ab434c"
      },
      "outputs": [
        {
          "data": {
            "image/svg+xml": [
              "<?xml version=\"1.0\" encoding=\"utf-8\" standalone=\"no\"?>\n",
              "<!DOCTYPE svg PUBLIC \"-//W3C//DTD SVG 1.1//EN\"\n",
              "  \"http://www.w3.org/Graphics/SVG/1.1/DTD/svg11.dtd\">\n",
              "<!-- Created with matplotlib (https://matplotlib.org/) -->\n",
              "<svg height=\"170.656221pt\" version=\"1.1\" viewBox=\"0 0 216.84258 170.656221\" width=\"216.84258pt\" xmlns=\"http://www.w3.org/2000/svg\" xmlns:xlink=\"http://www.w3.org/1999/xlink\">\n",
              " <metadata>\n",
              "  <rdf:RDF xmlns:cc=\"http://creativecommons.org/ns#\" xmlns:dc=\"http://purl.org/dc/elements/1.1/\" xmlns:rdf=\"http://www.w3.org/1999/02/22-rdf-syntax-ns#\">\n",
              "   <cc:Work>\n",
              "    <dc:type rdf:resource=\"http://purl.org/dc/dcmitype/StillImage\"/>\n",
              "    <dc:date>2022-01-17T01:26:50.530071</dc:date>\n",
              "    <dc:format>image/svg+xml</dc:format>\n",
              "    <dc:creator>\n",
              "     <cc:Agent>\n",
              "      <dc:title>Matplotlib v3.3.3, https://matplotlib.org/</dc:title>\n",
              "     </cc:Agent>\n",
              "    </dc:creator>\n",
              "   </cc:Work>\n",
              "  </rdf:RDF>\n",
              " </metadata>\n",
              " <defs>\n",
              "  <style type=\"text/css\">*{stroke-linecap:butt;stroke-linejoin:round;}</style>\n",
              " </defs>\n",
              " <g id=\"figure_1\">\n",
              "  <g id=\"patch_1\">\n",
              "   <path d=\"M 0 170.656221 \n",
              "L 216.84258 170.656221 \n",
              "L 216.84258 0 \n",
              "L 0 0 \n",
              "z\n",
              "\" style=\"fill:none;\"/>\n",
              "  </g>\n",
              "  <g id=\"axes_1\">\n",
              "   <g id=\"patch_2\">\n",
              "    <path d=\"M 33.2875 146.778096 \n",
              "L 209.64258 146.778096 \n",
              "L 209.64258 10.878096 \n",
              "L 33.2875 10.878096 \n",
              "z\n",
              "\" style=\"fill:#ffffff;\"/>\n",
              "   </g>\n",
              "   <g clip-path=\"url(#pb9e93975d1)\">\n",
              "    <image height=\"136\" id=\"image483f190a28\" transform=\"scale(1 -1)translate(0 -136)\" width=\"177\" x=\"33.2875\" xlink:href=\"data:image/png;base64,\n",
              "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\" y=\"-10.778096\"/>\n",
              "   </g>\n",
              "   <g id=\"patch_3\">\n",
              "    <path clip-path=\"url(#pb9e93975d1)\" d=\"M 51.044132 21.871216 \n",
              "L 125.113264 21.871216 \n",
              "L 125.113264 136.027218 \n",
              "L 51.044132 136.027218 \n",
              "z\n",
              "\" style=\"fill:none;stroke:#0000ff;stroke-linejoin:miter;stroke-width:2;\"/>\n",
              "   </g>\n",
              "   <g id=\"patch_4\">\n",
              "    <path clip-path=\"url(#pb9e93975d1)\" d=\"M 130.40393 38.179222 \n",
              "L 192.128198 38.179222 \n",
              "L 192.128198 130.591217 \n",
              "L 130.40393 130.591217 \n",
              "z\n",
              "\" style=\"fill:none;stroke:#0000ff;stroke-linejoin:miter;stroke-width:2;\"/>\n",
              "   </g>\n",
              "   <g id=\"matplotlib.axis_1\">\n",
              "    <g id=\"xtick_1\">\n",
              "     <g id=\"line2d_1\">\n",
              "      <defs>\n",
              "       <path d=\"M 0 0 \n",
              "L 0 3.5 \n",
              "\" id=\"m9da3724c7d\" style=\"stroke:#000000;stroke-width:0.8;\"/>\n",
              "      </defs>\n",
              "      <g>\n",
              "       <use style=\"stroke:#000000;stroke-width:0.8;\" x=\"33.408623\" xlink:href=\"#m9da3724c7d\" y=\"146.778096\"/>\n",
              "      </g>\n",
              "     </g>\n",
              "     <g id=\"text_1\">\n",
              "      <!-- 0 -->\n",
              "      <g transform=\"translate(30.227373 161.376533)scale(0.1 -0.1)\">\n",
              "       <defs>\n",
              "        <path d=\"M 31.78125 66.40625 \n",
              "Q 24.171875 66.40625 20.328125 58.90625 \n",
              "Q 16.5 51.421875 16.5 36.375 \n",
              "Q 16.5 21.390625 20.328125 13.890625 \n",
              "Q 24.171875 6.390625 31.78125 6.390625 \n",
              "Q 39.453125 6.390625 43.28125 13.890625 \n",
              "Q 47.125 21.390625 47.125 36.375 \n",
              "Q 47.125 51.421875 43.28125 58.90625 \n",
              "Q 39.453125 66.40625 31.78125 66.40625 \n",
              "z\n",
              "M 31.78125 74.21875 \n",
              "Q 44.046875 74.21875 50.515625 64.515625 \n",
              "Q 56.984375 54.828125 56.984375 36.375 \n",
              "Q 56.984375 17.96875 50.515625 8.265625 \n",
              "Q 44.046875 -1.421875 31.78125 -1.421875 \n",
              "Q 19.53125 -1.421875 13.0625 8.265625 \n",
              "Q 6.59375 17.96875 6.59375 36.375 \n",
              "Q 6.59375 54.828125 13.0625 64.515625 \n",
              "Q 19.53125 74.21875 31.78125 74.21875 \n",
              "z\n",
              "\" id=\"DejaVuSans-48\"/>\n",
              "       </defs>\n",
              "       <use xlink:href=\"#DejaVuSans-48\"/>\n",
              "      </g>\n",
              "     </g>\n",
              "    </g>\n",
              "    <g id=\"xtick_2\">\n",
              "     <g id=\"line2d_2\">\n",
              "      <g>\n",
              "       <use style=\"stroke:#000000;stroke-width:0.8;\" x=\"81.857821\" xlink:href=\"#m9da3724c7d\" y=\"146.778096\"/>\n",
              "      </g>\n",
              "     </g>\n",
              "     <g id=\"text_2\">\n",
              "      <!-- 200 -->\n",
              "      <g transform=\"translate(72.314071 161.376533)scale(0.1 -0.1)\">\n",
              "       <defs>\n",
              "        <path d=\"M 19.1875 8.296875 \n",
              "L 53.609375 8.296875 \n",
              "L 53.609375 0 \n",
              "L 7.328125 0 \n",
              "L 7.328125 8.296875 \n",
              "Q 12.9375 14.109375 22.625 23.890625 \n",
              "Q 32.328125 33.6875 34.8125 36.53125 \n",
              "Q 39.546875 41.84375 41.421875 45.53125 \n",
              "Q 43.3125 49.21875 43.3125 52.78125 \n",
              "Q 43.3125 58.59375 39.234375 62.25 \n",
              "Q 35.15625 65.921875 28.609375 65.921875 \n",
              "Q 23.96875 65.921875 18.8125 64.3125 \n",
              "Q 13.671875 62.703125 7.8125 59.421875 \n",
              "L 7.8125 69.390625 \n",
              "Q 13.765625 71.78125 18.9375 73 \n",
              "Q 24.125 74.21875 28.421875 74.21875 \n",
              "Q 39.75 74.21875 46.484375 68.546875 \n",
              "Q 53.21875 62.890625 53.21875 53.421875 \n",
              "Q 53.21875 48.921875 51.53125 44.890625 \n",
              "Q 49.859375 40.875 45.40625 35.40625 \n",
              "Q 44.1875 33.984375 37.640625 27.21875 \n",
              "Q 31.109375 20.453125 19.1875 8.296875 \n",
              "z\n",
              "\" id=\"DejaVuSans-50\"/>\n",
              "       </defs>\n",
              "       <use xlink:href=\"#DejaVuSans-50\"/>\n",
              "       <use x=\"63.623047\" xlink:href=\"#DejaVuSans-48\"/>\n",
              "       <use x=\"127.246094\" xlink:href=\"#DejaVuSans-48\"/>\n",
              "      </g>\n",
              "     </g>\n",
              "    </g>\n",
              "    <g id=\"xtick_3\">\n",
              "     <g id=\"line2d_3\">\n",
              "      <g>\n",
              "       <use style=\"stroke:#000000;stroke-width:0.8;\" x=\"130.307019\" xlink:href=\"#m9da3724c7d\" y=\"146.778096\"/>\n",
              "      </g>\n",
              "     </g>\n",
              "     <g id=\"text_3\">\n",
              "      <!-- 400 -->\n",
              "      <g transform=\"translate(120.763269 161.376533)scale(0.1 -0.1)\">\n",
              "       <defs>\n",
              "        <path d=\"M 37.796875 64.3125 \n",
              "L 12.890625 25.390625 \n",
              "L 37.796875 25.390625 \n",
              "z\n",
              "M 35.203125 72.90625 \n",
              "L 47.609375 72.90625 \n",
              "L 47.609375 25.390625 \n",
              "L 58.015625 25.390625 \n",
              "L 58.015625 17.1875 \n",
              "L 47.609375 17.1875 \n",
              "L 47.609375 0 \n",
              "L 37.796875 0 \n",
              "L 37.796875 17.1875 \n",
              "L 4.890625 17.1875 \n",
              "L 4.890625 26.703125 \n",
              "z\n",
              "\" id=\"DejaVuSans-52\"/>\n",
              "       </defs>\n",
              "       <use xlink:href=\"#DejaVuSans-52\"/>\n",
              "       <use x=\"63.623047\" xlink:href=\"#DejaVuSans-48\"/>\n",
              "       <use x=\"127.246094\" xlink:href=\"#DejaVuSans-48\"/>\n",
              "      </g>\n",
              "     </g>\n",
              "    </g>\n",
              "    <g id=\"xtick_4\">\n",
              "     <g id=\"line2d_4\">\n",
              "      <g>\n",
              "       <use style=\"stroke:#000000;stroke-width:0.8;\" x=\"178.756217\" xlink:href=\"#m9da3724c7d\" y=\"146.778096\"/>\n",
              "      </g>\n",
              "     </g>\n",
              "     <g id=\"text_4\">\n",
              "      <!-- 600 -->\n",
              "      <g transform=\"translate(169.212467 161.376533)scale(0.1 -0.1)\">\n",
              "       <defs>\n",
              "        <path d=\"M 33.015625 40.375 \n",
              "Q 26.375 40.375 22.484375 35.828125 \n",
              "Q 18.609375 31.296875 18.609375 23.390625 \n",
              "Q 18.609375 15.53125 22.484375 10.953125 \n",
              "Q 26.375 6.390625 33.015625 6.390625 \n",
              "Q 39.65625 6.390625 43.53125 10.953125 \n",
              "Q 47.40625 15.53125 47.40625 23.390625 \n",
              "Q 47.40625 31.296875 43.53125 35.828125 \n",
              "Q 39.65625 40.375 33.015625 40.375 \n",
              "z\n",
              "M 52.59375 71.296875 \n",
              "L 52.59375 62.3125 \n",
              "Q 48.875 64.0625 45.09375 64.984375 \n",
              "Q 41.3125 65.921875 37.59375 65.921875 \n",
              "Q 27.828125 65.921875 22.671875 59.328125 \n",
              "Q 17.53125 52.734375 16.796875 39.40625 \n",
              "Q 19.671875 43.65625 24.015625 45.921875 \n",
              "Q 28.375 48.1875 33.59375 48.1875 \n",
              "Q 44.578125 48.1875 50.953125 41.515625 \n",
              "Q 57.328125 34.859375 57.328125 23.390625 \n",
              "Q 57.328125 12.15625 50.6875 5.359375 \n",
              "Q 44.046875 -1.421875 33.015625 -1.421875 \n",
              "Q 20.359375 -1.421875 13.671875 8.265625 \n",
              "Q 6.984375 17.96875 6.984375 36.375 \n",
              "Q 6.984375 53.65625 15.1875 63.9375 \n",
              "Q 23.390625 74.21875 37.203125 74.21875 \n",
              "Q 40.921875 74.21875 44.703125 73.484375 \n",
              "Q 48.484375 72.75 52.59375 71.296875 \n",
              "z\n",
              "\" id=\"DejaVuSans-54\"/>\n",
              "       </defs>\n",
              "       <use xlink:href=\"#DejaVuSans-54\"/>\n",
              "       <use x=\"63.623047\" xlink:href=\"#DejaVuSans-48\"/>\n",
              "       <use x=\"127.246094\" xlink:href=\"#DejaVuSans-48\"/>\n",
              "      </g>\n",
              "     </g>\n",
              "    </g>\n",
              "   </g>\n",
              "   <g id=\"matplotlib.axis_2\">\n",
              "    <g id=\"ytick_1\">\n",
              "     <g id=\"line2d_5\">\n",
              "      <defs>\n",
              "       <path d=\"M 0 0 \n",
              "L -3.5 0 \n",
              "\" id=\"m612c71b82c\" style=\"stroke:#000000;stroke-width:0.8;\"/>\n",
              "      </defs>\n",
              "      <g>\n",
              "       <use style=\"stroke:#000000;stroke-width:0.8;\" x=\"33.2875\" xlink:href=\"#m612c71b82c\" y=\"10.999219\"/>\n",
              "      </g>\n",
              "     </g>\n",
              "     <g id=\"text_5\">\n",
              "      <!-- 0 -->\n",
              "      <g transform=\"translate(19.925 14.798437)scale(0.1 -0.1)\">\n",
              "       <use xlink:href=\"#DejaVuSans-48\"/>\n",
              "      </g>\n",
              "     </g>\n",
              "    </g>\n",
              "    <g id=\"ytick_2\">\n",
              "     <g id=\"line2d_6\">\n",
              "      <g>\n",
              "       <use style=\"stroke:#000000;stroke-width:0.8;\" x=\"33.2875\" xlink:href=\"#m612c71b82c\" y=\"35.223818\"/>\n",
              "      </g>\n",
              "     </g>\n",
              "     <g id=\"text_6\">\n",
              "      <!-- 100 -->\n",
              "      <g transform=\"translate(7.2 39.023036)scale(0.1 -0.1)\">\n",
              "       <defs>\n",
              "        <path d=\"M 12.40625 8.296875 \n",
              "L 28.515625 8.296875 \n",
              "L 28.515625 63.921875 \n",
              "L 10.984375 60.40625 \n",
              "L 10.984375 69.390625 \n",
              "L 28.421875 72.90625 \n",
              "L 38.28125 72.90625 \n",
              "L 38.28125 8.296875 \n",
              "L 54.390625 8.296875 \n",
              "L 54.390625 0 \n",
              "L 12.40625 0 \n",
              "z\n",
              "\" id=\"DejaVuSans-49\"/>\n",
              "       </defs>\n",
              "       <use xlink:href=\"#DejaVuSans-49\"/>\n",
              "       <use x=\"63.623047\" xlink:href=\"#DejaVuSans-48\"/>\n",
              "       <use x=\"127.246094\" xlink:href=\"#DejaVuSans-48\"/>\n",
              "      </g>\n",
              "     </g>\n",
              "    </g>\n",
              "    <g id=\"ytick_3\">\n",
              "     <g id=\"line2d_7\">\n",
              "      <g>\n",
              "       <use style=\"stroke:#000000;stroke-width:0.8;\" x=\"33.2875\" xlink:href=\"#m612c71b82c\" y=\"59.448417\"/>\n",
              "      </g>\n",
              "     </g>\n",
              "     <g id=\"text_7\">\n",
              "      <!-- 200 -->\n",
              "      <g transform=\"translate(7.2 63.247635)scale(0.1 -0.1)\">\n",
              "       <use xlink:href=\"#DejaVuSans-50\"/>\n",
              "       <use x=\"63.623047\" xlink:href=\"#DejaVuSans-48\"/>\n",
              "       <use x=\"127.246094\" xlink:href=\"#DejaVuSans-48\"/>\n",
              "      </g>\n",
              "     </g>\n",
              "    </g>\n",
              "    <g id=\"ytick_4\">\n",
              "     <g id=\"line2d_8\">\n",
              "      <g>\n",
              "       <use style=\"stroke:#000000;stroke-width:0.8;\" x=\"33.2875\" xlink:href=\"#m612c71b82c\" y=\"83.673016\"/>\n",
              "      </g>\n",
              "     </g>\n",
              "     <g id=\"text_8\">\n",
              "      <!-- 300 -->\n",
              "      <g transform=\"translate(7.2 87.472234)scale(0.1 -0.1)\">\n",
              "       <defs>\n",
              "        <path d=\"M 40.578125 39.3125 \n",
              "Q 47.65625 37.796875 51.625 33 \n",
              "Q 55.609375 28.21875 55.609375 21.1875 \n",
              "Q 55.609375 10.40625 48.1875 4.484375 \n",
              "Q 40.765625 -1.421875 27.09375 -1.421875 \n",
              "Q 22.515625 -1.421875 17.65625 -0.515625 \n",
              "Q 12.796875 0.390625 7.625 2.203125 \n",
              "L 7.625 11.71875 \n",
              "Q 11.71875 9.328125 16.59375 8.109375 \n",
              "Q 21.484375 6.890625 26.8125 6.890625 \n",
              "Q 36.078125 6.890625 40.9375 10.546875 \n",
              "Q 45.796875 14.203125 45.796875 21.1875 \n",
              "Q 45.796875 27.640625 41.28125 31.265625 \n",
              "Q 36.765625 34.90625 28.71875 34.90625 \n",
              "L 20.21875 34.90625 \n",
              "L 20.21875 43.015625 \n",
              "L 29.109375 43.015625 \n",
              "Q 36.375 43.015625 40.234375 45.921875 \n",
              "Q 44.09375 48.828125 44.09375 54.296875 \n",
              "Q 44.09375 59.90625 40.109375 62.90625 \n",
              "Q 36.140625 65.921875 28.71875 65.921875 \n",
              "Q 24.65625 65.921875 20.015625 65.03125 \n",
              "Q 15.375 64.15625 9.8125 62.3125 \n",
              "L 9.8125 71.09375 \n",
              "Q 15.4375 72.65625 20.34375 73.4375 \n",
              "Q 25.25 74.21875 29.59375 74.21875 \n",
              "Q 40.828125 74.21875 47.359375 69.109375 \n",
              "Q 53.90625 64.015625 53.90625 55.328125 \n",
              "Q 53.90625 49.265625 50.4375 45.09375 \n",
              "Q 46.96875 40.921875 40.578125 39.3125 \n",
              "z\n",
              "\" id=\"DejaVuSans-51\"/>\n",
              "       </defs>\n",
              "       <use xlink:href=\"#DejaVuSans-51\"/>\n",
              "       <use x=\"63.623047\" xlink:href=\"#DejaVuSans-48\"/>\n",
              "       <use x=\"127.246094\" xlink:href=\"#DejaVuSans-48\"/>\n",
              "      </g>\n",
              "     </g>\n",
              "    </g>\n",
              "    <g id=\"ytick_5\">\n",
              "     <g id=\"line2d_9\">\n",
              "      <g>\n",
              "       <use style=\"stroke:#000000;stroke-width:0.8;\" x=\"33.2875\" xlink:href=\"#m612c71b82c\" y=\"107.897614\"/>\n",
              "      </g>\n",
              "     </g>\n",
              "     <g id=\"text_9\">\n",
              "      <!-- 400 -->\n",
              "      <g transform=\"translate(7.2 111.696833)scale(0.1 -0.1)\">\n",
              "       <use xlink:href=\"#DejaVuSans-52\"/>\n",
              "       <use x=\"63.623047\" xlink:href=\"#DejaVuSans-48\"/>\n",
              "       <use x=\"127.246094\" xlink:href=\"#DejaVuSans-48\"/>\n",
              "      </g>\n",
              "     </g>\n",
              "    </g>\n",
              "    <g id=\"ytick_6\">\n",
              "     <g id=\"line2d_10\">\n",
              "      <g>\n",
              "       <use style=\"stroke:#000000;stroke-width:0.8;\" x=\"33.2875\" xlink:href=\"#m612c71b82c\" y=\"132.122213\"/>\n",
              "      </g>\n",
              "     </g>\n",
              "     <g id=\"text_10\">\n",
              "      <!-- 500 -->\n",
              "      <g transform=\"translate(7.2 135.921432)scale(0.1 -0.1)\">\n",
              "       <defs>\n",
              "        <path d=\"M 10.796875 72.90625 \n",
              "L 49.515625 72.90625 \n",
              "L 49.515625 64.59375 \n",
              "L 19.828125 64.59375 \n",
              "L 19.828125 46.734375 \n",
              "Q 21.96875 47.46875 24.109375 47.828125 \n",
              "Q 26.265625 48.1875 28.421875 48.1875 \n",
              "Q 40.625 48.1875 47.75 41.5 \n",
              "Q 54.890625 34.8125 54.890625 23.390625 \n",
              "Q 54.890625 11.625 47.5625 5.09375 \n",
              "Q 40.234375 -1.421875 26.90625 -1.421875 \n",
              "Q 22.3125 -1.421875 17.546875 -0.640625 \n",
              "Q 12.796875 0.140625 7.71875 1.703125 \n",
              "L 7.71875 11.625 \n",
              "Q 12.109375 9.234375 16.796875 8.0625 \n",
              "Q 21.484375 6.890625 26.703125 6.890625 \n",
              "Q 35.15625 6.890625 40.078125 11.328125 \n",
              "Q 45.015625 15.765625 45.015625 23.390625 \n",
              "Q 45.015625 31 40.078125 35.4375 \n",
              "Q 35.15625 39.890625 26.703125 39.890625 \n",
              "Q 22.75 39.890625 18.8125 39.015625 \n",
              "Q 14.890625 38.140625 10.796875 36.28125 \n",
              "z\n",
              "\" id=\"DejaVuSans-53\"/>\n",
              "       </defs>\n",
              "       <use xlink:href=\"#DejaVuSans-53\"/>\n",
              "       <use x=\"63.623047\" xlink:href=\"#DejaVuSans-48\"/>\n",
              "       <use x=\"127.246094\" xlink:href=\"#DejaVuSans-48\"/>\n",
              "      </g>\n",
              "     </g>\n",
              "    </g>\n",
              "   </g>\n",
              "   <g id=\"patch_5\">\n",
              "    <path d=\"M 33.2875 146.778096 \n",
              "L 33.2875 10.878096 \n",
              "\" style=\"fill:none;stroke:#000000;stroke-linecap:square;stroke-linejoin:miter;stroke-width:0.8;\"/>\n",
              "   </g>\n",
              "   <g id=\"patch_6\">\n",
              "    <path d=\"M 209.64258 146.778096 \n",
              "L 209.64258 10.878096 \n",
              "\" style=\"fill:none;stroke:#000000;stroke-linecap:square;stroke-linejoin:miter;stroke-width:0.8;\"/>\n",
              "   </g>\n",
              "   <g id=\"patch_7\">\n",
              "    <path d=\"M 33.2875 146.778096 \n",
              "L 209.64258 146.778096 \n",
              "\" style=\"fill:none;stroke:#000000;stroke-linecap:square;stroke-linejoin:miter;stroke-width:0.8;\"/>\n",
              "   </g>\n",
              "   <g id=\"patch_8\">\n",
              "    <path d=\"M 33.2875 10.878096 \n",
              "L 209.64258 10.878096 \n",
              "\" style=\"fill:none;stroke:#000000;stroke-linecap:square;stroke-linejoin:miter;stroke-width:0.8;\"/>\n",
              "   </g>\n",
              "   <g id=\"text_11\">\n",
              "    <g id=\"patch_9\">\n",
              "     <path d=\"M 27.689835 30.186372 \n",
              "L 74.398429 30.186372 \n",
              "L 74.398429 13.55606 \n",
              "L 27.689835 13.55606 \n",
              "z\n",
              "\" style=\"fill:#0000ff;\"/>\n",
              "    </g>\n",
              "    <!-- dog=0.9 -->\n",
              "    <g style=\"fill:#ffffff;\" transform=\"translate(31.649835 24.354654)scale(0.09 -0.09)\">\n",
              "     <defs>\n",
              "      <path d=\"M 45.40625 46.390625 \n",
              "L 45.40625 75.984375 \n",
              "L 54.390625 75.984375 \n",
              "L 54.390625 0 \n",
              "L 45.40625 0 \n",
              "L 45.40625 8.203125 \n",
              "Q 42.578125 3.328125 38.25 0.953125 \n",
              "Q 33.9375 -1.421875 27.875 -1.421875 \n",
              "Q 17.96875 -1.421875 11.734375 6.484375 \n",
              "Q 5.515625 14.40625 5.515625 27.296875 \n",
              "Q 5.515625 40.1875 11.734375 48.09375 \n",
              "Q 17.96875 56 27.875 56 \n",
              "Q 33.9375 56 38.25 53.625 \n",
              "Q 42.578125 51.265625 45.40625 46.390625 \n",
              "z\n",
              "M 14.796875 27.296875 \n",
              "Q 14.796875 17.390625 18.875 11.75 \n",
              "Q 22.953125 6.109375 30.078125 6.109375 \n",
              "Q 37.203125 6.109375 41.296875 11.75 \n",
              "Q 45.40625 17.390625 45.40625 27.296875 \n",
              "Q 45.40625 37.203125 41.296875 42.84375 \n",
              "Q 37.203125 48.484375 30.078125 48.484375 \n",
              "Q 22.953125 48.484375 18.875 42.84375 \n",
              "Q 14.796875 37.203125 14.796875 27.296875 \n",
              "z\n",
              "\" id=\"DejaVuSans-100\"/>\n",
              "      <path d=\"M 30.609375 48.390625 \n",
              "Q 23.390625 48.390625 19.1875 42.75 \n",
              "Q 14.984375 37.109375 14.984375 27.296875 \n",
              "Q 14.984375 17.484375 19.15625 11.84375 \n",
              "Q 23.34375 6.203125 30.609375 6.203125 \n",
              "Q 37.796875 6.203125 41.984375 11.859375 \n",
              "Q 46.1875 17.53125 46.1875 27.296875 \n",
              "Q 46.1875 37.015625 41.984375 42.703125 \n",
              "Q 37.796875 48.390625 30.609375 48.390625 \n",
              "z\n",
              "M 30.609375 56 \n",
              "Q 42.328125 56 49.015625 48.375 \n",
              "Q 55.71875 40.765625 55.71875 27.296875 \n",
              "Q 55.71875 13.875 49.015625 6.21875 \n",
              "Q 42.328125 -1.421875 30.609375 -1.421875 \n",
              "Q 18.84375 -1.421875 12.171875 6.21875 \n",
              "Q 5.515625 13.875 5.515625 27.296875 \n",
              "Q 5.515625 40.765625 12.171875 48.375 \n",
              "Q 18.84375 56 30.609375 56 \n",
              "z\n",
              "\" id=\"DejaVuSans-111\"/>\n",
              "      <path d=\"M 45.40625 27.984375 \n",
              "Q 45.40625 37.75 41.375 43.109375 \n",
              "Q 37.359375 48.484375 30.078125 48.484375 \n",
              "Q 22.859375 48.484375 18.828125 43.109375 \n",
              "Q 14.796875 37.75 14.796875 27.984375 \n",
              "Q 14.796875 18.265625 18.828125 12.890625 \n",
              "Q 22.859375 7.515625 30.078125 7.515625 \n",
              "Q 37.359375 7.515625 41.375 12.890625 \n",
              "Q 45.40625 18.265625 45.40625 27.984375 \n",
              "z\n",
              "M 54.390625 6.78125 \n",
              "Q 54.390625 -7.171875 48.1875 -13.984375 \n",
              "Q 42 -20.796875 29.203125 -20.796875 \n",
              "Q 24.46875 -20.796875 20.265625 -20.09375 \n",
              "Q 16.0625 -19.390625 12.109375 -17.921875 \n",
              "L 12.109375 -9.1875 \n",
              "Q 16.0625 -11.328125 19.921875 -12.34375 \n",
              "Q 23.78125 -13.375 27.78125 -13.375 \n",
              "Q 36.625 -13.375 41.015625 -8.765625 \n",
              "Q 45.40625 -4.15625 45.40625 5.171875 \n",
              "L 45.40625 9.625 \n",
              "Q 42.625 4.78125 38.28125 2.390625 \n",
              "Q 33.9375 0 27.875 0 \n",
              "Q 17.828125 0 11.671875 7.65625 \n",
              "Q 5.515625 15.328125 5.515625 27.984375 \n",
              "Q 5.515625 40.671875 11.671875 48.328125 \n",
              "Q 17.828125 56 27.875 56 \n",
              "Q 33.9375 56 38.28125 53.609375 \n",
              "Q 42.625 51.21875 45.40625 46.390625 \n",
              "L 45.40625 54.6875 \n",
              "L 54.390625 54.6875 \n",
              "z\n",
              "\" id=\"DejaVuSans-103\"/>\n",
              "      <path d=\"M 10.59375 45.40625 \n",
              "L 73.1875 45.40625 \n",
              "L 73.1875 37.203125 \n",
              "L 10.59375 37.203125 \n",
              "z\n",
              "M 10.59375 25.484375 \n",
              "L 73.1875 25.484375 \n",
              "L 73.1875 17.1875 \n",
              "L 10.59375 17.1875 \n",
              "z\n",
              "\" id=\"DejaVuSans-61\"/>\n",
              "      <path d=\"M 10.6875 12.40625 \n",
              "L 21 12.40625 \n",
              "L 21 0 \n",
              "L 10.6875 0 \n",
              "z\n",
              "\" id=\"DejaVuSans-46\"/>\n",
              "      <path d=\"M 10.984375 1.515625 \n",
              "L 10.984375 10.5 \n",
              "Q 14.703125 8.734375 18.5 7.8125 \n",
              "Q 22.3125 6.890625 25.984375 6.890625 \n",
              "Q 35.75 6.890625 40.890625 13.453125 \n",
              "Q 46.046875 20.015625 46.78125 33.40625 \n",
              "Q 43.953125 29.203125 39.59375 26.953125 \n",
              "Q 35.25 24.703125 29.984375 24.703125 \n",
              "Q 19.046875 24.703125 12.671875 31.3125 \n",
              "Q 6.296875 37.9375 6.296875 49.421875 \n",
              "Q 6.296875 60.640625 12.9375 67.421875 \n",
              "Q 19.578125 74.21875 30.609375 74.21875 \n",
              "Q 43.265625 74.21875 49.921875 64.515625 \n",
              "Q 56.59375 54.828125 56.59375 36.375 \n",
              "Q 56.59375 19.140625 48.40625 8.859375 \n",
              "Q 40.234375 -1.421875 26.421875 -1.421875 \n",
              "Q 22.703125 -1.421875 18.890625 -0.6875 \n",
              "Q 15.09375 0.046875 10.984375 1.515625 \n",
              "z\n",
              "M 30.609375 32.421875 \n",
              "Q 37.25 32.421875 41.125 36.953125 \n",
              "Q 45.015625 41.5 45.015625 49.421875 \n",
              "Q 45.015625 57.28125 41.125 61.84375 \n",
              "Q 37.25 66.40625 30.609375 66.40625 \n",
              "Q 23.96875 66.40625 20.09375 61.84375 \n",
              "Q 16.21875 57.28125 16.21875 49.421875 \n",
              "Q 16.21875 41.5 20.09375 36.953125 \n",
              "Q 23.96875 32.421875 30.609375 32.421875 \n",
              "z\n",
              "\" id=\"DejaVuSans-57\"/>\n",
              "     </defs>\n",
              "     <use xlink:href=\"#DejaVuSans-100\"/>\n",
              "     <use x=\"63.476562\" xlink:href=\"#DejaVuSans-111\"/>\n",
              "     <use x=\"124.658203\" xlink:href=\"#DejaVuSans-103\"/>\n",
              "     <use x=\"188.134766\" xlink:href=\"#DejaVuSans-61\"/>\n",
              "     <use x=\"271.923828\" xlink:href=\"#DejaVuSans-48\"/>\n",
              "     <use x=\"335.546875\" xlink:href=\"#DejaVuSans-46\"/>\n",
              "     <use x=\"367.333984\" xlink:href=\"#DejaVuSans-57\"/>\n",
              "    </g>\n",
              "   </g>\n",
              "   <g id=\"text_12\">\n",
              "    <g id=\"patch_10\">\n",
              "     <path d=\"M 108.520571 46.494378 \n",
              "L 152.28729 46.494378 \n",
              "L 152.28729 29.864065 \n",
              "L 108.520571 29.864065 \n",
              "z\n",
              "\" style=\"fill:#0000ff;\"/>\n",
              "    </g>\n",
              "    <!-- cat=0.9 -->\n",
              "    <g style=\"fill:#ffffff;\" transform=\"translate(112.480571 40.662659)scale(0.09 -0.09)\">\n",
              "     <defs>\n",
              "      <path d=\"M 48.78125 52.59375 \n",
              "L 48.78125 44.1875 \n",
              "Q 44.96875 46.296875 41.140625 47.34375 \n",
              "Q 37.3125 48.390625 33.40625 48.390625 \n",
              "Q 24.65625 48.390625 19.8125 42.84375 \n",
              "Q 14.984375 37.3125 14.984375 27.296875 \n",
              "Q 14.984375 17.28125 19.8125 11.734375 \n",
              "Q 24.65625 6.203125 33.40625 6.203125 \n",
              "Q 37.3125 6.203125 41.140625 7.25 \n",
              "Q 44.96875 8.296875 48.78125 10.40625 \n",
              "L 48.78125 2.09375 \n",
              "Q 45.015625 0.34375 40.984375 -0.53125 \n",
              "Q 36.96875 -1.421875 32.421875 -1.421875 \n",
              "Q 20.0625 -1.421875 12.78125 6.34375 \n",
              "Q 5.515625 14.109375 5.515625 27.296875 \n",
              "Q 5.515625 40.671875 12.859375 48.328125 \n",
              "Q 20.21875 56 33.015625 56 \n",
              "Q 37.15625 56 41.109375 55.140625 \n",
              "Q 45.0625 54.296875 48.78125 52.59375 \n",
              "z\n",
              "\" id=\"DejaVuSans-99\"/>\n",
              "      <path d=\"M 34.28125 27.484375 \n",
              "Q 23.390625 27.484375 19.1875 25 \n",
              "Q 14.984375 22.515625 14.984375 16.5 \n",
              "Q 14.984375 11.71875 18.140625 8.90625 \n",
              "Q 21.296875 6.109375 26.703125 6.109375 \n",
              "Q 34.1875 6.109375 38.703125 11.40625 \n",
              "Q 43.21875 16.703125 43.21875 25.484375 \n",
              "L 43.21875 27.484375 \n",
              "z\n",
              "M 52.203125 31.203125 \n",
              "L 52.203125 0 \n",
              "L 43.21875 0 \n",
              "L 43.21875 8.296875 \n",
              "Q 40.140625 3.328125 35.546875 0.953125 \n",
              "Q 30.953125 -1.421875 24.3125 -1.421875 \n",
              "Q 15.921875 -1.421875 10.953125 3.296875 \n",
              "Q 6 8.015625 6 15.921875 \n",
              "Q 6 25.140625 12.171875 29.828125 \n",
              "Q 18.359375 34.515625 30.609375 34.515625 \n",
              "L 43.21875 34.515625 \n",
              "L 43.21875 35.40625 \n",
              "Q 43.21875 41.609375 39.140625 45 \n",
              "Q 35.0625 48.390625 27.6875 48.390625 \n",
              "Q 23 48.390625 18.546875 47.265625 \n",
              "Q 14.109375 46.140625 10.015625 43.890625 \n",
              "L 10.015625 52.203125 \n",
              "Q 14.9375 54.109375 19.578125 55.046875 \n",
              "Q 24.21875 56 28.609375 56 \n",
              "Q 40.484375 56 46.34375 49.84375 \n",
              "Q 52.203125 43.703125 52.203125 31.203125 \n",
              "z\n",
              "\" id=\"DejaVuSans-97\"/>\n",
              "      <path d=\"M 18.3125 70.21875 \n",
              "L 18.3125 54.6875 \n",
              "L 36.8125 54.6875 \n",
              "L 36.8125 47.703125 \n",
              "L 18.3125 47.703125 \n",
              "L 18.3125 18.015625 \n",
              "Q 18.3125 11.328125 20.140625 9.421875 \n",
              "Q 21.96875 7.515625 27.59375 7.515625 \n",
              "L 36.8125 7.515625 \n",
              "L 36.8125 0 \n",
              "L 27.59375 0 \n",
              "Q 17.1875 0 13.234375 3.875 \n",
              "Q 9.28125 7.765625 9.28125 18.015625 \n",
              "L 9.28125 47.703125 \n",
              "L 2.6875 47.703125 \n",
              "L 2.6875 54.6875 \n",
              "L 9.28125 54.6875 \n",
              "L 9.28125 70.21875 \n",
              "z\n",
              "\" id=\"DejaVuSans-116\"/>\n",
              "     </defs>\n",
              "     <use xlink:href=\"#DejaVuSans-99\"/>\n",
              "     <use x=\"54.980469\" xlink:href=\"#DejaVuSans-97\"/>\n",
              "     <use x=\"116.259766\" xlink:href=\"#DejaVuSans-116\"/>\n",
              "     <use x=\"155.46875\" xlink:href=\"#DejaVuSans-61\"/>\n",
              "     <use x=\"239.257812\" xlink:href=\"#DejaVuSans-48\"/>\n",
              "     <use x=\"302.880859\" xlink:href=\"#DejaVuSans-46\"/>\n",
              "     <use x=\"334.667969\" xlink:href=\"#DejaVuSans-57\"/>\n",
              "    </g>\n",
              "   </g>\n",
              "  </g>\n",
              " </g>\n",
              " <defs>\n",
              "  <clipPath id=\"pb9e93975d1\">\n",
              "   <rect height=\"135.9\" width=\"176.35508\" x=\"33.2875\" y=\"10.878096\"/>\n",
              "  </clipPath>\n",
              " </defs>\n",
              "</svg>\n"
            ],
            "text/plain": [
              "<Figure size 252x180 with 1 Axes>"
            ]
          },
          "metadata": {
            "needs_background": "light"
          },
          "output_type": "display_data"
        }
      ],
      "source": [
        "fig = d2l.plt.imshow(img)\n",
        "for i in output[0].detach().numpy():\n",
        "    if i[0] == -1:\n",
        "        continue\n",
        "    label = ('dog=', 'cat=')[int(i[0])] + str(i[1])\n",
        "    show_bboxes(fig.axes, [torch.tensor(i[2:]) * bbox_scale], label)"
      ]
    },
    {
      "cell_type": "markdown",
      "metadata": {
        "origin_pos": 54,
        "id": "ge6Vno23HEjv"
      },
      "source": [
        "实践中，在执行非极大值抑制前，我们甚至可以将置信度较低的预测边界框移除，从而减少此算法中的计算量。\n",
        "我们也可以对非极大值抑制的输出结果进行后处理。例如，只保留置信度更高的结果作为最终输出。\n",
        "\n",
        "## 小结\n",
        "\n",
        "* 我们以图像的每个像素为中心生成不同形状的锚框。\n",
        "* 交并比（IoU）也被称为杰卡德系数，用于衡量两个边界框的相似性。它是相交面积与相并面积的比率。\n",
        "* 在训练集中，我们需要给每个锚框两种类型的标签。一个是与锚框中目标检测的类别，另一个是锚框真实相对于边界框的偏移量。\n",
        "* 在预测期间，我们可以使用非极大值抑制（NMS）来移除类似的预测边界框，从而简化输出。\n",
        "\n",
        "## 练习\n",
        "\n",
        "1. 在`multibox_prior`函数中更改`sizes`和`ratios`的值。生成的锚框有什么变化？\n",
        "1. 构建并可视化两个IoU为0.5的边界框。它们是怎样重叠的？\n",
        "1. 在 :numref:`subsec_labeling-anchor-boxes`和 :numref:`subsec_predicting-bounding-boxes-nms`中修改变量`anchors`，结果如何变化？\n",
        "1. 非极大值抑制是一种贪心算法，它通过*移除*来抑制预测的边界框。是否存在一种可能，被移除的一些框实际上是有用的？如何修改这个算法来柔和地抑制？你可以参考Soft-NMS :cite:`Bodla.Singh.Chellappa.ea.2017`。\n",
        "1. 如果非手动，非最大限度的抑制可以被学习吗？\n"
      ]
    },
    {
      "cell_type": "markdown",
      "metadata": {
        "origin_pos": 56,
        "tab": [
          "pytorch"
        ],
        "id": "lh_LY0s_HEjv"
      },
      "source": [
        "[Discussions](https://discuss.d2l.ai/t/2946)\n"
      ]
    }
  ],
  "metadata": {
    "kernelspec": {
      "display_name": "Python 3",
      "name": "python3"
    },
    "language_info": {
      "name": "python"
    },
    "colab": {
      "name": "anchor.ipynb",
      "provenance": [],
      "include_colab_link": true
    }
  },
  "nbformat": 4,
  "nbformat_minor": 0
}