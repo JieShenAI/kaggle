{
  "nbformat": 4,
  "nbformat_minor": 0,
  "metadata": {
    "colab": {
      "name": "max_pooling.ipynb",
      "provenance": [],
      "collapsed_sections": [],
      "toc_visible": true,
      "authorship_tag": "ABX9TyOv1TO1FaJcQ8zoW3Qpj0mc",
      "include_colab_link": true
    },
    "kernelspec": {
      "name": "python3",
      "display_name": "Python 3"
    },
    "language_info": {
      "name": "python"
    }
  },
  "cells": [
    {
      "cell_type": "markdown",
      "metadata": {
        "id": "view-in-github",
        "colab_type": "text"
      },
      "source": [
        "<a href=\"https://colab.research.google.com/github/JieShenAI/kaggle/blob/main/mli/conv/max_pooling.ipynb\" target=\"_parent\"><img src=\"https://colab.research.google.com/assets/colab-badge.svg\" alt=\"Open In Colab\"/></a>"
      ]
    },
    {
      "cell_type": "code",
      "execution_count": 1,
      "metadata": {
        "id": "PL3SCPAF9dNB"
      },
      "outputs": [],
      "source": [
        "import torch\n",
        "from torch import nn"
      ]
    },
    {
      "cell_type": "code",
      "source": [
        "x = torch.arange(16.).reshape(1,1,4,4)"
      ],
      "metadata": {
        "id": "5PSc9U8y9x74"
      },
      "execution_count": 2,
      "outputs": []
    },
    {
      "cell_type": "code",
      "source": [
        "x,x.shape"
      ],
      "metadata": {
        "colab": {
          "base_uri": "https://localhost:8080/"
        },
        "id": "TSV88gTe98ij",
        "outputId": "db63bd5f-ee1e-412f-bd6e-23214a8dc8b0"
      },
      "execution_count": 3,
      "outputs": [
        {
          "output_type": "execute_result",
          "data": {
            "text/plain": [
              "(tensor([[[[ 0.,  1.,  2.,  3.],\n",
              "           [ 4.,  5.,  6.,  7.],\n",
              "           [ 8.,  9., 10., 11.],\n",
              "           [12., 13., 14., 15.]]]]), torch.Size([1, 1, 4, 4]))"
            ]
          },
          "metadata": {},
          "execution_count": 3
        }
      ]
    },
    {
      "cell_type": "markdown",
      "source": [
        "# 默认参数"
      ],
      "metadata": {
        "id": "wvAyGukeDdOf"
      }
    },
    {
      "cell_type": "markdown",
      "source": [
        "默认没有padding,stride默认等于kernel size"
      ],
      "metadata": {
        "id": "09qxd_Iy-bBN"
      }
    },
    {
      "cell_type": "code",
      "source": [
        "pool2d = nn.MaxPool2d(3)\n",
        "pool2d(x)"
      ],
      "metadata": {
        "colab": {
          "base_uri": "https://localhost:8080/"
        },
        "id": "tBKVkxW59jkh",
        "outputId": "fa8299ba-3f4f-46fb-d8ea-ed94683f6231"
      },
      "execution_count": 8,
      "outputs": [
        {
          "output_type": "execute_result",
          "data": {
            "text/plain": [
              "tensor([[[[10.]]]])"
            ]
          },
          "metadata": {},
          "execution_count": 8
        }
      ]
    },
    {
      "cell_type": "markdown",
      "source": [
        "# 设置padding,stride"
      ],
      "metadata": {
        "id": "p87zuxIE-jh3"
      }
    },
    {
      "cell_type": "code",
      "source": [
        "pool2d = nn.MaxPool2d(2,stride=1,padding=1)\n",
        "pool2d(x)"
      ],
      "metadata": {
        "colab": {
          "base_uri": "https://localhost:8080/"
        },
        "id": "a7D_cTym-On7",
        "outputId": "3fc5ab5d-c6f2-4847-d0cb-7930e5b445fa"
      },
      "execution_count": 10,
      "outputs": [
        {
          "output_type": "execute_result",
          "data": {
            "text/plain": [
              "tensor([[[[ 0.,  1.,  2.,  3.,  3.],\n",
              "          [ 4.,  5.,  6.,  7.,  7.],\n",
              "          [ 8.,  9., 10., 11., 11.],\n",
              "          [12., 13., 14., 15., 15.],\n",
              "          [12., 13., 14., 15., 15.]]]])"
            ]
          },
          "metadata": {},
          "execution_count": 10
        }
      ]
    },
    {
      "cell_type": "markdown",
      "source": [
        "设置任意的窗口大小"
      ],
      "metadata": {
        "id": "K4RoF3Gc-_C-"
      }
    },
    {
      "cell_type": "code",
      "source": [
        "pool2d = nn.MaxPool2d((1,2))\n",
        "pool2d(x)"
      ],
      "metadata": {
        "colab": {
          "base_uri": "https://localhost:8080/"
        },
        "id": "wz351T4L_D2H",
        "outputId": "7f19d4ab-1a4b-4884-d9bd-4247fbc2c5cd"
      },
      "execution_count": 11,
      "outputs": [
        {
          "output_type": "execute_result",
          "data": {
            "text/plain": [
              "tensor([[[[ 1.,  3.],\n",
              "          [ 5.,  7.],\n",
              "          [ 9., 11.],\n",
              "          [13., 15.]]]])"
            ]
          },
          "metadata": {},
          "execution_count": 11
        }
      ]
    },
    {
      "cell_type": "markdown",
      "source": [
        "# 每个通道单独计算"
      ],
      "metadata": {
        "id": "d4FH6YiHDX4-"
      }
    },
    {
      "cell_type": "markdown",
      "source": [
        "`torch.cat`,若想直到其他连接函数，可以查看stack"
      ],
      "metadata": {
        "id": "-AMiamr9D_xb"
      }
    },
    {
      "cell_type": "code",
      "source": [
        "channel_x = torch.cat((x,x+1),1)\n",
        "channel_x,channel_x.shape"
      ],
      "metadata": {
        "colab": {
          "base_uri": "https://localhost:8080/"
        },
        "id": "O7CCGh9a_Kuc",
        "outputId": "73d11028-3887-4745-959f-8a655b2cf15b"
      },
      "execution_count": 16,
      "outputs": [
        {
          "output_type": "execute_result",
          "data": {
            "text/plain": [
              "(tensor([[[[ 0.,  1.,  2.,  3.],\n",
              "           [ 4.,  5.,  6.,  7.],\n",
              "           [ 8.,  9., 10., 11.],\n",
              "           [12., 13., 14., 15.]],\n",
              " \n",
              "          [[ 1.,  2.,  3.,  4.],\n",
              "           [ 5.,  6.,  7.,  8.],\n",
              "           [ 9., 10., 11., 12.],\n",
              "           [13., 14., 15., 16.]]]]), torch.Size([1, 2, 4, 4]))"
            ]
          },
          "metadata": {},
          "execution_count": 16
        }
      ]
    },
    {
      "cell_type": "code",
      "source": [
        "pool2d = nn.MaxPool2d(2)\n",
        "channel_y = pool2d(channel_x)\n",
        "channel_y,channel_y.shape"
      ],
      "metadata": {
        "colab": {
          "base_uri": "https://localhost:8080/"
        },
        "id": "pxrBdfZs_sAp",
        "outputId": "27d71c12-4a6d-4ed1-f069-a597f9ad1931"
      },
      "execution_count": 18,
      "outputs": [
        {
          "output_type": "execute_result",
          "data": {
            "text/plain": [
              "(tensor([[[[ 5.,  7.],\n",
              "           [13., 15.]],\n",
              " \n",
              "          [[ 6.,  8.],\n",
              "           [14., 16.]]]]), torch.Size([1, 2, 2, 2]))"
            ]
          },
          "metadata": {},
          "execution_count": 18
        }
      ]
    }
  ]
}