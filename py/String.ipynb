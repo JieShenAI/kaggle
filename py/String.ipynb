{
  "nbformat": 4,
  "nbformat_minor": 0,
  "metadata": {
    "colab": {
      "name": "String.ipynb",
      "provenance": [],
      "toc_visible": true,
      "authorship_tag": "ABX9TyMySsaTvDJpxP0JVJA9kwbO",
      "include_colab_link": true
    },
    "kernelspec": {
      "name": "python3",
      "display_name": "Python 3"
    },
    "language_info": {
      "name": "python"
    }
  },
  "cells": [
    {
      "cell_type": "markdown",
      "metadata": {
        "id": "view-in-github",
        "colab_type": "text"
      },
      "source": [
        "<a href=\"https://colab.research.google.com/github/JieShenAI/kaggle/blob/main/py/String.ipynb\" target=\"_parent\"><img src=\"https://colab.research.google.com/assets/colab-badge.svg\" alt=\"Open In Colab\"/></a>"
      ]
    },
    {
      "cell_type": "markdown",
      "source": [
        "split 多个字符分隔字符串"
      ],
      "metadata": {
        "id": "kkesr2jYEOp3"
      }
    },
    {
      "cell_type": "markdown",
      "source": [
        " re模块的split()函数可以使用多个分隔符对句子进行分割，其中不同的分隔符要用 “|” 隔开。"
      ],
      "metadata": {
        "id": "lJkrN_QSGBO9"
      }
    },
    {
      "cell_type": "code",
      "source": [
        "import re"
      ],
      "metadata": {
        "id": "apYVd7ZEFhBt"
      },
      "execution_count": 8,
      "outputs": []
    },
    {
      "cell_type": "code",
      "execution_count": 1,
      "metadata": {
        "id": "Jekac41aEMto"
      },
      "outputs": [],
      "source": [
        "L = \"123,12,21,2,1\""
      ]
    },
    {
      "cell_type": "code",
      "source": [
        "re.split(\",|2\",L)"
      ],
      "metadata": {
        "colab": {
          "base_uri": "https://localhost:8080/"
        },
        "id": "M6OnAsqeEUTw",
        "outputId": "6519cebe-17b9-46dd-a829-08563a5436e0"
      },
      "execution_count": 9,
      "outputs": [
        {
          "output_type": "execute_result",
          "data": {
            "text/plain": [
              "['1', '3', '1', '', '', '1', '', '', '1']"
            ]
          },
          "metadata": {},
          "execution_count": 9
        }
      ]
    }
  ]
}